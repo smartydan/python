{
 "cells": [
  {
   "cell_type": "markdown",
   "source": [
    "# Проект\n",
    "В данном учебном проекте я учился работать с библиотекой pandas, анализируя датасет о фильмах"
   ],
   "metadata": {
    "collapsed": false
   }
  },
  {
   "cell_type": "code",
   "execution_count": 1,
   "metadata": {
    "_cell_guid": "b1076dfc-b9ad-4769-8c92-a6c4dae69d19",
    "_uuid": "8f2839f25d086af736a60e9eeb907d3b93b6e0e5",
    "colab": {},
    "colab_type": "code",
    "id": "U2D2gTdJVp90"
   },
   "outputs": [],
   "source": [
    "import numpy as np\n",
    "import pandas as pd\n",
    "from itertools import combinations\n",
    "from collections import Counter"
   ]
  },
  {
   "cell_type": "code",
   "execution_count": 2,
   "metadata": {
    "_cell_guid": "79c7e3d0-c299-4dcb-8224-4455121ee9b0",
    "_uuid": "d629ff2d2480ee46fbb7e2d37f6b5fab8052498a",
    "colab": {},
    "colab_type": "code",
    "id": "oyGfxL3eVp9-",
    "scrolled": true
   },
   "outputs": [
    {
     "data": {
      "text/plain": "        imdb_id     budget    revenue        original_title  \\\n157   tt0829150   70000000  215529201        Dracula Untold   \n1629  tt0381707   37000000  113086475          White Chicks   \n1073  tt1047540   25000000  119772232     Parental Guidance   \n1480  tt0418689   90000000   65900249  Flags of Our Fathers   \n1323  tt0360486  100000000  230427240           Constantine   \n\n                                                   cast             director  \\\n157   Luke Evans|Sarah Gadon|Dominic Cooper|Art Park...           Gary Shore   \n1629  Shawn Wayans|Marlon Wayans|Jaime King|Frankie ...  Keenen Ivory Wayans   \n1073  Billy Crystal|Bette Midler|Marisa Tomei|Tom Ev...         Andy Fickman   \n1480  Ryan Phillippe|Adam Beach|Jesse Bradford|John ...       Clint Eastwood   \n1323  Keanu Reeves|Rachel Weisz|Shia LaBeouf|Djimon ...     Francis Lawrence   \n\n                                                tagline  \\\n157                     Every bloodline has a beginning   \n1629                     They're going deep undercover.   \n1073   Here come the grandparents.  There go the rules.   \n1480  They fight for their country but they die for ...   \n1323  Hell Wants Him, Heaven Won't Take Him, Earth N...   \n\n                                               overview  runtime  \\\n157   Vlad Tepes is a great hero, but when he learns...       92   \n1629  Two FBI agent brothers, Marcus and Kevin Copel...      109   \n1073  Artie and Diane agree to look after their thre...      104   \n1480  There were five Marines and one Navy Corpsman ...      132   \n1323  John Constantine has literally been to Hell an...      121   \n\n                               genres  \\\n157   Horror|Action|Drama|Fantasy|War   \n1629                           Comedy   \n1073                           Comedy   \n1480                War|Drama|History   \n1323             Drama|Fantasy|Horror   \n\n                                   production_companies release_date  \\\n157   Universal Pictures|Legendary Pictures|Fuji Tel...    10/1/2014   \n1629  Columbia Pictures|Revolution Studios|Wayans Br...    6/23/2004   \n1073  20th Century Fox|Chernin Entertainment|Walden ...   12/25/2012   \n1480  DreamWorks SKG|Amblin Entertainment|Malpaso Pr...   10/19/2006   \n1323  Village Roadshow Pictures|DC Comics|Lonely Fil...    2/15/2005   \n\n      vote_average  release_year  \n157            6.1          2014  \n1629           6.4          2004  \n1073           5.9          2012  \n1480           6.7          2006  \n1323           6.5          2005  ",
      "text/html": "<div>\n<style scoped>\n    .dataframe tbody tr th:only-of-type {\n        vertical-align: middle;\n    }\n\n    .dataframe tbody tr th {\n        vertical-align: top;\n    }\n\n    .dataframe thead th {\n        text-align: right;\n    }\n</style>\n<table border=\"1\" class=\"dataframe\">\n  <thead>\n    <tr style=\"text-align: right;\">\n      <th></th>\n      <th>imdb_id</th>\n      <th>budget</th>\n      <th>revenue</th>\n      <th>original_title</th>\n      <th>cast</th>\n      <th>director</th>\n      <th>tagline</th>\n      <th>overview</th>\n      <th>runtime</th>\n      <th>genres</th>\n      <th>production_companies</th>\n      <th>release_date</th>\n      <th>vote_average</th>\n      <th>release_year</th>\n    </tr>\n  </thead>\n  <tbody>\n    <tr>\n      <th>157</th>\n      <td>tt0829150</td>\n      <td>70000000</td>\n      <td>215529201</td>\n      <td>Dracula Untold</td>\n      <td>Luke Evans|Sarah Gadon|Dominic Cooper|Art Park...</td>\n      <td>Gary Shore</td>\n      <td>Every bloodline has a beginning</td>\n      <td>Vlad Tepes is a great hero, but when he learns...</td>\n      <td>92</td>\n      <td>Horror|Action|Drama|Fantasy|War</td>\n      <td>Universal Pictures|Legendary Pictures|Fuji Tel...</td>\n      <td>10/1/2014</td>\n      <td>6.1</td>\n      <td>2014</td>\n    </tr>\n    <tr>\n      <th>1629</th>\n      <td>tt0381707</td>\n      <td>37000000</td>\n      <td>113086475</td>\n      <td>White Chicks</td>\n      <td>Shawn Wayans|Marlon Wayans|Jaime King|Frankie ...</td>\n      <td>Keenen Ivory Wayans</td>\n      <td>They're going deep undercover.</td>\n      <td>Two FBI agent brothers, Marcus and Kevin Copel...</td>\n      <td>109</td>\n      <td>Comedy</td>\n      <td>Columbia Pictures|Revolution Studios|Wayans Br...</td>\n      <td>6/23/2004</td>\n      <td>6.4</td>\n      <td>2004</td>\n    </tr>\n    <tr>\n      <th>1073</th>\n      <td>tt1047540</td>\n      <td>25000000</td>\n      <td>119772232</td>\n      <td>Parental Guidance</td>\n      <td>Billy Crystal|Bette Midler|Marisa Tomei|Tom Ev...</td>\n      <td>Andy Fickman</td>\n      <td>Here come the grandparents.  There go the rules.</td>\n      <td>Artie and Diane agree to look after their thre...</td>\n      <td>104</td>\n      <td>Comedy</td>\n      <td>20th Century Fox|Chernin Entertainment|Walden ...</td>\n      <td>12/25/2012</td>\n      <td>5.9</td>\n      <td>2012</td>\n    </tr>\n    <tr>\n      <th>1480</th>\n      <td>tt0418689</td>\n      <td>90000000</td>\n      <td>65900249</td>\n      <td>Flags of Our Fathers</td>\n      <td>Ryan Phillippe|Adam Beach|Jesse Bradford|John ...</td>\n      <td>Clint Eastwood</td>\n      <td>They fight for their country but they die for ...</td>\n      <td>There were five Marines and one Navy Corpsman ...</td>\n      <td>132</td>\n      <td>War|Drama|History</td>\n      <td>DreamWorks SKG|Amblin Entertainment|Malpaso Pr...</td>\n      <td>10/19/2006</td>\n      <td>6.7</td>\n      <td>2006</td>\n    </tr>\n    <tr>\n      <th>1323</th>\n      <td>tt0360486</td>\n      <td>100000000</td>\n      <td>230427240</td>\n      <td>Constantine</td>\n      <td>Keanu Reeves|Rachel Weisz|Shia LaBeouf|Djimon ...</td>\n      <td>Francis Lawrence</td>\n      <td>Hell Wants Him, Heaven Won't Take Him, Earth N...</td>\n      <td>John Constantine has literally been to Hell an...</td>\n      <td>121</td>\n      <td>Drama|Fantasy|Horror</td>\n      <td>Village Roadshow Pictures|DC Comics|Lonely Fil...</td>\n      <td>2/15/2005</td>\n      <td>6.5</td>\n      <td>2005</td>\n    </tr>\n  </tbody>\n</table>\n</div>"
     },
     "execution_count": 2,
     "metadata": {},
     "output_type": "execute_result"
    }
   ],
   "source": [
    "data = pd.read_csv('movies.csv')\n",
    "data.sample(5)"
   ]
  },
  {
   "cell_type": "markdown",
   "metadata": {},
   "source": [
    "# Предподготовка"
   ]
  },
  {
   "cell_type": "code",
   "execution_count": 3,
   "metadata": {
    "colab": {},
    "colab_type": "code",
    "id": "jNb40DwKVp-H"
   },
   "outputs": [],
   "source": [
    "answers = dict()\n",
    "i = 1"
   ]
  },
  {
   "cell_type": "code",
   "execution_count": 4,
   "metadata": {},
   "outputs": [],
   "source": [
    "data[\"profit\"] = data[\"revenue\"] - data[\"budget\"]"
   ]
  },
  {
   "cell_type": "markdown",
   "metadata": {
    "colab_type": "text",
    "id": "YxZaH-nPVp-L"
   },
   "source": [
    "# 1. У какого фильма из списка самый большой бюджет?"
   ]
  },
  {
   "cell_type": "code",
   "execution_count": 5,
   "metadata": {
    "colab": {},
    "colab_type": "code",
    "id": "uVnXAY5RVp-O"
   },
   "outputs": [],
   "source": [
    "answers[i] = data.sort_values(by=\"budget\", ascending=False).iloc[0][\"original_title\"]\n",
    "i += 1"
   ]
  },
  {
   "cell_type": "markdown",
   "metadata": {
    "colab_type": "text",
    "id": "FNRbbI3vVp-c"
   },
   "source": [
    "# 2. Какой из фильмов самый длительный (в минутах)?"
   ]
  },
  {
   "cell_type": "code",
   "execution_count": 6,
   "metadata": {
    "colab": {},
    "colab_type": "code",
    "id": "vHAoEXNTVp-d"
   },
   "outputs": [],
   "source": [
    "answers[i] = data.sort_values(by=\"runtime\", ascending=False).iloc[0][\"original_title\"]\n",
    "i += 1"
   ]
  },
  {
   "cell_type": "markdown",
   "metadata": {
    "colab_type": "text",
    "id": "bapLlpW8Vp-k"
   },
   "source": [
    "# 3. Какой из фильмов самый короткий (в минутах)?\n",
    "\n",
    "\n",
    "\n"
   ]
  },
  {
   "cell_type": "code",
   "execution_count": 7,
   "metadata": {},
   "outputs": [],
   "source": [
    "answers[i] = data.sort_values(by=\"runtime\").iloc[0][\"original_title\"]\n",
    "i += 1"
   ]
  },
  {
   "cell_type": "markdown",
   "metadata": {
    "colab_type": "text",
    "id": "TfQbxbfNVp-p"
   },
   "source": [
    "# 4. Какова средняя длительность фильмов?\n"
   ]
  },
  {
   "cell_type": "code",
   "execution_count": 8,
   "metadata": {},
   "outputs": [],
   "source": [
    "answers[i] = np.ceil(data[\"runtime\"].mean())\n",
    "i += 1"
   ]
  },
  {
   "cell_type": "markdown",
   "metadata": {
    "colab_type": "text",
    "id": "r5TvbnT_Vp-u"
   },
   "source": [
    "# 5. Каково медианное значение длительности фильмов? "
   ]
  },
  {
   "cell_type": "code",
   "execution_count": 9,
   "metadata": {
    "colab": {},
    "colab_type": "code",
    "id": "iBROplKnVp-v"
   },
   "outputs": [],
   "source": [
    "answers[i] = data[\"runtime\"].median()\n",
    "i += 1"
   ]
  },
  {
   "cell_type": "markdown",
   "metadata": {
    "colab_type": "text",
    "id": "39P-deDSVp-y"
   },
   "source": [
    "# 6. Какой самый прибыльный фильм?"
   ]
  },
  {
   "cell_type": "code",
   "execution_count": 10,
   "metadata": {
    "colab": {},
    "colab_type": "code",
    "id": "UYZh4T9WVp-y"
   },
   "outputs": [],
   "source": [
    "answers[i] = data.sort_values(by=\"profit\", ascending=False).iloc[0][\"original_title\"]\n",
    "i += 1"
   ]
  },
  {
   "cell_type": "markdown",
   "metadata": {
    "colab_type": "text",
    "id": "M99JmIX4Vp-2"
   },
   "source": [
    "# 7. Какой фильм самый убыточный? "
   ]
  },
  {
   "cell_type": "code",
   "execution_count": 11,
   "metadata": {},
   "outputs": [],
   "source": [
    "answers[i] = data.sort_values(by=\"profit\").iloc[0][\"original_title\"]"
   ]
  },
  {
   "cell_type": "code",
   "execution_count": 12,
   "metadata": {
    "colab": {},
    "colab_type": "code",
    "id": "w-D2m4XPVp-3",
    "scrolled": true
   },
   "outputs": [],
   "source": [
    "i += 1"
   ]
  },
  {
   "cell_type": "markdown",
   "metadata": {
    "colab_type": "text",
    "id": "wEOM5ERVVp-6"
   },
   "source": [
    "# 8. У скольких фильмов из датасета объем сборов оказался выше бюджета?"
   ]
  },
  {
   "cell_type": "code",
   "execution_count": 13,
   "metadata": {},
   "outputs": [],
   "source": [
    "answers[i] = data[data[\"profit\"] > 0].shape[0]\n",
    "i += 1"
   ]
  },
  {
   "cell_type": "markdown",
   "metadata": {
    "colab_type": "text",
    "id": "xhpspA9KVp_A"
   },
   "source": [
    "# 9. Какой фильм оказался самым кассовым в 2008 году?"
   ]
  },
  {
   "cell_type": "code",
   "execution_count": 14,
   "metadata": {},
   "outputs": [],
   "source": [
    "answers[i] = data[data[\"release_year\"] == 2008].sort_values(by=\"revenue\", ascending=False).iloc[0].original_title\n",
    "i += 1"
   ]
  },
  {
   "cell_type": "markdown",
   "metadata": {
    "colab_type": "text",
    "id": "Zi4hDKidVp_F"
   },
   "source": [
    "# 10. Самый убыточный фильм за период с 2012 по 2014 г. (включительно)?\n"
   ]
  },
  {
   "cell_type": "code",
   "execution_count": 15,
   "metadata": {},
   "outputs": [],
   "source": [
    "answers[i] = data[data[\"release_year\"].between(2012, 2014)].sort_values(by=\"profit\").iloc[0].original_title\n",
    "i += 1"
   ]
  },
  {
   "cell_type": "markdown",
   "metadata": {
    "colab_type": "text",
    "id": "EA7Sa9dkVp_I"
   },
   "source": [
    "# 11. Какого жанра фильмов больше всего?"
   ]
  },
  {
   "cell_type": "code",
   "execution_count": 16,
   "metadata": {
    "colab": {},
    "colab_type": "code",
    "id": "zsJAwJ8QVp_J"
   },
   "outputs": [],
   "source": [
    "answers[i] = data[\"genres\"].apply(lambda x: x.split(\"|\")).explode().value_counts().index[0]\n",
    "i += 1"
   ]
  },
  {
   "cell_type": "markdown",
   "metadata": {
    "colab_type": "text",
    "id": "T9_bPWpkVp_Q"
   },
   "source": [
    "# 12. Фильмы какого жанра чаще всего становятся прибыльными? "
   ]
  },
  {
   "cell_type": "code",
   "execution_count": 17,
   "metadata": {
    "colab": {},
    "colab_type": "code",
    "id": "Tmt8MaK1Vp_R"
   },
   "outputs": [],
   "source": [
    "answers[i] = data[data[\"profit\"] > 0][\"genres\"].apply(lambda x: x.split(\"|\")).explode().value_counts().index[0]\n",
    "i += 1"
   ]
  },
  {
   "cell_type": "markdown",
   "metadata": {
    "colab_type": "text",
    "id": "0F23bgsDVp_U"
   },
   "source": [
    "# 13. У какого режиссера самые большие суммарные кассовые сборы?"
   ]
  },
  {
   "cell_type": "code",
   "execution_count": 18,
   "metadata": {
    "colab": {},
    "colab_type": "code",
    "id": "K6Z3J8ygVp_X"
   },
   "outputs": [],
   "source": [
    "dir_revenue = pd.DataFrame(data[\"director\"].apply(lambda x: x.split(\"|\")).explode()).join(data[\"revenue\"])\n",
    "answers[i] = dir_revenue.groupby(\"director\").sum()[\"revenue\"].sort_values(ascending=False).index[0]\n",
    "i += 1"
   ]
  },
  {
   "cell_type": "markdown",
   "metadata": {
    "colab_type": "text",
    "id": "PsYC9FgRVp_a"
   },
   "source": [
    "# 14. Какой режисер снял больше всего фильмов в стиле Action?"
   ]
  },
  {
   "cell_type": "code",
   "execution_count": 19,
   "metadata": {
    "colab": {},
    "colab_type": "code",
    "id": "wd2M-wHeVp_b"
   },
   "outputs": [],
   "source": [
    "dir_genres = dir_revenue.join(data[\"genres\"])\n",
    "answers[i] = dir_genres[dir_genres.genres.str.contains(\"Action\")].director.value_counts().index[0]\n",
    "i += 1"
   ]
  },
  {
   "cell_type": "markdown",
   "metadata": {
    "colab_type": "text",
    "id": "PQ0KciD7Vp_f"
   },
   "source": [
    "# 15. Фильмы с каким актером принесли самые высокие кассовые сборы в 2012 году? "
   ]
  },
  {
   "cell_type": "code",
   "execution_count": 20,
   "metadata": {
    "colab": {},
    "colab_type": "code",
    "id": "aga62oeKVp_g"
   },
   "outputs": [],
   "source": [
    "cast_revenue = pd.DataFrame(data[data.release_year==2012][\"cast\"].apply(lambda x: x.split(\"|\")).explode()).join(data[[\"revenue\"]])\n",
    "answers[i] = cast_revenue.groupby(\"cast\").sum().revenue.sort_values(ascending=False).index[0]\n",
    "i += 1"
   ]
  },
  {
   "cell_type": "markdown",
   "metadata": {
    "colab_type": "text",
    "id": "mWHyyL7QVp_j"
   },
   "source": [
    "# 16. Какой актер снялся в большем количестве высокобюджетных фильмов?"
   ]
  },
  {
   "cell_type": "code",
   "execution_count": 21,
   "metadata": {
    "colab": {},
    "colab_type": "code",
    "id": "qQtmHKTFVp_k"
   },
   "outputs": [],
   "source": [
    "answers[i] = data[data[\"budget\"] > data[\"budget\"].mean()].cast.str.split(\"|\").explode().value_counts().index[0]\n",
    "i += 1"
   ]
  },
  {
   "cell_type": "markdown",
   "metadata": {
    "colab_type": "text",
    "id": "NIh6AaW5Vp_n"
   },
   "source": [
    "# 17. В фильмах какого жанра больше всего снимался Nicolas Cage? "
   ]
  },
  {
   "cell_type": "code",
   "execution_count": 22,
   "metadata": {
    "colab": {},
    "colab_type": "code",
    "id": "H74SJDIBVp_n"
   },
   "outputs": [],
   "source": [
    "answers[i] = data[data[\"cast\"].str.contains(\"Nicolas Cage\")].genres.str.split(\"|\").explode().value_counts().index[0]\n",
    "i += 1"
   ]
  },
  {
   "cell_type": "markdown",
   "metadata": {
    "colab_type": "text",
    "id": "RqOmPRfWVp_q"
   },
   "source": [
    "# 18. Самый убыточный фильм от Paramount Pictures"
   ]
  },
  {
   "cell_type": "code",
   "execution_count": 23,
   "metadata": {
    "colab": {},
    "colab_type": "code",
    "id": "9E_B0Y96Vp_r"
   },
   "outputs": [],
   "source": [
    "answers[i] = data[data[\"production_companies\"].str.contains(\"Paramount Pictures\")].sort_values(by=\"profit\").iloc[0].original_title\n",
    "i += 1"
   ]
  },
  {
   "cell_type": "markdown",
   "metadata": {
    "colab_type": "text",
    "id": "vS8Ur6ddVp_u"
   },
   "source": [
    "# 19. Какой год стал самым успешным по суммарным кассовым сборам?"
   ]
  },
  {
   "cell_type": "code",
   "execution_count": 24,
   "metadata": {},
   "outputs": [],
   "source": [
    "answers[i] = data.groupby(\"release_year\").revenue.sum().sort_values(ascending=False).index[0]\n",
    "i += 1"
   ]
  },
  {
   "cell_type": "markdown",
   "metadata": {
    "colab_type": "text",
    "id": "JAzJh4QAVp_z"
   },
   "source": [
    "# 20. Какой самый прибыльный год для студии Warner Bros?"
   ]
  },
  {
   "cell_type": "code",
   "execution_count": 25,
   "metadata": {
    "colab": {},
    "colab_type": "code",
    "id": "wgVu02DEVp_0"
   },
   "outputs": [],
   "source": [
    "answers[i] = data[data[\"production_companies\"].str.contains(\"Warner Bros\")]\\\n",
    "    .groupby(\"release_year\").profit.sum().sort_values(ascending=False).index[0]\n",
    "i += 1"
   ]
  },
  {
   "cell_type": "markdown",
   "metadata": {
    "colab_type": "text",
    "id": "8Im1S2HRVp_4"
   },
   "source": [
    "# 21. В каком месяце за все годы суммарно вышло больше всего фильмов?"
   ]
  },
  {
   "cell_type": "code",
   "execution_count": 26,
   "metadata": {
    "colab": {},
    "colab_type": "code",
    "id": "lev6TH7gVp_4"
   },
   "outputs": [],
   "source": [
    "month = data[\"release_date\"].str.split(\"/\").apply(lambda x: int(x[0]))\n",
    "answers[i] = month.value_counts().index[0]\n",
    "i += 1"
   ]
  },
  {
   "cell_type": "markdown",
   "metadata": {
    "colab_type": "text",
    "id": "uAJsZ_NeVp_7"
   },
   "source": [
    "# 22. Сколько суммарно вышло фильмов летом? (за июнь, июль, август)"
   ]
  },
  {
   "cell_type": "code",
   "execution_count": 27,
   "metadata": {
    "colab": {},
    "colab_type": "code",
    "id": "Aa-hEREoVp_8"
   },
   "outputs": [],
   "source": [
    "answers[i] = data[month.between(6, 8)].shape[0]\n",
    "i += 1"
   ]
  },
  {
   "cell_type": "markdown",
   "metadata": {
    "colab_type": "text",
    "id": "G94ppOY1VqAA"
   },
   "source": [
    "# 23. Для какого режиссера зима – самое продуктивное время года? "
   ]
  },
  {
   "cell_type": "code",
   "execution_count": 28,
   "metadata": {
    "colab": {},
    "colab_type": "code",
    "id": "RhNTsamuVqAB"
   },
   "outputs": [],
   "source": [
    "answers[i] = data[month.isin([12, 1, 2])].director.value_counts().index[0]\n",
    "i += 1"
   ]
  },
  {
   "cell_type": "markdown",
   "metadata": {
    "colab_type": "text",
    "id": "RBo0JVjVVqAF"
   },
   "source": [
    "# 24. Какая студия дает самые длинные названия своим фильмам по количеству символов?"
   ]
  },
  {
   "cell_type": "code",
   "execution_count": 29,
   "metadata": {
    "colab": {},
    "colab_type": "code",
    "id": "QRGS8L0iVqAG"
   },
   "outputs": [],
   "source": [
    "data[\"production_companies\"] = data.production_companies.str.split(\"|\")\n",
    "data[\"title_length\"] = data.original_title.str.len()\n",
    "answers[i] = data.explode(\"production_companies\").groupby(\"production_companies\").title_length.mean().idxmax()\n",
    "i += 1"
   ]
  },
  {
   "cell_type": "markdown",
   "metadata": {
    "colab_type": "text",
    "id": "9G0hbvR7VqAK"
   },
   "source": [
    "# 25. Описание фильмов какой студии в среднем самые длинные по количеству слов?"
   ]
  },
  {
   "cell_type": "code",
   "execution_count": 30,
   "metadata": {},
   "outputs": [],
   "source": [
    "data[\"owerview_length\"] = data.overview.str.len()\n",
    "answers[i] = data.explode(\"production_companies\").groupby(\"production_companies\").owerview_length.mean().sort_values().index[-1]\n",
    "i += 1"
   ]
  },
  {
   "cell_type": "markdown",
   "metadata": {
    "colab_type": "text",
    "id": "FJ1AFt90VqAP"
   },
   "source": [
    "# 26. Какие фильмы входят в 1 процент лучших по рейтингу? "
   ]
  },
  {
   "cell_type": "code",
   "execution_count": 31,
   "metadata": {
    "colab": {},
    "colab_type": "code",
    "id": "8qmJVq4CVqAQ"
   },
   "outputs": [],
   "source": [
    "answers[i] = data.sort_values(by=\"vote_average\", ascending=False).original_title.iloc[:data.shape[0] // 100].values\n",
    "i += 1"
   ]
  },
  {
   "cell_type": "markdown",
   "metadata": {
    "colab_type": "text",
    "id": "MdXsUXbCVqAV"
   },
   "source": [
    "# 27. Какие актеры чаще всего снимаются в одном фильме вместе?\n"
   ]
  },
  {
   "cell_type": "code",
   "execution_count": 32,
   "metadata": {},
   "outputs": [],
   "source": [
    "actors_pairs = Counter()\n",
    "for row in data.itertuples():\n",
    "    actors_pairs.update(combinations(row.cast.split('|'), 2))\n",
    "answers[i] = actors_pairs.most_common(1)[0][0]"
   ]
  },
  {
   "cell_type": "markdown",
   "metadata": {
    "colab_type": "text",
    "id": "U0nONFnGVqAX"
   },
   "source": [
    "# Проверка"
   ]
  },
  {
   "cell_type": "code",
   "execution_count": 33,
   "metadata": {
    "colab": {},
    "colab_type": "code",
    "id": "IfcaRO9-VqAX",
    "outputId": "0f132912-32bb-4196-c98c-abfbc4ad5a5f"
   },
   "outputs": [
    {
     "data": {
      "text/plain": "{1: 'Pirates of the Caribbean: On Stranger Tides',\n 2: 'Gods and Generals',\n 3: 'Winnie the Pooh',\n 4: 110.0,\n 5: 107.0,\n 6: 'Avatar',\n 7: 'The Lone Ranger',\n 8: 1478,\n 9: 'The Dark Knight',\n 10: 'The Lone Ranger',\n 11: 'Drama',\n 12: 'Drama',\n 13: 'Peter Jackson',\n 14: 'Robert Rodriguez',\n 15: 'Chris Hemsworth',\n 16: 'Matt Damon',\n 17: 'Action',\n 18: 'K-19: The Widowmaker',\n 19: 2015,\n 20: 2014,\n 21: 9,\n 22: 450,\n 23: 'Peter Jackson',\n 24: 'Four By Two Productions',\n 25: 'Midnight Picture Show',\n 26: array(['The Dark Knight', 'Interstellar', 'The Imitation Game',\n        'Inside Out', 'Room', 'The Wolf of Wall Street', 'Gone Girl',\n        '12 Years a Slave', 'Guardians of the Galaxy',\n        'The Lord of the Rings: The Return of the King', 'Memento',\n        'Inception', 'The Pianist', 'The Grand Budapest Hotel', 'Her',\n        'Spotlight', 'Big Hero 6', 'The Fault in Our Stars'], dtype=object),\n 27: ('Daniel Radcliffe', 'Rupert Grint')}"
     },
     "execution_count": 33,
     "metadata": {},
     "output_type": "execute_result"
    }
   ],
   "source": [
    "answers"
   ]
  },
  {
   "cell_type": "code",
   "execution_count": 34,
   "metadata": {
    "colab": {},
    "colab_type": "code",
    "id": "SiRmHPl8VqAd"
   },
   "outputs": [
    {
     "data": {
      "text/plain": "27"
     },
     "execution_count": 34,
     "metadata": {},
     "output_type": "execute_result"
    }
   ],
   "source": [
    "len(answers)"
   ]
  },
  {
   "cell_type": "code",
   "execution_count": null,
   "outputs": [],
   "source": [],
   "metadata": {
    "collapsed": false,
    "pycharm": {
     "name": "#%%\n"
    }
   }
  }
 ],
 "metadata": {
  "colab": {
   "name": "Copy of [SF-DST] Movies IMBD v4.1 TEMPLATE.ipynb",
   "provenance": []
  },
  "kernelspec": {
   "display_name": "Python 3",
   "language": "python",
   "name": "python3"
  },
  "language_info": {
   "codemirror_mode": {
    "name": "ipython",
    "version": 3
   },
   "file_extension": ".py",
   "mimetype": "text/x-python",
   "name": "python",
   "nbconvert_exporter": "python",
   "pygments_lexer": "ipython3",
   "version": "3.9.1"
  }
 },
 "nbformat": 4,
 "nbformat_minor": 1
}