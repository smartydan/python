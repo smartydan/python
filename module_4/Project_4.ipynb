{
 "cells": [
  {
   "cell_type": "markdown",
   "id": "6e84fd31",
   "metadata": {
    "_cell_guid": "3ecc7d53-a5ff-41a0-9f20-6bb4f8895a5f",
    "_uuid": "f1883456-0882-45db-bb5a-92ffea113c9d",
    "papermill": {
     "duration": 0.06548,
     "end_time": "2022-01-18T16:34:12.737037",
     "exception": false,
     "start_time": "2022-01-18T16:34:12.671557",
     "status": "completed"
    },
    "tags": []
   },
   "source": [
    "# Проект\n",
    "\n",
    "В данном проекте мы пытаемся понять, стоит ли давать человеку кредит. Для этого мы будем предсказывать вероятность того, что он не вернёт деньги."
   ]
  },
  {
   "cell_type": "markdown",
   "id": "92e592f0",
   "metadata": {
    "_cell_guid": "af0fc248-275e-4451-b3e9-4d1a83ec34de",
    "_uuid": "1783fa92-c31a-47d6-852b-b97d0ea83090",
    "papermill": {
     "duration": 0.062494,
     "end_time": "2022-01-18T16:34:12.867385",
     "exception": false,
     "start_time": "2022-01-18T16:34:12.804891",
     "status": "completed"
    },
    "tags": []
   },
   "source": [
    "## Список признаков\n",
    "\n",
    "- client_id - идентификатор клиента\n",
    "- education - уровень образования\n",
    "- sex - пол заемщика\n",
    "- age - возраст заемщика\n",
    "- car - флаг наличия автомобиля\n",
    "- car_type - флаг автомобиля иномарки\n",
    "- decline_app_cnt - количество отклонённых в прошлом заявок\n",
    "- good_work - флаг наличия “хорошей” работы\n",
    "- bki_request_cnt - количество запросов в БКИ\n",
    "- home_address - категоризатор домашнего адреса\n",
    "- work_address - категоризатор рабочего адреса\n",
    "- income - доход заемщика\n",
    "- foreign_passport - наличие загранпаспорта\n",
    "- sna - связь заемщика с клиентами банка\n",
    "- first_time - давность наличия информации о заемщике\n",
    "- score_bki - скоринговый балл по данным из БКИ\n",
    "- region_rating - рейтинг региона\n",
    "- app_date - дата подачи заявки\n",
    "- default - флаг дефолта по кредиту (наша __целевая переменная__)"
   ]
  },
  {
   "cell_type": "markdown",
   "id": "b2ab4519",
   "metadata": {
    "_cell_guid": "1288349d-94d0-4564-a619-8187c1d9c336",
    "_uuid": "b5640b9a-5617-442b-8546-512e78e05fa3",
    "papermill": {
     "duration": 0.079421,
     "end_time": "2022-01-18T16:34:27.532069",
     "exception": false,
     "start_time": "2022-01-18T16:34:27.452648",
     "status": "completed"
    },
    "tags": []
   },
   "source": [
    "## Импорт библиотек, загрузка датасета, первичный анализ"
   ]
  },
  {
   "cell_type": "code",
   "execution_count": 1,
   "id": "0c35013d",
   "metadata": {
    "_cell_guid": "bd137917-e2b1-462c-a13e-ac2d740a6861",
    "_uuid": "6b44b659-0298-4139-8f51-85a64fbf72e0",
    "execution": {
     "iopub.execute_input": "2022-01-18T16:34:27.692341Z",
     "iopub.status.busy": "2022-01-18T16:34:27.691387Z",
     "iopub.status.idle": "2022-01-18T16:34:29.148009Z",
     "shell.execute_reply": "2022-01-18T16:34:29.148816Z",
     "shell.execute_reply.started": "2022-01-18T16:29:07.514044Z"
    },
    "jupyter": {
     "outputs_hidden": false
    },
    "papermill": {
     "duration": 1.539199,
     "end_time": "2022-01-18T16:34:29.149090",
     "exception": false,
     "start_time": "2022-01-18T16:34:27.609891",
     "status": "completed"
    },
    "tags": []
   },
   "outputs": [],
   "source": [
    "import numpy as np\n",
    "import pandas as pd\n",
    "import matplotlib.pyplot as plt\n",
    "import seaborn as sns\n",
    "from datetime import datetime\n",
    "\n",
    "from sklearn.metrics import roc_auc_score, roc_curve, f1_score,\\\n",
    "    confusion_matrix, ConfusionMatrixDisplay, precision_recall_curve\n",
    "from sklearn.model_selection import train_test_split\n",
    "from sklearn.preprocessing import LabelEncoder, StandardScaler, OneHotEncoder\n",
    "from sklearn.linear_model import LogisticRegression\n",
    "\n",
    "# для подбора гиперпараметров будем использовать \"successive halving\", он эффективней обычного GridSearchCV\n",
    "from sklearn.experimental import enable_halving_search_cv\n",
    "from sklearn.model_selection import HalvingGridSearchCV\n",
    "\n",
    "import warnings\n",
    "warnings.simplefilter(\"ignore\")"
   ]
  },
  {
   "cell_type": "code",
   "execution_count": 2,
   "id": "41a1faca",
   "metadata": {
    "_cell_guid": "1c8b01ec-2795-4521-a3da-fb06375db424",
    "_uuid": "02699db4-5dd9-4a1e-bc68-b619e10d26cf",
    "execution": {
     "iopub.execute_input": "2022-01-18T16:34:29.491079Z",
     "iopub.status.busy": "2022-01-18T16:34:29.490357Z",
     "iopub.status.idle": "2022-01-18T16:34:29.853837Z",
     "shell.execute_reply": "2022-01-18T16:34:29.852884Z",
     "shell.execute_reply.started": "2022-01-18T16:29:08.860104Z"
    },
    "jupyter": {
     "outputs_hidden": false
    },
    "papermill": {
     "duration": 0.440449,
     "end_time": "2022-01-18T16:34:29.854033",
     "exception": false,
     "start_time": "2022-01-18T16:34:29.413584",
     "status": "completed"
    },
    "tags": []
   },
   "outputs": [],
   "source": [
    "train = pd.read_csv(\"train.csv\")\n",
    "test = pd.read_csv(\"test.csv\")\n",
    "sample_submission = pd.read_csv(\"sample_submission.csv\")"
   ]
  },
  {
   "cell_type": "code",
   "execution_count": 3,
   "id": "73c04994",
   "metadata": {
    "_cell_guid": "c7bb9ab7-0091-47cc-a0b9-edc6f268420d",
    "_uuid": "d7588667-db7c-44eb-9aad-8e31fcd876e6",
    "execution": {
     "iopub.execute_input": "2022-01-18T16:34:30.014956Z",
     "iopub.status.busy": "2022-01-18T16:34:30.014235Z",
     "iopub.status.idle": "2022-01-18T16:34:30.061658Z",
     "shell.execute_reply": "2022-01-18T16:34:30.061138Z",
     "shell.execute_reply.started": "2022-01-18T16:26:32.581247Z"
    },
    "jupyter": {
     "outputs_hidden": false
    },
    "papermill": {
     "duration": 0.134434,
     "end_time": "2022-01-18T16:34:30.061853",
     "exception": false,
     "start_time": "2022-01-18T16:34:29.927419",
     "status": "completed"
    },
    "tags": []
   },
   "outputs": [
    {
     "name": "stdout",
     "output_type": "stream",
     "text": [
      "<class 'pandas.core.frame.DataFrame'>\n",
      "RangeIndex: 73799 entries, 0 to 73798\n",
      "Data columns (total 19 columns):\n",
      " #   Column            Non-Null Count  Dtype  \n",
      "---  ------            --------------  -----  \n",
      " 0   client_id         73799 non-null  int64  \n",
      " 1   app_date          73799 non-null  object \n",
      " 2   education         73492 non-null  object \n",
      " 3   sex               73799 non-null  object \n",
      " 4   age               73799 non-null  int64  \n",
      " 5   car               73799 non-null  object \n",
      " 6   car_type          73799 non-null  object \n",
      " 7   decline_app_cnt   73799 non-null  int64  \n",
      " 8   good_work         73799 non-null  int64  \n",
      " 9   score_bki         73799 non-null  float64\n",
      " 10  bki_request_cnt   73799 non-null  int64  \n",
      " 11  region_rating     73799 non-null  int64  \n",
      " 12  home_address      73799 non-null  int64  \n",
      " 13  work_address      73799 non-null  int64  \n",
      " 14  income            73799 non-null  int64  \n",
      " 15  sna               73799 non-null  int64  \n",
      " 16  first_time        73799 non-null  int64  \n",
      " 17  foreign_passport  73799 non-null  object \n",
      " 18  default           73799 non-null  int64  \n",
      "dtypes: float64(1), int64(12), object(6)\n",
      "memory usage: 10.7+ MB\n"
     ]
    }
   ],
   "source": [
    "train.info()"
   ]
  },
  {
   "cell_type": "code",
   "execution_count": 4,
   "id": "297cc628",
   "metadata": {
    "_cell_guid": "afa51342-0b1d-45c8-b3dc-35c56a0e48fb",
    "_uuid": "61b3419f-e193-4622-8fb3-02ed10ae59c1",
    "execution": {
     "iopub.execute_input": "2022-01-18T16:34:30.220749Z",
     "iopub.status.busy": "2022-01-18T16:34:30.220021Z",
     "iopub.status.idle": "2022-01-18T16:34:30.244212Z",
     "shell.execute_reply": "2022-01-18T16:34:30.243716Z",
     "shell.execute_reply.started": "2022-01-18T16:29:10.001194Z"
    },
    "jupyter": {
     "outputs_hidden": false
    },
    "papermill": {
     "duration": 0.109186,
     "end_time": "2022-01-18T16:34:30.244361",
     "exception": false,
     "start_time": "2022-01-18T16:34:30.135175",
     "status": "completed"
    },
    "scrolled": true,
    "tags": []
   },
   "outputs": [
    {
     "name": "stdout",
     "output_type": "stream",
     "text": [
      "<class 'pandas.core.frame.DataFrame'>\n",
      "RangeIndex: 36349 entries, 0 to 36348\n",
      "Data columns (total 18 columns):\n",
      " #   Column            Non-Null Count  Dtype  \n",
      "---  ------            --------------  -----  \n",
      " 0   client_id         36349 non-null  int64  \n",
      " 1   app_date          36349 non-null  object \n",
      " 2   education         36178 non-null  object \n",
      " 3   sex               36349 non-null  object \n",
      " 4   age               36349 non-null  int64  \n",
      " 5   car               36349 non-null  object \n",
      " 6   car_type          36349 non-null  object \n",
      " 7   decline_app_cnt   36349 non-null  int64  \n",
      " 8   good_work         36349 non-null  int64  \n",
      " 9   score_bki         36349 non-null  float64\n",
      " 10  bki_request_cnt   36349 non-null  int64  \n",
      " 11  region_rating     36349 non-null  int64  \n",
      " 12  home_address      36349 non-null  int64  \n",
      " 13  work_address      36349 non-null  int64  \n",
      " 14  income            36349 non-null  int64  \n",
      " 15  sna               36349 non-null  int64  \n",
      " 16  first_time        36349 non-null  int64  \n",
      " 17  foreign_passport  36349 non-null  object \n",
      "dtypes: float64(1), int64(11), object(6)\n",
      "memory usage: 5.0+ MB\n"
     ]
    }
   ],
   "source": [
    "test.info()\n",
    "# видим, что на целевая переменая известна только для трейна, а на тесте её (ожидаемо) надо будет предсказать"
   ]
  },
  {
   "cell_type": "code",
   "execution_count": 5,
   "id": "ee4963f1",
   "metadata": {
    "_cell_guid": "76e7c4ea-9b76-4823-b156-ff8f51911097",
    "_uuid": "714d7e15-e83f-4434-818d-2d19cc521532",
    "execution": {
     "iopub.execute_input": "2022-01-18T16:34:30.391919Z",
     "iopub.status.busy": "2022-01-18T16:34:30.391225Z",
     "iopub.status.idle": "2022-01-18T16:34:30.482364Z",
     "shell.execute_reply": "2022-01-18T16:34:30.481853Z",
     "shell.execute_reply.started": "2022-01-18T16:29:10.880599Z"
    },
    "jupyter": {
     "outputs_hidden": false
    },
    "papermill": {
     "duration": 0.165362,
     "end_time": "2022-01-18T16:34:30.482538",
     "exception": false,
     "start_time": "2022-01-18T16:34:30.317176",
     "status": "completed"
    },
    "tags": []
   },
   "outputs": [],
   "source": [
    "train[\"train\"] = 1\n",
    "test[\"train\"] = 0\n",
    "test[\"default\"] = -1 # в тесте нет значений целевой переменной, поэтому пока просто заполняем константой\n",
    "data = test.append(train, sort=False).reset_index(drop=True) # объединяем"
   ]
  },
  {
   "cell_type": "code",
   "execution_count": 6,
   "id": "31a0f49b",
   "metadata": {
    "_cell_guid": "922c1b24-5d26-48e8-85b7-80ba768adae8",
    "_uuid": "9c71a9ab-767e-45f7-8ef8-be2c855afc25",
    "execution": {
     "iopub.execute_input": "2022-01-18T16:34:30.637989Z",
     "iopub.status.busy": "2022-01-18T16:34:30.637251Z",
     "iopub.status.idle": "2022-01-18T16:34:30.663700Z",
     "shell.execute_reply": "2022-01-18T16:34:30.663079Z",
     "shell.execute_reply.started": "2022-01-18T16:29:11.719613Z"
    },
    "jupyter": {
     "outputs_hidden": false
    },
    "papermill": {
     "duration": 0.107956,
     "end_time": "2022-01-18T16:34:30.663836",
     "exception": false,
     "start_time": "2022-01-18T16:34:30.555880",
     "status": "completed"
    },
    "tags": []
   },
   "outputs": [
    {
     "data": {
      "text/html": [
       "<div>\n",
       "<style scoped>\n",
       "    .dataframe tbody tr th:only-of-type {\n",
       "        vertical-align: middle;\n",
       "    }\n",
       "\n",
       "    .dataframe tbody tr th {\n",
       "        vertical-align: top;\n",
       "    }\n",
       "\n",
       "    .dataframe thead th {\n",
       "        text-align: right;\n",
       "    }\n",
       "</style>\n",
       "<table border=\"1\" class=\"dataframe\">\n",
       "  <thead>\n",
       "    <tr style=\"text-align: right;\">\n",
       "      <th></th>\n",
       "      <th>client_id</th>\n",
       "      <th>app_date</th>\n",
       "      <th>education</th>\n",
       "      <th>sex</th>\n",
       "      <th>age</th>\n",
       "      <th>car</th>\n",
       "      <th>car_type</th>\n",
       "      <th>decline_app_cnt</th>\n",
       "      <th>good_work</th>\n",
       "      <th>score_bki</th>\n",
       "      <th>bki_request_cnt</th>\n",
       "      <th>region_rating</th>\n",
       "      <th>home_address</th>\n",
       "      <th>work_address</th>\n",
       "      <th>income</th>\n",
       "      <th>sna</th>\n",
       "      <th>first_time</th>\n",
       "      <th>foreign_passport</th>\n",
       "      <th>train</th>\n",
       "      <th>default</th>\n",
       "    </tr>\n",
       "  </thead>\n",
       "  <tbody>\n",
       "    <tr>\n",
       "      <th>30368</th>\n",
       "      <td>82457</td>\n",
       "      <td>30MAR2014</td>\n",
       "      <td>GRD</td>\n",
       "      <td>M</td>\n",
       "      <td>27</td>\n",
       "      <td>Y</td>\n",
       "      <td>N</td>\n",
       "      <td>0</td>\n",
       "      <td>0</td>\n",
       "      <td>-1.615399</td>\n",
       "      <td>0</td>\n",
       "      <td>40</td>\n",
       "      <td>2</td>\n",
       "      <td>3</td>\n",
       "      <td>30000</td>\n",
       "      <td>2</td>\n",
       "      <td>3</td>\n",
       "      <td>Y</td>\n",
       "      <td>0</td>\n",
       "      <td>-1</td>\n",
       "    </tr>\n",
       "    <tr>\n",
       "      <th>86563</th>\n",
       "      <td>79519</td>\n",
       "      <td>27MAR2014</td>\n",
       "      <td>UGR</td>\n",
       "      <td>M</td>\n",
       "      <td>27</td>\n",
       "      <td>N</td>\n",
       "      <td>N</td>\n",
       "      <td>0</td>\n",
       "      <td>0</td>\n",
       "      <td>-2.466187</td>\n",
       "      <td>1</td>\n",
       "      <td>60</td>\n",
       "      <td>1</td>\n",
       "      <td>2</td>\n",
       "      <td>22000</td>\n",
       "      <td>1</td>\n",
       "      <td>3</td>\n",
       "      <td>N</td>\n",
       "      <td>1</td>\n",
       "      <td>0</td>\n",
       "    </tr>\n",
       "    <tr>\n",
       "      <th>67889</th>\n",
       "      <td>86514</td>\n",
       "      <td>03APR2014</td>\n",
       "      <td>SCH</td>\n",
       "      <td>M</td>\n",
       "      <td>35</td>\n",
       "      <td>N</td>\n",
       "      <td>N</td>\n",
       "      <td>3</td>\n",
       "      <td>0</td>\n",
       "      <td>-1.949103</td>\n",
       "      <td>0</td>\n",
       "      <td>40</td>\n",
       "      <td>1</td>\n",
       "      <td>3</td>\n",
       "      <td>50000</td>\n",
       "      <td>3</td>\n",
       "      <td>1</td>\n",
       "      <td>Y</td>\n",
       "      <td>1</td>\n",
       "      <td>0</td>\n",
       "    </tr>\n",
       "    <tr>\n",
       "      <th>10134</th>\n",
       "      <td>67590</td>\n",
       "      <td>16MAR2014</td>\n",
       "      <td>SCH</td>\n",
       "      <td>F</td>\n",
       "      <td>36</td>\n",
       "      <td>N</td>\n",
       "      <td>N</td>\n",
       "      <td>0</td>\n",
       "      <td>1</td>\n",
       "      <td>-1.736014</td>\n",
       "      <td>4</td>\n",
       "      <td>60</td>\n",
       "      <td>2</td>\n",
       "      <td>3</td>\n",
       "      <td>15000</td>\n",
       "      <td>1</td>\n",
       "      <td>3</td>\n",
       "      <td>N</td>\n",
       "      <td>0</td>\n",
       "      <td>-1</td>\n",
       "    </tr>\n",
       "    <tr>\n",
       "      <th>85472</th>\n",
       "      <td>51657</td>\n",
       "      <td>28FEB2014</td>\n",
       "      <td>UGR</td>\n",
       "      <td>F</td>\n",
       "      <td>39</td>\n",
       "      <td>Y</td>\n",
       "      <td>Y</td>\n",
       "      <td>0</td>\n",
       "      <td>1</td>\n",
       "      <td>-1.902977</td>\n",
       "      <td>5</td>\n",
       "      <td>70</td>\n",
       "      <td>1</td>\n",
       "      <td>3</td>\n",
       "      <td>65000</td>\n",
       "      <td>1</td>\n",
       "      <td>4</td>\n",
       "      <td>N</td>\n",
       "      <td>1</td>\n",
       "      <td>0</td>\n",
       "    </tr>\n",
       "  </tbody>\n",
       "</table>\n",
       "</div>"
      ],
      "text/plain": [
       "       client_id   app_date education sex  age car car_type  decline_app_cnt  \\\n",
       "30368      82457  30MAR2014       GRD   M   27   Y        N                0   \n",
       "86563      79519  27MAR2014       UGR   M   27   N        N                0   \n",
       "67889      86514  03APR2014       SCH   M   35   N        N                3   \n",
       "10134      67590  16MAR2014       SCH   F   36   N        N                0   \n",
       "85472      51657  28FEB2014       UGR   F   39   Y        Y                0   \n",
       "\n",
       "       good_work  score_bki  bki_request_cnt  region_rating  home_address  \\\n",
       "30368          0  -1.615399                0             40             2   \n",
       "86563          0  -2.466187                1             60             1   \n",
       "67889          0  -1.949103                0             40             1   \n",
       "10134          1  -1.736014                4             60             2   \n",
       "85472          1  -1.902977                5             70             1   \n",
       "\n",
       "       work_address  income  sna  first_time foreign_passport  train  default  \n",
       "30368             3   30000    2           3                Y      0       -1  \n",
       "86563             2   22000    1           3                N      1        0  \n",
       "67889             3   50000    3           1                Y      1        0  \n",
       "10134             3   15000    1           3                N      0       -1  \n",
       "85472             3   65000    1           4                N      1        0  "
      ]
     },
     "execution_count": 6,
     "metadata": {},
     "output_type": "execute_result"
    }
   ],
   "source": [
    "data.sample(5)"
   ]
  },
  {
   "cell_type": "code",
   "execution_count": 7,
   "id": "12102793",
   "metadata": {
    "_cell_guid": "c603367a-bf73-49d3-bbd4-2663f9b4f523",
    "_uuid": "ef6857af-0dd7-41ba-ae46-9dc7f8966098",
    "execution": {
     "iopub.execute_input": "2022-01-18T16:34:30.818135Z",
     "iopub.status.busy": "2022-01-18T16:34:30.817183Z",
     "iopub.status.idle": "2022-01-18T16:34:30.862501Z",
     "shell.execute_reply": "2022-01-18T16:34:30.863224Z",
     "shell.execute_reply.started": "2022-01-18T16:29:12.427697Z"
    },
    "jupyter": {
     "outputs_hidden": false
    },
    "papermill": {
     "duration": 0.125501,
     "end_time": "2022-01-18T16:34:30.863482",
     "exception": false,
     "start_time": "2022-01-18T16:34:30.737981",
     "status": "completed"
    },
    "scrolled": true,
    "tags": []
   },
   "outputs": [
    {
     "name": "stdout",
     "output_type": "stream",
     "text": [
      "<class 'pandas.core.frame.DataFrame'>\n",
      "RangeIndex: 110148 entries, 0 to 110147\n",
      "Data columns (total 20 columns):\n",
      " #   Column            Non-Null Count   Dtype  \n",
      "---  ------            --------------   -----  \n",
      " 0   client_id         110148 non-null  int64  \n",
      " 1   app_date          110148 non-null  object \n",
      " 2   education         109670 non-null  object \n",
      " 3   sex               110148 non-null  object \n",
      " 4   age               110148 non-null  int64  \n",
      " 5   car               110148 non-null  object \n",
      " 6   car_type          110148 non-null  object \n",
      " 7   decline_app_cnt   110148 non-null  int64  \n",
      " 8   good_work         110148 non-null  int64  \n",
      " 9   score_bki         110148 non-null  float64\n",
      " 10  bki_request_cnt   110148 non-null  int64  \n",
      " 11  region_rating     110148 non-null  int64  \n",
      " 12  home_address      110148 non-null  int64  \n",
      " 13  work_address      110148 non-null  int64  \n",
      " 14  income            110148 non-null  int64  \n",
      " 15  sna               110148 non-null  int64  \n",
      " 16  first_time        110148 non-null  int64  \n",
      " 17  foreign_passport  110148 non-null  object \n",
      " 18  train             110148 non-null  int64  \n",
      " 19  default           110148 non-null  int64  \n",
      "dtypes: float64(1), int64(13), object(6)\n",
      "memory usage: 16.8+ MB\n"
     ]
    }
   ],
   "source": [
    "data.info()"
   ]
  },
  {
   "cell_type": "code",
   "execution_count": 8,
   "id": "6dda51b2",
   "metadata": {
    "_cell_guid": "66f3e216-03a2-4b15-b2d4-eff851162098",
    "_uuid": "1e784f2b-e020-41bb-9f60-05c027929aee",
    "execution": {
     "iopub.execute_input": "2022-01-18T16:34:31.014170Z",
     "iopub.status.busy": "2022-01-18T16:34:31.013551Z",
     "iopub.status.idle": "2022-01-18T16:34:31.020553Z",
     "shell.execute_reply": "2022-01-18T16:34:31.021020Z",
     "shell.execute_reply.started": "2022-01-18T16:29:13.238458Z"
    },
    "jupyter": {
     "outputs_hidden": false
    },
    "papermill": {
     "duration": 0.084714,
     "end_time": "2022-01-18T16:34:31.021182",
     "exception": false,
     "start_time": "2022-01-18T16:34:30.936468",
     "status": "completed"
    },
    "tags": []
   },
   "outputs": [
    {
     "name": "stdout",
     "output_type": "stream",
     "text": [
      "Соотношение классов: 6.9\n",
      "Процент недефолтных клиентов: 87.3\n"
     ]
    }
   ],
   "source": [
    "non_default = train[\"default\"].value_counts()[0] # посмотрим на распределение целевой переменной\n",
    "ratio = non_default / (train.shape[0] - non_default)\n",
    "print(f\"Соотношение классов: {ratio:.1f}\\nПроцент недефолтных клиентов: {100 * non_default / train.shape[0]:.1f}\")\n",
    "# видим, что выборка несбалансирована: \"хороших\" клиентов почти в семь раз больше, чем \"плохих\"\n",
    "# значит последних будет труднее определить"
   ]
  },
  {
   "cell_type": "code",
   "execution_count": 9,
   "id": "8125d7b0",
   "metadata": {
    "_cell_guid": "73be9d95-62a6-4842-b976-1f3dc73e59ec",
    "_uuid": "2a1a9d06-e003-4fb7-9315-40db033babeb",
    "execution": {
     "iopub.execute_input": "2022-01-18T16:34:31.170849Z",
     "iopub.status.busy": "2022-01-18T16:34:31.170174Z",
     "iopub.status.idle": "2022-01-18T16:34:31.380997Z",
     "shell.execute_reply": "2022-01-18T16:34:31.381715Z",
     "shell.execute_reply.started": "2022-01-18T16:29:14.415743Z"
    },
    "jupyter": {
     "outputs_hidden": false
    },
    "papermill": {
     "duration": 0.287723,
     "end_time": "2022-01-18T16:34:31.381910",
     "exception": false,
     "start_time": "2022-01-18T16:34:31.094187",
     "status": "completed"
    },
    "scrolled": true,
    "tags": []
   },
   "outputs": [
    {
     "data": {
      "image/png": "[encoded data removed]",
      "text/plain": [
       "<Figure size 288x360 with 1 Axes>"
      ]
     },
     "metadata": {
      "needs_background": "light"
     },
     "output_type": "display_data"
    }
   ],
   "source": [
    "plt.figure(figsize=(4, 5))\n",
    "ax = sns.countplot(x=train[\"default\"])\n",
    "ax.set(ylabel=\"\");"
   ]
  },
  {
   "cell_type": "markdown",
   "id": "9db7cbbb",
   "metadata": {
    "_cell_guid": "932ebe33-1232-4a94-bc6d-d86b74133c10",
    "_uuid": "b98c2d13-1448-4e48-8ff2-65d78d6dba3b",
    "papermill": {
     "duration": 0.081199,
     "end_time": "2022-01-18T16:34:31.544123",
     "exception": false,
     "start_time": "2022-01-18T16:34:31.462924",
     "status": "completed"
    },
    "tags": []
   },
   "source": [
    "## Некоторые функции"
   ]
  },
  {
   "cell_type": "code",
   "execution_count": 10,
   "id": "0299d905",
   "metadata": {
    "_cell_guid": "517d8d62-e55d-4ef9-bf09-e5c1fe3ceab5",
    "_uuid": "29416f87-862f-4781-abbd-636ac66c5c6a",
    "execution": {
     "iopub.execute_input": "2022-01-18T16:34:31.708155Z",
     "iopub.status.busy": "2022-01-18T16:34:31.707463Z",
     "iopub.status.idle": "2022-01-18T16:34:31.711539Z",
     "shell.execute_reply": "2022-01-18T16:34:31.712039Z",
     "shell.execute_reply.started": "2022-01-18T16:29:15.502287Z"
    },
    "jupyter": {
     "outputs_hidden": false
    },
    "papermill": {
     "duration": 0.091233,
     "end_time": "2022-01-18T16:34:31.712245",
     "exception": false,
     "start_time": "2022-01-18T16:34:31.621012",
     "status": "completed"
    },
    "tags": []
   },
   "outputs": [],
   "source": [
    "def borders(col):\n",
    "    q1 = col.quantile(0.25)\n",
    "    q3 = col.quantile(0.75)\n",
    "    iqr = q3 - q1\n",
    "    low = q1 - 1.5 * iqr\n",
    "    high = q3 + 1.5 * iqr\n",
    "    return low, high"
   ]
  },
  {
   "cell_type": "code",
   "execution_count": 11,
   "id": "09245edd",
   "metadata": {
    "_cell_guid": "11746b59-6d87-420c-994f-dc8de5c2bea9",
    "_uuid": "12f82e4f-187e-43eb-b64f-4b01056ea494",
    "execution": {
     "iopub.execute_input": "2022-01-18T16:34:31.873241Z",
     "iopub.status.busy": "2022-01-18T16:34:31.872599Z",
     "iopub.status.idle": "2022-01-18T16:34:31.875709Z",
     "shell.execute_reply": "2022-01-18T16:34:31.875238Z",
     "shell.execute_reply.started": "2022-01-18T16:29:16.290295Z"
    },
    "jupyter": {
     "outputs_hidden": false
    },
    "papermill": {
     "duration": 0.086526,
     "end_time": "2022-01-18T16:34:31.875885",
     "exception": false,
     "start_time": "2022-01-18T16:34:31.789359",
     "status": "completed"
    },
    "tags": []
   },
   "outputs": [],
   "source": [
    "def check_outliers(col, data):\n",
    "    \"\"\"\n",
    "    Определяет наличие выбросов в признаке col датасета data методом интерквантильного размаха \n",
    "    \"\"\"\n",
    "    \n",
    "    low, high = borders(data[col])\n",
    "    outliers = ((data[col] < low) | (data[col] > high)).sum()\n",
    "    \n",
    "    if not outliers:\n",
    "        print(f\"В признаке '{col}' выбросов нет\\n\")\n",
    "        return\n",
    "\n",
    "    print(f\"Количество выбросов в признаке '{col}': {outliers}\")\n",
    "    print(f\"Границы выбросов: [{low}, {high}]\\n\")"
   ]
  },
  {
   "cell_type": "code",
   "execution_count": 12,
   "id": "be29d50e",
   "metadata": {
    "_cell_guid": "76de7564-756b-48ab-ae20-edc0f1d571d7",
    "_uuid": "dc0c4058-e439-4bb7-8954-36e166f43517",
    "execution": {
     "iopub.execute_input": "2022-01-18T16:34:32.032822Z",
     "iopub.status.busy": "2022-01-18T16:34:32.032152Z",
     "iopub.status.idle": "2022-01-18T16:34:32.034996Z",
     "shell.execute_reply": "2022-01-18T16:34:32.035551Z",
     "shell.execute_reply.started": "2022-01-18T16:29:16.817902Z"
    },
    "jupyter": {
     "outputs_hidden": false
    },
    "papermill": {
     "duration": 0.086172,
     "end_time": "2022-01-18T16:34:32.035712",
     "exception": false,
     "start_time": "2022-01-18T16:34:31.949540",
     "status": "completed"
    },
    "tags": []
   },
   "outputs": [],
   "source": [
    "# modified function from https://towardsdatascience.com/are-you-dropping-too-many-correlated-features-d1c96654abe6\n",
    "def features_to_drop(df, cut):\n",
    "    \"\"\"\n",
    "    На основании коэффицентов корреляции определяет признаки, которые стоит удалить\n",
    "    \n",
    "    df - датафрейм\n",
    "    cut - пороговое значение коэффициента корреляции\n",
    "    \"\"\"\n",
    "\n",
    "    corr_mtx = df.corr() # создаём корреляционную матрицу\n",
    "    avg_corr = corr_mtx.mean(axis=1) # считаем среднюю корреляцию по признакам, это будет критерием отбора признаков\n",
    "    up = corr_mtx.where(np.triu(np.ones(corr_mtx.shape), k=1).astype(bool)) \n",
    "    # создаём верхний треугольник матрицы \n",
    "    # нижний не несёт дополнительной информации, так как матрица корреляций симметрична\n",
    "\n",
    "    drop = [] # будущий список признаков для удаления\n",
    "\n",
    "    for row in range(len(up)-1): # проходимся по всем строкам матрицы\n",
    "        for col in range(row + 1, len(up)): # проходимся по всем столбцам\n",
    "            if(abs(corr_mtx.iloc[row, col]) > cut):\n",
    "                # если корреляция двух текущих признаков больше пороговой,\n",
    "                # то удалим один из них (тот, у которого средняя корреляция больше)\n",
    "                if(abs(avg_corr.iloc[row]) > abs(avg_corr.iloc[col])):\n",
    "                    drop.append(row)\n",
    "                else:\n",
    "                    drop.append(col)\n",
    "                \n",
    "    dropcols_names = list(df.columns[list(set(drop))])\n",
    "    if dropcols_names:\n",
    "        return dropcols_names\n",
    "    print(\"Сильноскоррелированных переменных нет\")"
   ]
  },
  {
   "cell_type": "code",
   "execution_count": 13,
   "id": "322773b5",
   "metadata": {
    "_cell_guid": "ff5e74f1-55d5-42be-9116-b6f7b7f4127b",
    "_uuid": "da8fd537-f62d-4361-9a8a-f58dabadb14b",
    "execution": {
     "iopub.execute_input": "2022-01-18T16:34:32.191533Z",
     "iopub.status.busy": "2022-01-18T16:34:32.190893Z",
     "iopub.status.idle": "2022-01-18T16:34:32.192486Z",
     "shell.execute_reply": "2022-01-18T16:34:32.192885Z",
     "shell.execute_reply.started": "2022-01-18T16:29:17.454528Z"
    },
    "jupyter": {
     "outputs_hidden": false
    },
    "papermill": {
     "duration": 0.081893,
     "end_time": "2022-01-18T16:34:32.193044",
     "exception": false,
     "start_time": "2022-01-18T16:34:32.111151",
     "status": "completed"
    },
    "tags": []
   },
   "outputs": [],
   "source": [
    "def calc_f_score(y_true, y_pred):\n",
    "    \"\"\"\n",
    "    считает наибольший f_score при различных порогах отнесения к нулевому и первому классам\n",
    "    \"\"\"\n",
    "    precision, recall, threshold = precision_recall_curve(y_true, y_pred)\n",
    "    denom = precision + recall \n",
    "    denom[denom == 0] = -1\n",
    "    # если знаменатель f-score равен нулю, то превратим его в -1 (так мы будем отличать этот случай)\n",
    "    f_score = (2 * precision * recall / denom)[:-1] \n",
    "    return f_score, threshold"
   ]
  },
  {
   "cell_type": "markdown",
   "id": "fdc56727",
   "metadata": {
    "_cell_guid": "f461df07-8d19-4bc6-ad08-aa9a634b2721",
    "_uuid": "86be58fb-ca1e-4cb5-a3f0-4ccdd368c396",
    "papermill": {
     "duration": 0.072576,
     "end_time": "2022-01-18T16:34:32.338695",
     "exception": false,
     "start_time": "2022-01-18T16:34:32.266119",
     "status": "completed"
    },
    "tags": []
   },
   "source": [
    "## Работа с пропусками"
   ]
  },
  {
   "cell_type": "code",
   "execution_count": 14,
   "id": "25d099a3",
   "metadata": {
    "_cell_guid": "a3ff28fd-9d16-42bb-89e9-7993e8fd1d53",
    "_uuid": "1d9612d7-d904-4352-9afa-ea5005aeb953",
    "execution": {
     "iopub.execute_input": "2022-01-18T16:34:32.490069Z",
     "iopub.status.busy": "2022-01-18T16:34:32.489347Z",
     "iopub.status.idle": "2022-01-18T16:34:32.531178Z",
     "shell.execute_reply": "2022-01-18T16:34:32.531696Z",
     "shell.execute_reply.started": "2022-01-18T16:29:18.316203Z"
    },
    "jupyter": {
     "outputs_hidden": false
    },
    "papermill": {
     "duration": 0.12028,
     "end_time": "2022-01-18T16:34:32.531891",
     "exception": false,
     "start_time": "2022-01-18T16:34:32.411611",
     "status": "completed"
    },
    "tags": []
   },
   "outputs": [
    {
     "data": {
      "text/plain": [
       "client_id             0\n",
       "app_date              0\n",
       "education           478\n",
       "sex                   0\n",
       "age                   0\n",
       "car                   0\n",
       "car_type              0\n",
       "decline_app_cnt       0\n",
       "good_work             0\n",
       "score_bki             0\n",
       "bki_request_cnt       0\n",
       "region_rating         0\n",
       "home_address          0\n",
       "work_address          0\n",
       "income                0\n",
       "sna                   0\n",
       "first_time            0\n",
       "foreign_passport      0\n",
       "train                 0\n",
       "default               0\n",
       "dtype: int64"
      ]
     },
     "execution_count": 14,
     "metadata": {},
     "output_type": "execute_result"
    }
   ],
   "source": [
    "data.isna().sum()\n",
    "# пропуски есть только в данных об образовании"
   ]
  },
  {
   "cell_type": "code",
   "execution_count": 15,
   "id": "08169104",
   "metadata": {
    "_cell_guid": "a4381e29-4a8e-4f91-a00b-db239fd043f8",
    "_uuid": "797fe30e-0118-4ef1-bd6d-9fba69d8dd47",
    "execution": {
     "iopub.execute_input": "2022-01-18T16:34:32.695678Z",
     "iopub.status.busy": "2022-01-18T16:34:32.694575Z",
     "iopub.status.idle": "2022-01-18T16:34:32.709015Z",
     "shell.execute_reply": "2022-01-18T16:34:32.709564Z",
     "shell.execute_reply.started": "2022-01-18T16:29:18.930518Z"
    },
    "jupyter": {
     "outputs_hidden": false
    },
    "papermill": {
     "duration": 0.099943,
     "end_time": "2022-01-18T16:34:32.709763",
     "exception": false,
     "start_time": "2022-01-18T16:34:32.609820",
     "status": "completed"
    },
    "scrolled": true,
    "tags": []
   },
   "outputs": [
    {
     "data": {
      "text/plain": [
       "SCH    57998\n",
       "GRD    34768\n",
       "UGR    14748\n",
       "PGR     1865\n",
       "ACD      291\n",
       "Name: education, dtype: int64"
      ]
     },
     "execution_count": 15,
     "metadata": {},
     "output_type": "execute_result"
    }
   ],
   "source": [
    "data[\"education\"].value_counts()"
   ]
  },
  {
   "cell_type": "code",
   "execution_count": 16,
   "id": "363b0e8e",
   "metadata": {
    "_cell_guid": "04af0d5a-9f3c-4d8c-9a2e-b245edf1ee8b",
    "_uuid": "6ae5c38a-1702-452f-b7b5-fb24d368e2fd",
    "execution": {
     "iopub.execute_input": "2022-01-18T16:34:32.863997Z",
     "iopub.status.busy": "2022-01-18T16:34:32.863096Z",
     "iopub.status.idle": "2022-01-18T16:34:32.915832Z",
     "shell.execute_reply": "2022-01-18T16:34:32.916237Z",
     "shell.execute_reply.started": "2022-01-18T16:29:19.410675Z"
    },
    "jupyter": {
     "outputs_hidden": false
    },
    "papermill": {
     "duration": 0.13028,
     "end_time": "2022-01-18T16:34:32.916408",
     "exception": false,
     "start_time": "2022-01-18T16:34:32.786128",
     "status": "completed"
    },
    "tags": []
   },
   "outputs": [
    {
     "data": {
      "text/plain": [
       "0"
      ]
     },
     "execution_count": 16,
     "metadata": {},
     "output_type": "execute_result"
    }
   ],
   "source": [
    "data[\"education\"].fillna(data[\"education\"].mode()[0], inplace=True)\n",
    "data.isna().sum().sum()"
   ]
  },
  {
   "cell_type": "markdown",
   "id": "41210441",
   "metadata": {
    "_cell_guid": "aae8f66a-dae0-4a70-9761-9d961db04bd6",
    "_uuid": "504fde20-362c-4071-9c4c-28d9b834e67b",
    "papermill": {
     "duration": 0.07391,
     "end_time": "2022-01-18T16:34:33.064103",
     "exception": false,
     "start_time": "2022-01-18T16:34:32.990193",
     "status": "completed"
    },
    "tags": []
   },
   "source": [
    "## Работа с переменными"
   ]
  },
  {
   "cell_type": "markdown",
   "id": "1679d045",
   "metadata": {
    "_cell_guid": "217f8c0e-83fd-4132-a36a-f4ce10c35105",
    "_uuid": "8687b9db-31ad-4023-a1e7-cdec99c41a28",
    "papermill": {
     "duration": 0.073267,
     "end_time": "2022-01-18T16:34:33.211132",
     "exception": false,
     "start_time": "2022-01-18T16:34:33.137865",
     "status": "completed"
    },
    "tags": []
   },
   "source": [
    "### 1.  Числовые признаки\n",
    "* client_id - идентификатор\n",
    "* age - возраст\n",
    "* decline_app_cnt - количество отклонённых заявок\n",
    "* score_bki - скоринговый балл\n",
    "* bki_request_cnt - количество запросов в БКИ\n",
    "* region_rating - рейтинг региона\n",
    "* income - доход"
   ]
  },
  {
   "cell_type": "code",
   "execution_count": 17,
   "id": "2cc5c648",
   "metadata": {
    "_cell_guid": "b9f70f06-f53f-4989-a4a5-137542be0929",
    "_uuid": "8d4a7fe9-72db-4580-873e-10c58279e93d",
    "execution": {
     "iopub.execute_input": "2022-01-18T16:34:33.363761Z",
     "iopub.status.busy": "2022-01-18T16:34:33.363108Z",
     "iopub.status.idle": "2022-01-18T16:34:33.372289Z",
     "shell.execute_reply": "2022-01-18T16:34:33.372743Z",
     "shell.execute_reply.started": "2022-01-18T16:29:20.662882Z"
    },
    "jupyter": {
     "outputs_hidden": false
    },
    "papermill": {
     "duration": 0.08793,
     "end_time": "2022-01-18T16:34:33.372921",
     "exception": false,
     "start_time": "2022-01-18T16:34:33.284991",
     "status": "completed"
    },
    "tags": []
   },
   "outputs": [
    {
     "data": {
      "text/plain": [
       "True"
      ]
     },
     "execution_count": 17,
     "metadata": {},
     "output_type": "execute_result"
    }
   ],
   "source": [
    "data[\"client_id\"].nunique() == data.shape[0]\n",
    "# Видим, что id уникален для каждого клиента, поэтому его можно удалить"
   ]
  },
  {
   "cell_type": "code",
   "execution_count": 18,
   "id": "a71bc8f5",
   "metadata": {
    "_cell_guid": "b1135fc1-443f-4f94-883d-af8adaaea799",
    "_uuid": "7f11c0e8-6781-48b2-80b3-a26b0b611325",
    "execution": {
     "iopub.execute_input": "2022-01-18T16:34:33.527441Z",
     "iopub.status.busy": "2022-01-18T16:34:33.526829Z",
     "iopub.status.idle": "2022-01-18T16:34:33.539598Z",
     "shell.execute_reply": "2022-01-18T16:34:33.538962Z",
     "shell.execute_reply.started": "2022-01-18T16:29:21.041502Z"
    },
    "jupyter": {
     "outputs_hidden": false
    },
    "papermill": {
     "duration": 0.092824,
     "end_time": "2022-01-18T16:34:33.539746",
     "exception": false,
     "start_time": "2022-01-18T16:34:33.446922",
     "status": "completed"
    },
    "tags": []
   },
   "outputs": [],
   "source": [
    "data.drop(\"client_id\", axis=1, inplace=True)"
   ]
  },
  {
   "cell_type": "code",
   "execution_count": 19,
   "id": "504f6445",
   "metadata": {
    "_cell_guid": "79b8463e-8697-4dc9-8943-22c2960fb65b",
    "_uuid": "b9224205-ef4c-4c4c-8b9d-03190850a838",
    "execution": {
     "iopub.execute_input": "2022-01-18T16:34:33.694014Z",
     "iopub.status.busy": "2022-01-18T16:34:33.691813Z",
     "iopub.status.idle": "2022-01-18T16:34:33.696155Z",
     "shell.execute_reply": "2022-01-18T16:34:33.696614Z",
     "shell.execute_reply.started": "2022-01-18T16:29:21.491042Z"
    },
    "jupyter": {
     "outputs_hidden": false
    },
    "papermill": {
     "duration": 0.081501,
     "end_time": "2022-01-18T16:34:33.696786",
     "exception": false,
     "start_time": "2022-01-18T16:34:33.615285",
     "status": "completed"
    },
    "tags": []
   },
   "outputs": [],
   "source": [
    "num_cols = [\"age\", \"decline_app_cnt\", \"score_bki\", \n",
    "            \"bki_request_cnt\", \"region_rating\", \"income\"]"
   ]
  },
  {
   "cell_type": "code",
   "execution_count": 20,
   "id": "f38b5639",
   "metadata": {
    "_cell_guid": "fb2757ef-7797-4d52-a03f-e65ce0eea4e1",
    "_uuid": "fee679e4-cfdc-4afa-bdab-f1b4ef1c68a9",
    "execution": {
     "iopub.execute_input": "2022-01-18T16:34:33.850455Z",
     "iopub.status.busy": "2022-01-18T16:34:33.849833Z",
     "iopub.status.idle": "2022-01-18T16:34:38.152685Z",
     "shell.execute_reply": "2022-01-18T16:34:38.153279Z",
     "shell.execute_reply.started": "2022-01-18T16:29:22.004456Z"
    },
    "jupyter": {
     "outputs_hidden": false
    },
    "papermill": {
     "duration": 4.380886,
     "end_time": "2022-01-18T16:34:38.153486",
     "exception": false,
     "start_time": "2022-01-18T16:34:33.772600",
     "status": "completed"
    },
    "tags": []
   },
   "outputs": [
    {
     "data": {
      "image/png": "[encoded data removed]",
      "text/plain": [
       "<Figure size 1800x1080 with 6 Axes>"
      ]
     },
     "metadata": {
      "needs_background": "light"
     },
     "output_type": "display_data"
    }
   ],
   "source": [
    "fig, axes = plt.subplots(2, 3, figsize=(25,15))\n",
    "\n",
    "for i, col in enumerate(num_cols):\n",
    "    hist = sns.histplot(data[col], bins=20, kde=True, ax=axes.flat[i])\n",
    "    hist.set(ylabel=\"\")"
   ]
  },
  {
   "cell_type": "code",
   "execution_count": 21,
   "id": "e1308f5d",
   "metadata": {
    "_cell_guid": "02da33b2-1070-458e-8446-e94a1fa677fa",
    "_uuid": "79cd4d25-1ec2-4d30-bdb7-74721213ecc8",
    "execution": {
     "iopub.execute_input": "2022-01-18T16:34:38.330371Z",
     "iopub.status.busy": "2022-01-18T16:34:38.329663Z",
     "iopub.status.idle": "2022-01-18T16:34:39.132932Z",
     "shell.execute_reply": "2022-01-18T16:34:39.133452Z",
     "shell.execute_reply.started": "2022-01-18T16:29:26.683499Z"
    },
    "jupyter": {
     "outputs_hidden": false
    },
    "papermill": {
     "duration": 0.89915,
     "end_time": "2022-01-18T16:34:39.133646",
     "exception": false,
     "start_time": "2022-01-18T16:34:38.234496",
     "status": "completed"
    },
    "scrolled": true,
    "tags": []
   },
   "outputs": [
    {
     "data": {
      "image/png": "[encoded data removed]",
      "text/plain": [
       "<Figure size 1152x288 with 3 Axes>"
      ]
     },
     "metadata": {
      "needs_background": "light"
     },
     "output_type": "display_data"
    }
   ],
   "source": [
    "fig, axes = plt.subplots(1, 3, figsize=(16, 4))\n",
    "for i, col in enumerate([\"decline_app_cnt\", \"bki_request_cnt\", \"income\"]):\n",
    "#     data[col] = np.log(data[col] + 1)\n",
    "#     hist = sns.histplot(data[col], bins=40, ax=axes.flat[i], kde=False)\n",
    "    num_cols.append(f\"{col}_log\")\n",
    "    data[f\"{col}_log\"] = np.log(data[col] + 1)\n",
    "    hist = sns.histplot(data[f\"{col}_log\"], bins=40, ax=axes.flat[i], kde=False)\n",
    "    hist.set(ylabel=\"\")"
   ]
  },
  {
   "cell_type": "code",
   "execution_count": 22,
   "id": "a3f1d09e",
   "metadata": {
    "_cell_guid": "eb65a364-3f42-4266-bec4-3264fde7f012",
    "_uuid": "7548f60b-9daa-4277-80a4-b7f7d8f586de",
    "execution": {
     "iopub.execute_input": "2022-01-18T16:34:39.299080Z",
     "iopub.status.busy": "2022-01-18T16:34:39.298306Z",
     "iopub.status.idle": "2022-01-18T16:34:40.716519Z",
     "shell.execute_reply": "2022-01-18T16:34:40.717033Z",
     "shell.execute_reply.started": "2022-01-18T16:29:27.864119Z"
    },
    "jupyter": {
     "outputs_hidden": false
    },
    "papermill": {
     "duration": 1.503559,
     "end_time": "2022-01-18T16:34:40.717242",
     "exception": false,
     "start_time": "2022-01-18T16:34:39.213683",
     "status": "completed"
    },
    "scrolled": true,
    "tags": []
   },
   "outputs": [
    {
     "data": {
      "image/png": "[encoded data removed]",
      "text/plain": [
       "<Figure size 1296x1296 with 9 Axes>"
      ]
     },
     "metadata": {
      "needs_background": "light"
     },
     "output_type": "display_data"
    }
   ],
   "source": [
    "fig, axes = plt.subplots(3, 3, figsize=(18, 18))\n",
    "axes = axes.flatten()\n",
    "for i in range(len(num_cols)):\n",
    "    sns.boxplot(x=\"default\", y=num_cols[i], data=data[data[\"default\"]>=0], orient=\"v\", ax=axes[i])\n",
    "# видим, например, что у \"хороших\" клиентов в прошлом обычно не было отказов на выдачу кредитов\n",
    "# также у них более низкий скоринговый балл и меньше запросов в БКИ"
   ]
  },
  {
   "cell_type": "markdown",
   "id": "728350de",
   "metadata": {
    "_cell_guid": "06712f9f-e7ef-40c2-bbfc-e60f64cc40e2",
    "_uuid": "1e105279-d32e-48f9-8a4c-7a79050afa14",
    "papermill": {
     "duration": 0.08038,
     "end_time": "2022-01-18T16:34:40.881607",
     "exception": false,
     "start_time": "2022-01-18T16:34:40.801227",
     "status": "completed"
    },
    "tags": []
   },
   "source": [
    "### Работа с выбросами\n",
    "Классический подход определяет многие данные как выбросы. Попробуем понять, действительно ли это выбросы."
   ]
  },
  {
   "cell_type": "code",
   "execution_count": 23,
   "id": "272168c9",
   "metadata": {
    "_cell_guid": "239cde9a-3861-4109-87c4-4f146a9eb999",
    "_uuid": "1df4ae42-aea1-4528-844e-ddcb34c40fdb",
    "execution": {
     "iopub.execute_input": "2022-01-18T16:34:41.051357Z",
     "iopub.status.busy": "2022-01-18T16:34:41.050690Z",
     "iopub.status.idle": "2022-01-18T16:34:41.103099Z",
     "shell.execute_reply": "2022-01-18T16:34:41.103652Z",
     "shell.execute_reply.started": "2022-01-18T16:29:29.517078Z"
    },
    "jupyter": {
     "outputs_hidden": false
    },
    "papermill": {
     "duration": 0.141816,
     "end_time": "2022-01-18T16:34:41.103836",
     "exception": false,
     "start_time": "2022-01-18T16:34:40.962020",
     "status": "completed"
    },
    "scrolled": true,
    "tags": []
   },
   "outputs": [
    {
     "name": "stdout",
     "output_type": "stream",
     "text": [
      "В признаке 'age' выбросов нет\n",
      "\n",
      "Количество выбросов в признаке 'decline_app_cnt': 18677\n",
      "Границы выбросов: [0.0, 0.0]\n",
      "\n",
      "Количество выбросов в признаке 'score_bki': 518\n",
      "Границы выбросов: [-3.299251946250001, -0.5290698762499992]\n",
      "\n",
      "Количество выбросов в признаке 'bki_request_cnt': 2636\n",
      "Границы выбросов: [-4.5, 7.5]\n",
      "\n",
      "Количество выбросов в признаке 'region_rating': 17917\n",
      "Границы выбросов: [35.0, 75.0]\n",
      "\n",
      "Количество выбросов в признаке 'income': 7000\n",
      "Границы выбросов: [-22000.0, 90000.0]\n",
      "\n",
      "Количество выбросов в признаке 'decline_app_cnt_log': 18677\n",
      "Границы выбросов: [0.0, 0.0]\n",
      "\n",
      "Количество выбросов в признаке 'bki_request_cnt_log': 15\n",
      "Границы выбросов: [-2.0794415416798357, 3.465735902799726]\n",
      "\n",
      "Количество выбросов в признаке 'income_log': 2609\n",
      "Границы выбросов: [8.590378193705899, 12.092136480586621]\n",
      "\n"
     ]
    }
   ],
   "source": [
    "for col in num_cols:\n",
    "    check_outliers(col, data)"
   ]
  },
  {
   "cell_type": "markdown",
   "id": "3628fcda",
   "metadata": {
    "_cell_guid": "a54db68d-bbc0-4e87-9910-408b3ad96823",
    "_uuid": "e5b95a21-6d47-4de9-a39e-2d3a7c5f1ca0",
    "papermill": {
     "duration": 0.080723,
     "end_time": "2022-01-18T16:34:41.266985",
     "exception": false,
     "start_time": "2022-01-18T16:34:41.186262",
     "status": "completed"
    },
    "tags": []
   },
   "source": [
    "__decline_app_cnt__"
   ]
  },
  {
   "cell_type": "code",
   "execution_count": 24,
   "id": "ccb656bf",
   "metadata": {
    "_cell_guid": "84296f26-54c9-49ce-9963-0acf9b9dd929",
    "_uuid": "c981174e-edbb-4f18-89d9-44b64bb5c2ce",
    "execution": {
     "iopub.execute_input": "2022-01-18T16:34:41.434745Z",
     "iopub.status.busy": "2022-01-18T16:34:41.432352Z",
     "iopub.status.idle": "2022-01-18T16:34:41.439694Z",
     "shell.execute_reply": "2022-01-18T16:34:41.440282Z",
     "shell.execute_reply.started": "2022-01-18T16:29:29.582576Z"
    },
    "jupyter": {
     "outputs_hidden": false
    },
    "papermill": {
     "duration": 0.092891,
     "end_time": "2022-01-18T16:34:41.440503",
     "exception": false,
     "start_time": "2022-01-18T16:34:41.347612",
     "status": "completed"
    },
    "tags": []
   },
   "outputs": [
    {
     "data": {
      "text/plain": [
       "(0.2732051421723499, 33)"
      ]
     },
     "execution_count": 24,
     "metadata": {},
     "output_type": "execute_result"
    }
   ],
   "source": [
    "dac = data[\"decline_app_cnt\"]\n",
    "dac.mean(), dac.max()\n",
    "# максимальное значение признака в сто раз больше среднего"
   ]
  },
  {
   "cell_type": "code",
   "execution_count": 25,
   "id": "4d85b72e",
   "metadata": {
    "_cell_guid": "d381f0bc-9575-4166-ba15-35b5a72cfcf0",
    "_uuid": "4b096f03-8a05-44c5-a506-e65a176ce21b",
    "execution": {
     "iopub.execute_input": "2022-01-18T16:34:41.618470Z",
     "iopub.status.busy": "2022-01-18T16:34:41.617493Z",
     "iopub.status.idle": "2022-01-18T16:34:41.628733Z",
     "shell.execute_reply": "2022-01-18T16:34:41.628238Z",
     "shell.execute_reply.started": "2022-01-18T16:29:29.594380Z"
    },
    "jupyter": {
     "outputs_hidden": false
    },
    "papermill": {
     "duration": 0.101569,
     "end_time": "2022-01-18T16:34:41.628918",
     "exception": false,
     "start_time": "2022-01-18T16:34:41.527349",
     "status": "completed"
    },
    "scrolled": true,
    "tags": []
   },
   "outputs": [
    {
     "data": {
      "text/plain": [
       "(0.0, 0.0)"
      ]
     },
     "execution_count": 25,
     "metadata": {},
     "output_type": "execute_result"
    }
   ],
   "source": [
    "borders(dac)"
   ]
  },
  {
   "cell_type": "code",
   "execution_count": 26,
   "id": "84c156af",
   "metadata": {
    "_cell_guid": "4d062436-c036-4fff-8918-78d694fcee28",
    "_uuid": "0cbcdcd1-af8c-4b99-8381-a9ee7386ad18",
    "execution": {
     "iopub.execute_input": "2022-01-18T16:34:41.804896Z",
     "iopub.status.busy": "2022-01-18T16:34:41.799892Z",
     "iopub.status.idle": "2022-01-18T16:34:41.807246Z",
     "shell.execute_reply": "2022-01-18T16:34:41.807746Z",
     "shell.execute_reply.started": "2022-01-18T16:29:29.614452Z"
    },
    "jupyter": {
     "outputs_hidden": false
    },
    "papermill": {
     "duration": 0.09552,
     "end_time": "2022-01-18T16:34:41.807909",
     "exception": false,
     "start_time": "2022-01-18T16:34:41.712389",
     "status": "completed"
    },
    "tags": []
   },
   "outputs": [
    {
     "data": {
      "text/plain": [
       "0     91471\n",
       "1     12500\n",
       "2      3622\n",
       "3      1365\n",
       "4       606\n",
       "5       255\n",
       "6       156\n",
       "7        58\n",
       "8        37\n",
       "9        29\n",
       "10       16\n",
       "11       10\n",
       "12        5\n",
       "13        4\n",
       "14        3\n",
       "16        3\n",
       "21        1\n",
       "30        1\n",
       "20        1\n",
       "19        1\n",
       "22        1\n",
       "33        1\n",
       "15        1\n",
       "24        1\n",
       "Name: decline_app_cnt, dtype: int64"
      ]
     },
     "execution_count": 26,
     "metadata": {},
     "output_type": "execute_result"
    }
   ],
   "source": [
    "dac.value_counts()"
   ]
  },
  {
   "cell_type": "markdown",
   "id": "24db2771",
   "metadata": {
    "_cell_guid": "f7c4f16b-f045-433c-b6c6-2bd9bc3acdb9",
    "_uuid": "ab88f6b6-5195-48cb-98d8-bab754b3e959",
    "papermill": {
     "duration": 0.082003,
     "end_time": "2022-01-18T16:34:41.971675",
     "exception": false,
     "start_time": "2022-01-18T16:34:41.889672",
     "status": "completed"
    },
    "tags": []
   },
   "source": [
    "Стандартный подход говорит нам, что в этом признаке всё, кроме нулей - выбросы. Если мы заменим всё на нули, то признак потеряет какую-либо ценность для модели. Потому подойдём к выбросам умнее, сделав из этого признака бинарный (у нас также останется логарифмированный вариант признака): 0 - не было отказов, 1 - были."
   ]
  },
  {
   "cell_type": "code",
   "execution_count": 27,
   "id": "d54d9a49",
   "metadata": {
    "_cell_guid": "d88743bd-3b30-4079-be91-150d9f4e1ce4",
    "_uuid": "37178dd5-c7ce-458e-b59c-304d7ff6b31d",
    "execution": {
     "iopub.execute_input": "2022-01-18T16:34:42.141811Z",
     "iopub.status.busy": "2022-01-18T16:34:42.141216Z",
     "iopub.status.idle": "2022-01-18T16:34:42.149929Z",
     "shell.execute_reply": "2022-01-18T16:34:42.149490Z",
     "shell.execute_reply.started": "2022-01-18T16:29:30.542861Z"
    },
    "jupyter": {
     "outputs_hidden": false
    },
    "papermill": {
     "duration": 0.095289,
     "end_time": "2022-01-18T16:34:42.150071",
     "exception": false,
     "start_time": "2022-01-18T16:34:42.054782",
     "status": "completed"
    },
    "tags": []
   },
   "outputs": [],
   "source": [
    "dac[dac >= 1] = 1\n",
    "num_cols.remove(\"decline_app_cnt\")"
   ]
  },
  {
   "cell_type": "code",
   "execution_count": 28,
   "id": "fd2bb2dc",
   "metadata": {
    "_cell_guid": "d9013cdf-d9f8-41bf-a5e3-3732f9464e74",
    "_uuid": "6186ff73-003f-4e73-934e-583742d5569a",
    "execution": {
     "iopub.execute_input": "2022-01-18T16:34:42.318581Z",
     "iopub.status.busy": "2022-01-18T16:34:42.317960Z",
     "iopub.status.idle": "2022-01-18T16:34:42.324766Z",
     "shell.execute_reply": "2022-01-18T16:34:42.325283Z",
     "shell.execute_reply.started": "2022-01-18T16:29:31.037117Z"
    },
    "jupyter": {
     "outputs_hidden": false
    },
    "papermill": {
     "duration": 0.093862,
     "end_time": "2022-01-18T16:34:42.325456",
     "exception": false,
     "start_time": "2022-01-18T16:34:42.231594",
     "status": "completed"
    },
    "tags": []
   },
   "outputs": [
    {
     "data": {
      "text/plain": [
       "0    91471\n",
       "1    18677\n",
       "Name: decline_app_cnt, dtype: int64"
      ]
     },
     "execution_count": 28,
     "metadata": {},
     "output_type": "execute_result"
    }
   ],
   "source": [
    "data[\"decline_app_cnt\"].value_counts()\n",
    "# заметим, что мы изменили исходные данные (как и хотели)"
   ]
  },
  {
   "cell_type": "markdown",
   "id": "f7834760",
   "metadata": {
    "_cell_guid": "33074f7c-de22-459a-8a59-698819898830",
    "_uuid": "fae77873-fcd1-45d0-90e3-c9edcf1c8a7e",
    "papermill": {
     "duration": 0.084258,
     "end_time": "2022-01-18T16:34:42.493891",
     "exception": false,
     "start_time": "2022-01-18T16:34:42.409633",
     "status": "completed"
    },
    "tags": []
   },
   "source": [
    "### 2.  Бинарные признаки\n",
    "* sex - пол клиента\n",
    "* car - флаг наличия машины\n",
    "* car_type - флаг машины-иномарки\n",
    "* good_work - флаг наличия \"хорошей\" работы\n",
    "* foreign_passport - флаг наличия иностранного паспорта"
   ]
  },
  {
   "cell_type": "code",
   "execution_count": 29,
   "id": "6541cb18",
   "metadata": {
    "_cell_guid": "025fc6ae-a0b4-48a9-8c86-35d9c04eea90",
    "_uuid": "f4340f44-7492-4e8b-aa50-5e26533f721b",
    "execution": {
     "iopub.execute_input": "2022-01-18T16:34:42.668500Z",
     "iopub.status.busy": "2022-01-18T16:34:42.667838Z",
     "iopub.status.idle": "2022-01-18T16:34:42.671151Z",
     "shell.execute_reply": "2022-01-18T16:34:42.671673Z",
     "shell.execute_reply.started": "2022-01-18T16:29:32.234183Z"
    },
    "jupyter": {
     "outputs_hidden": false
    },
    "papermill": {
     "duration": 0.091391,
     "end_time": "2022-01-18T16:34:42.671833",
     "exception": false,
     "start_time": "2022-01-18T16:34:42.580442",
     "status": "completed"
    },
    "tags": []
   },
   "outputs": [],
   "source": [
    "bin_cols = [\"sex\", \"car\", \"car_type\", \"good_work\", \"foreign_passport\"] \n",
    "# целевая переменная \"default\" и изменённая \"decline_app_cnt\" также являются бинарными"
   ]
  },
  {
   "cell_type": "code",
   "execution_count": 30,
   "id": "7cae6865",
   "metadata": {
    "_cell_guid": "1403ccd1-68f5-412a-8b83-0810bb8f8213",
    "_uuid": "88dce2b3-7755-4149-899c-ee1793dde95c",
    "execution": {
     "iopub.execute_input": "2022-01-18T16:34:42.846617Z",
     "iopub.status.busy": "2022-01-18T16:34:42.846011Z",
     "iopub.status.idle": "2022-01-18T16:34:42.877304Z",
     "shell.execute_reply": "2022-01-18T16:34:42.877803Z",
     "shell.execute_reply.started": "2022-01-18T16:29:32.947138Z"
    },
    "jupyter": {
     "outputs_hidden": false
    },
    "papermill": {
     "duration": 0.117875,
     "end_time": "2022-01-18T16:34:42.877976",
     "exception": false,
     "start_time": "2022-01-18T16:34:42.760101",
     "status": "completed"
    },
    "tags": []
   },
   "outputs": [
    {
     "name": "stdout",
     "output_type": "stream",
     "text": [
      "F    61836\n",
      "M    48312\n",
      "Name: sex, dtype: int64\n",
      "N    74290\n",
      "Y    35858\n",
      "Name: car, dtype: int64\n",
      "N    89140\n",
      "Y    21008\n",
      "Name: car_type, dtype: int64\n",
      "0    91917\n",
      "1    18231\n",
      "Name: good_work, dtype: int64\n",
      "N    93721\n",
      "Y    16427\n",
      "Name: foreign_passport, dtype: int64\n"
     ]
    }
   ],
   "source": [
    "for col in bin_cols:\n",
    "    print(data[col].value_counts())"
   ]
  },
  {
   "cell_type": "code",
   "execution_count": 31,
   "id": "132e5b55",
   "metadata": {
    "_cell_guid": "ff2474a2-4e98-45c9-a159-74f264b030e6",
    "_uuid": "bfd3bade-b112-4c9a-8364-bb4c2748223d",
    "execution": {
     "iopub.execute_input": "2022-01-18T16:34:43.050816Z",
     "iopub.status.busy": "2022-01-18T16:34:43.050205Z",
     "iopub.status.idle": "2022-01-18T16:34:43.159742Z",
     "shell.execute_reply": "2022-01-18T16:34:43.159243Z",
     "shell.execute_reply.started": "2022-01-18T16:29:33.543870Z"
    },
    "jupyter": {
     "outputs_hidden": false
    },
    "papermill": {
     "duration": 0.197522,
     "end_time": "2022-01-18T16:34:43.159883",
     "exception": false,
     "start_time": "2022-01-18T16:34:42.962361",
     "status": "completed"
    },
    "tags": []
   },
   "outputs": [],
   "source": [
    "enc = LabelEncoder()\n",
    "for col in bin_cols:\n",
    "    data[col] = enc.fit_transform(data[col])"
   ]
  },
  {
   "cell_type": "markdown",
   "id": "3463c936",
   "metadata": {
    "_cell_guid": "eed79a07-6346-4e72-807d-cb318df8cea9",
    "_uuid": "f95293ad-c1d7-42ac-9152-8639218995d2",
    "papermill": {
     "duration": 0.08922,
     "end_time": "2022-01-18T16:34:43.338013",
     "exception": false,
     "start_time": "2022-01-18T16:34:43.248793",
     "status": "completed"
    },
    "tags": []
   },
   "source": [
    "### 3.  Категориальные признаки\n",
    "* education - уровень образования\n",
    "* home_address - категория домашнего адреса\n",
    "* work_address - категория рабочего адреса\n",
    "* sna - связь заемщика с клиентами банка\n",
    "* first_time - давность наличия информации о клиенте"
   ]
  },
  {
   "cell_type": "code",
   "execution_count": 32,
   "id": "e9e1cfd9",
   "metadata": {
    "_cell_guid": "f0dae3f8-9829-474e-82d5-4411b5b45b67",
    "_uuid": "9a900612-a543-4198-b0dd-7e186756cf4e",
    "execution": {
     "iopub.execute_input": "2022-01-18T16:34:43.510815Z",
     "iopub.status.busy": "2022-01-18T16:34:43.510132Z",
     "iopub.status.idle": "2022-01-18T16:34:43.513745Z",
     "shell.execute_reply": "2022-01-18T16:34:43.514301Z",
     "shell.execute_reply.started": "2022-01-18T16:29:34.761767Z"
    },
    "jupyter": {
     "outputs_hidden": false
    },
    "papermill": {
     "duration": 0.09302,
     "end_time": "2022-01-18T16:34:43.514481",
     "exception": false,
     "start_time": "2022-01-18T16:34:43.421461",
     "status": "completed"
    },
    "tags": []
   },
   "outputs": [],
   "source": [
    "cat_cols = [\"education\", \"home_address\", \"work_address\", \"sna\",  \"first_time\"]"
   ]
  },
  {
   "cell_type": "code",
   "execution_count": 33,
   "id": "f5342eef",
   "metadata": {
    "_cell_guid": "d3519091-6220-4d7a-8d60-2ebfdfbefbf8",
    "_uuid": "4567c31b-677f-42cd-bed8-57718325217f",
    "execution": {
     "iopub.execute_input": "2022-01-18T16:34:43.688077Z",
     "iopub.status.busy": "2022-01-18T16:34:43.687392Z",
     "iopub.status.idle": "2022-01-18T16:34:43.942331Z",
     "shell.execute_reply": "2022-01-18T16:34:43.942824Z",
     "shell.execute_reply.started": "2022-01-18T16:29:35.431739Z"
    },
    "jupyter": {
     "outputs_hidden": false
    },
    "papermill": {
     "duration": 0.344227,
     "end_time": "2022-01-18T16:34:43.943021",
     "exception": false,
     "start_time": "2022-01-18T16:34:43.598794",
     "status": "completed"
    },
    "tags": []
   },
   "outputs": [
    {
     "data": {
      "image/png": "[encoded data removed]",
      "text/plain": [
       "<Figure size 1080x576 with 1 Axes>"
      ]
     },
     "metadata": {
      "needs_background": "light"
     },
     "output_type": "display_data"
    }
   ],
   "source": [
    "plt.figure(figsize=(15, 8))\n",
    "sns.boxplot(x=\"education\", y=\"income\", data=data, showfliers=False);\n",
    "# посмотрим, влияет ли уровень образования на доход"
   ]
  },
  {
   "cell_type": "code",
   "execution_count": 34,
   "id": "8493b400",
   "metadata": {
    "_cell_guid": "625450cb-ff57-4192-bbbb-7376f27290a2",
    "_uuid": "c703138b-c410-49c7-ba90-ea7a0920bfd3",
    "execution": {
     "iopub.execute_input": "2022-01-18T16:34:44.125945Z",
     "iopub.status.busy": "2022-01-18T16:34:44.124730Z",
     "iopub.status.idle": "2022-01-18T16:34:48.022159Z",
     "shell.execute_reply": "2022-01-18T16:34:48.021640Z",
     "shell.execute_reply.started": "2022-01-18T16:29:35.949287Z"
    },
    "jupyter": {
     "outputs_hidden": false
    },
    "papermill": {
     "duration": 3.991111,
     "end_time": "2022-01-18T16:34:48.022322",
     "exception": false,
     "start_time": "2022-01-18T16:34:44.031211",
     "status": "completed"
    },
    "tags": []
   },
   "outputs": [
    {
     "data": {
      "image/png": "[encoded data removed]",
      "text/plain": [
       "<Figure size 432x288 with 1 Axes>"
      ]
     },
     "metadata": {
      "needs_background": "light"
     },
     "output_type": "display_data"
    },
    {
     "data": {
      "image/png": "[encoded data removed]",
      "text/plain": [
       "<Figure size 432x288 with 1 Axes>"
      ]
     },
     "metadata": {
      "needs_background": "light"
     },
     "output_type": "display_data"
    },
    {
     "data": {
      "image/png": "[encoded data removed]",
      "text/plain": [
       "<Figure size 432x288 with 1 Axes>"
      ]
     },
     "metadata": {
      "needs_background": "light"
     },
     "output_type": "display_data"
    },
    {
     "data": {
      "image/png": "[encoded data removed]",
      "text/plain": [
       "<Figure size 432x288 with 1 Axes>"
      ]
     },
     "metadata": {
      "needs_background": "light"
     },
     "output_type": "display_data"
    },
    {
     "data": {
      "image/png": "[encoded data removed]",
      "text/plain": [
       "<Figure size 432x288 with 1 Axes>"
      ]
     },
     "metadata": {
      "needs_background": "light"
     },
     "output_type": "display_data"
    }
   ],
   "source": [
    "for col in cat_cols:\n",
    "    sns.barplot(x=col, y=\"default\", data=data[data[\"default\"] >= 0])\n",
    "    plt.show();\n",
    "# видим, что клиенты с высшим образованием в среднем надёжнее\n",
    "# а признаки work_address, sna и first_time можно расссматривать как \"ординальные\""
   ]
  },
  {
   "cell_type": "code",
   "execution_count": 35,
   "id": "9603f171",
   "metadata": {
    "execution": {
     "iopub.execute_input": "2022-01-18T16:34:48.203096Z",
     "iopub.status.busy": "2022-01-18T16:34:48.202418Z",
     "iopub.status.idle": "2022-01-18T16:34:48.246702Z",
     "shell.execute_reply": "2022-01-18T16:34:48.246018Z",
     "shell.execute_reply.started": "2022-01-18T16:29:40.241849Z"
    },
    "papermill": {
     "duration": 0.134446,
     "end_time": "2022-01-18T16:34:48.246867",
     "exception": false,
     "start_time": "2022-01-18T16:34:48.112421",
     "status": "completed"
    },
    "tags": []
   },
   "outputs": [],
   "source": [
    "# поменяем классы 2 и 3 для признака home_address, чтобы исправить тренд\n",
    "def swap(x):\n",
    "    if x == 2:\n",
    "        return 3\n",
    "    if x == 3:\n",
    "        return 2\n",
    "    return x\n",
    "\n",
    "data[\"home_address\"] = data[\"home_address\"].apply(swap)"
   ]
  },
  {
   "cell_type": "code",
   "execution_count": 36,
   "id": "20af22b0",
   "metadata": {
    "_cell_guid": "518d030e-66ec-4f1d-bd90-f82b42326daa",
    "_uuid": "1cb5a994-60a7-4f96-9e3c-59a38f7f5c5c",
    "execution": {
     "iopub.execute_input": "2022-01-18T16:34:48.423210Z",
     "iopub.status.busy": "2022-01-18T16:34:48.422616Z",
     "iopub.status.idle": "2022-01-18T16:34:48.473771Z",
     "shell.execute_reply": "2022-01-18T16:34:48.474261Z",
     "shell.execute_reply.started": "2022-01-18T16:29:41.675383Z"
    },
    "jupyter": {
     "outputs_hidden": false
    },
    "papermill": {
     "duration": 0.141446,
     "end_time": "2022-01-18T16:34:48.474454",
     "exception": false,
     "start_time": "2022-01-18T16:34:48.333008",
     "status": "completed"
    },
    "tags": []
   },
   "outputs": [],
   "source": [
    "data[\"has_degree\"] = data[\"education\"].apply(lambda x: 1 if x in [\"PGR\", \"ACD\"] else 0)\n",
    "bin_cols.append(\"has_degree\")"
   ]
  },
  {
   "cell_type": "code",
   "execution_count": 37,
   "id": "f2787180",
   "metadata": {
    "_cell_guid": "c048e0d8-c9ec-46bd-8eaf-d5871567eb80",
    "_uuid": "22c84f70-1465-42d1-b566-d0edb20a57f9",
    "execution": {
     "iopub.execute_input": "2022-01-18T16:34:48.653239Z",
     "iopub.status.busy": "2022-01-18T16:34:48.652545Z",
     "iopub.status.idle": "2022-01-18T16:34:48.736490Z",
     "shell.execute_reply": "2022-01-18T16:34:48.735982Z",
     "shell.execute_reply.started": "2022-01-18T16:29:42.635604Z"
    },
    "jupyter": {
     "outputs_hidden": false
    },
    "papermill": {
     "duration": 0.176292,
     "end_time": "2022-01-18T16:34:48.736642",
     "exception": false,
     "start_time": "2022-01-18T16:34:48.560350",
     "status": "completed"
    },
    "tags": []
   },
   "outputs": [],
   "source": [
    "# data[\"education\"] = enc.fit_transform(data[\"education\"])\n",
    "# закодируем также данные об образовании - это корректно, так как переменная ординальная\n",
    "ed = pd.crosstab(data[data.default >= 0].education, data[data.default >= 0].default, normalize='index').iloc[:, 1]\n",
    "data.education = data.education.map(ed)"
   ]
  },
  {
   "cell_type": "code",
   "execution_count": 38,
   "id": "00d4beb3",
   "metadata": {
    "_cell_guid": "69c9c21b-2772-4615-b482-4598ac5070b4",
    "_uuid": "ca3a6387-9226-48f1-9c3f-300c47c5b5b2",
    "execution": {
     "iopub.execute_input": "2022-01-18T16:34:48.918172Z",
     "iopub.status.busy": "2022-01-18T16:34:48.917491Z",
     "iopub.status.idle": "2022-01-18T16:34:49.084714Z",
     "shell.execute_reply": "2022-01-18T16:34:49.084087Z",
     "shell.execute_reply.started": "2022-01-18T16:29:50.000202Z"
    },
    "jupyter": {
     "outputs_hidden": false
    },
    "papermill": {
     "duration": 0.260251,
     "end_time": "2022-01-18T16:34:49.084850",
     "exception": false,
     "start_time": "2022-01-18T16:34:48.824599",
     "status": "completed"
    },
    "tags": []
   },
   "outputs": [],
   "source": [
    "new = pd.DataFrame(OneHotEncoder(sparse=False).fit_transform(data[cat_cols].values)).astype(int)\n",
    "data = pd.concat([data.drop(cat_cols, axis=1), new], axis=1)\n",
    "# data = pd.get_dummies(data, prefix=cat_cols, columns=cat_cols)\n",
    "# закодируем категориальные переменные"
   ]
  },
  {
   "cell_type": "markdown",
   "id": "42f9058a",
   "metadata": {
    "_cell_guid": "513c188a-db4c-4673-bcf6-39fd125d8f85",
    "_uuid": "fadd80ed-a6a5-43cc-8a0c-4c443473dbe5",
    "papermill": {
     "duration": 0.087768,
     "end_time": "2022-01-18T16:34:49.262319",
     "exception": false,
     "start_time": "2022-01-18T16:34:49.174551",
     "status": "completed"
    },
    "tags": []
   },
   "source": [
    "__app_date__"
   ]
  },
  {
   "cell_type": "code",
   "execution_count": 39,
   "id": "16540d32",
   "metadata": {
    "_cell_guid": "4dcf4795-7f18-43b4-8759-3b61b033c909",
    "_uuid": "2ff21835-bc2c-4f10-8181-53e8bcd019c4",
    "execution": {
     "iopub.execute_input": "2022-01-18T16:34:49.444551Z",
     "iopub.status.busy": "2022-01-18T16:34:49.443867Z",
     "iopub.status.idle": "2022-01-18T16:34:49.451198Z",
     "shell.execute_reply": "2022-01-18T16:34:49.450663Z",
     "shell.execute_reply.started": "2022-01-18T16:29:52.368518Z"
    },
    "jupyter": {
     "outputs_hidden": false
    },
    "papermill": {
     "duration": 0.100411,
     "end_time": "2022-01-18T16:34:49.451372",
     "exception": false,
     "start_time": "2022-01-18T16:34:49.350961",
     "status": "completed"
    },
    "tags": []
   },
   "outputs": [
    {
     "data": {
      "text/plain": [
       "0         22MAR2014\n",
       "1         24JAN2014\n",
       "2         23MAR2014\n",
       "3         03FEB2014\n",
       "4         04FEB2014\n",
       "            ...    \n",
       "110143    04MAR2014\n",
       "110144    24MAR2014\n",
       "110145    22APR2014\n",
       "110146    04JAN2014\n",
       "110147    23JAN2014\n",
       "Name: app_date, Length: 110148, dtype: object"
      ]
     },
     "execution_count": 39,
     "metadata": {},
     "output_type": "execute_result"
    }
   ],
   "source": [
    "data[\"app_date\"]\n",
    "# дата в неудобном формате, преобразуем её"
   ]
  },
  {
   "cell_type": "code",
   "execution_count": 40,
   "id": "791522fd",
   "metadata": {
    "_kg_hide-input": true,
    "execution": {
     "iopub.execute_input": "2022-01-18T16:34:49.824810Z",
     "iopub.status.busy": "2022-01-18T16:34:49.824093Z",
     "iopub.status.idle": "2022-01-18T16:34:50.764921Z",
     "shell.execute_reply": "2022-01-18T16:34:50.764192Z",
     "shell.execute_reply.started": "2022-01-18T16:30:02.203640Z"
    },
    "papermill": {
     "duration": 1.035406,
     "end_time": "2022-01-18T16:34:50.765100",
     "exception": false,
     "start_time": "2022-01-18T16:34:49.729694",
     "status": "completed"
    },
    "tags": []
   },
   "outputs": [],
   "source": [
    "data[\"app_date\"] = data[\"app_date\"].apply(lambda x: datetime.strptime(x, '%d%b%Y').timestamp()).astype(int)"
   ]
  },
  {
   "cell_type": "markdown",
   "id": "b4d7dc1a",
   "metadata": {
    "_cell_guid": "9d3b914c-8b07-4737-9f74-3594e702b1eb",
    "_uuid": "d1a697a5-c97f-4fbe-9f39-bc1fed5a228d",
    "papermill": {
     "duration": 0.091439,
     "end_time": "2022-01-18T16:34:50.952885",
     "exception": false,
     "start_time": "2022-01-18T16:34:50.861446",
     "status": "completed"
    },
    "tags": []
   },
   "source": [
    "## Feature engineering"
   ]
  },
  {
   "cell_type": "code",
   "execution_count": 41,
   "id": "edeef788",
   "metadata": {
    "_cell_guid": "35b05ead-e33b-447f-9b20-cf237101fabe",
    "_uuid": "00f04624-f856-43ad-99b7-e14b5a44deb8",
    "execution": {
     "iopub.execute_input": "2022-01-18T16:34:51.141084Z",
     "iopub.status.busy": "2022-01-18T16:34:51.140104Z",
     "iopub.status.idle": "2022-01-18T16:34:51.144689Z",
     "shell.execute_reply": "2022-01-18T16:34:51.144099Z",
     "shell.execute_reply.started": "2022-01-18T16:30:25.965686Z"
    },
    "jupyter": {
     "outputs_hidden": false
    },
    "papermill": {
     "duration": 0.102133,
     "end_time": "2022-01-18T16:34:51.144855",
     "exception": false,
     "start_time": "2022-01-18T16:34:51.042722",
     "status": "completed"
    },
    "tags": []
   },
   "outputs": [],
   "source": [
    "data[\"bki_age_region\"] = data[\"score_bki\"] * data[\"region_rating\"] / data[\"age\"]"
   ]
  },
  {
   "cell_type": "code",
   "execution_count": 42,
   "id": "f34bccdd",
   "metadata": {
    "_cell_guid": "72fbb918-edab-4567-83e4-414523f58b4f",
    "_uuid": "3151792c-e8ae-4d17-95fb-53eec07d6ca1",
    "execution": {
     "iopub.execute_input": "2022-01-18T16:34:51.328203Z",
     "iopub.status.busy": "2022-01-18T16:34:51.327581Z",
     "iopub.status.idle": "2022-01-18T16:34:51.345059Z",
     "shell.execute_reply": "2022-01-18T16:34:51.345567Z",
     "shell.execute_reply.started": "2022-01-18T16:30:29.330582Z"
    },
    "jupyter": {
     "outputs_hidden": false
    },
    "papermill": {
     "duration": 0.110294,
     "end_time": "2022-01-18T16:34:51.345756",
     "exception": false,
     "start_time": "2022-01-18T16:34:51.235462",
     "status": "completed"
    },
    "tags": []
   },
   "outputs": [],
   "source": [
    "mean_income = data.groupby(\"age\")[\"income\"].mean().to_dict()\n",
    "data[\"mean_income\"] = data[\"age\"].map(mean_income)"
   ]
  },
  {
   "cell_type": "code",
   "execution_count": 43,
   "id": "3c4329b0",
   "metadata": {
    "_cell_guid": "41e32cb3-1915-4eaf-b19d-504598943b28",
    "_uuid": "fac1aaf4-6e5b-4f88-baa8-09649f7cafa3",
    "execution": {
     "iopub.execute_input": "2022-01-18T16:34:51.533107Z",
     "iopub.status.busy": "2022-01-18T16:34:51.532404Z",
     "iopub.status.idle": "2022-01-18T16:34:51.542390Z",
     "shell.execute_reply": "2022-01-18T16:34:51.542913Z",
     "shell.execute_reply.started": "2022-01-18T16:30:32.870675Z"
    },
    "jupyter": {
     "outputs_hidden": false
    },
    "papermill": {
     "duration": 0.102422,
     "end_time": "2022-01-18T16:34:51.543119",
     "exception": false,
     "start_time": "2022-01-18T16:34:51.440697",
     "status": "completed"
    },
    "tags": []
   },
   "outputs": [],
   "source": [
    "max_income = data.groupby(\"age\")[\"income\"].max().to_dict()\n",
    "data[\"max_income\"] = data[\"age\"].map(max_income)"
   ]
  },
  {
   "cell_type": "code",
   "execution_count": 44,
   "id": "857f3aba",
   "metadata": {
    "_cell_guid": "27158408-f7ed-4342-99a1-0325792d7ead",
    "_uuid": "871167b6-4328-4bc8-806a-76976eef67cd",
    "execution": {
     "iopub.execute_input": "2022-01-18T16:34:51.726293Z",
     "iopub.status.busy": "2022-01-18T16:34:51.725190Z",
     "iopub.status.idle": "2022-01-18T16:34:51.733550Z",
     "shell.execute_reply": "2022-01-18T16:34:51.734051Z",
     "shell.execute_reply.started": "2022-01-18T16:30:34.758356Z"
    },
    "jupyter": {
     "outputs_hidden": false
    },
    "papermill": {
     "duration": 0.102463,
     "end_time": "2022-01-18T16:34:51.734248",
     "exception": false,
     "start_time": "2022-01-18T16:34:51.631785",
     "status": "completed"
    },
    "tags": []
   },
   "outputs": [],
   "source": [
    "data[\"normalized_income\"] = abs(data.income - data.mean_income) / data.max_income"
   ]
  },
  {
   "cell_type": "code",
   "execution_count": 45,
   "id": "8a5fb9d4",
   "metadata": {
    "_cell_guid": "0b184669-7fbe-403f-91fe-16fe67b4de86",
    "_uuid": "0e0c70c2-7a35-4011-9ede-4be1f96b8249",
    "execution": {
     "iopub.execute_input": "2022-01-18T16:34:51.923462Z",
     "iopub.status.busy": "2022-01-18T16:34:51.922402Z",
     "iopub.status.idle": "2022-01-18T16:34:51.932547Z",
     "shell.execute_reply": "2022-01-18T16:34:51.933098Z",
     "shell.execute_reply.started": "2022-01-18T16:30:37.037629Z"
    },
    "jupyter": {
     "outputs_hidden": false
    },
    "papermill": {
     "duration": 0.106765,
     "end_time": "2022-01-18T16:34:51.933306",
     "exception": false,
     "start_time": "2022-01-18T16:34:51.826541",
     "status": "completed"
    },
    "tags": []
   },
   "outputs": [],
   "source": [
    "mean_income_reg = data.groupby('region_rating')['income'].mean().to_dict()\n",
    "data['mean_income_region'] = data['region_rating'].map(mean_income_reg)"
   ]
  },
  {
   "cell_type": "code",
   "execution_count": 46,
   "id": "469fec1b",
   "metadata": {
    "_cell_guid": "7b03f613-f6e3-4215-8ddb-f27a8b6317b2",
    "_uuid": "97fc0769-939a-4948-8929-1dc5aa5a9bfa",
    "execution": {
     "iopub.execute_input": "2022-01-18T16:34:52.116280Z",
     "iopub.status.busy": "2022-01-18T16:34:52.115333Z",
     "iopub.status.idle": "2022-01-18T16:34:52.126051Z",
     "shell.execute_reply": "2022-01-18T16:34:52.126561Z",
     "shell.execute_reply.started": "2022-01-18T16:30:39.798957Z"
    },
    "jupyter": {
     "outputs_hidden": false
    },
    "papermill": {
     "duration": 0.106281,
     "end_time": "2022-01-18T16:34:52.126769",
     "exception": false,
     "start_time": "2022-01-18T16:34:52.020488",
     "status": "completed"
    },
    "tags": []
   },
   "outputs": [],
   "source": [
    "mean_bki_age = data.groupby('age')['bki_request_cnt'].mean().to_dict()\n",
    "data['mean_requests_age'] = data['age'].map(mean_bki_age)"
   ]
  },
  {
   "cell_type": "code",
   "execution_count": 47,
   "id": "2a8fc444",
   "metadata": {
    "_cell_guid": "db897427-5f53-48b2-a79a-141437f979c6",
    "_uuid": "5d23d48b-d8ff-4bba-a80c-18d4e53e2b96",
    "execution": {
     "iopub.execute_input": "2022-01-18T16:34:52.305976Z",
     "iopub.status.busy": "2022-01-18T16:34:52.305091Z",
     "iopub.status.idle": "2022-01-18T16:34:52.316698Z",
     "shell.execute_reply": "2022-01-18T16:34:52.317189Z",
     "shell.execute_reply.started": "2022-01-18T16:30:44.085441Z"
    },
    "jupyter": {
     "outputs_hidden": false
    },
    "papermill": {
     "duration": 0.102114,
     "end_time": "2022-01-18T16:34:52.317352",
     "exception": false,
     "start_time": "2022-01-18T16:34:52.215238",
     "status": "completed"
    },
    "tags": []
   },
   "outputs": [],
   "source": [
    "mean_bki_inc = data.groupby('income')['bki_request_cnt'].mean().to_dict()\n",
    "data['mean_requests_income'] = data['income'].map(mean_bki_inc)"
   ]
  },
  {
   "cell_type": "code",
   "execution_count": 48,
   "id": "f984259b",
   "metadata": {
    "_cell_guid": "38bdbb93-fff1-4548-8bfa-2555a0779883",
    "_uuid": "86e7cb9f-ad1a-4d41-b86d-c5de9e407109",
    "execution": {
     "iopub.execute_input": "2022-01-18T16:34:52.495511Z",
     "iopub.status.busy": "2022-01-18T16:34:52.494526Z",
     "iopub.status.idle": "2022-01-18T16:34:52.496552Z",
     "shell.execute_reply": "2022-01-18T16:34:52.497020Z",
     "shell.execute_reply.started": "2022-01-18T16:30:53.365261Z"
    },
    "jupyter": {
     "outputs_hidden": false
    },
    "papermill": {
     "duration": 0.093966,
     "end_time": "2022-01-18T16:34:52.497174",
     "exception": false,
     "start_time": "2022-01-18T16:34:52.403208",
     "status": "completed"
    },
    "tags": []
   },
   "outputs": [],
   "source": [
    "num_cols = [\"age\", \"decline_app_cnt\", \"score_bki\", \n",
    "            \"bki_request_cnt\", \"region_rating\", \"income\", \n",
    "            \"app_date\", \"bki_age_region\", \"mean_income\",\n",
    "            \"max_income\", \"normalized_income\", \"mean_income_region\",\n",
    "            \"mean_requests_age\", \"mean_requests_income\"]\n",
    "# обновим список численных переменных"
   ]
  },
  {
   "cell_type": "code",
   "execution_count": 49,
   "id": "661011a8",
   "metadata": {
    "_cell_guid": "7c27184c-b025-45a3-bb8f-5b9a830bd2c4",
    "_uuid": "242fe661-2f03-4f74-b450-7f99a68234e5",
    "execution": {
     "iopub.execute_input": "2022-01-18T16:34:52.673261Z",
     "iopub.status.busy": "2022-01-18T16:34:52.672358Z",
     "iopub.status.idle": "2022-01-18T16:34:52.788037Z",
     "shell.execute_reply": "2022-01-18T16:34:52.787519Z",
     "shell.execute_reply.started": "2022-01-18T16:31:02.001210Z"
    },
    "jupyter": {
     "outputs_hidden": false
    },
    "papermill": {
     "duration": 0.20498,
     "end_time": "2022-01-18T16:34:52.788174",
     "exception": false,
     "start_time": "2022-01-18T16:34:52.583194",
     "status": "completed"
    },
    "tags": []
   },
   "outputs": [],
   "source": [
    "# отнормируем признаки\n",
    "data[num_cols] = pd.DataFrame(StandardScaler().fit_transform(data[num_cols]), columns=num_cols)"
   ]
  },
  {
   "cell_type": "markdown",
   "id": "32622895",
   "metadata": {
    "_cell_guid": "3e46b0f1-ea0d-4b58-91ef-e26e49e8ff19",
    "_uuid": "e30a7600-6e73-4502-852b-2e251a273e6a",
    "papermill": {
     "duration": 0.087348,
     "end_time": "2022-01-18T16:34:52.962620",
     "exception": false,
     "start_time": "2022-01-18T16:34:52.875272",
     "status": "completed"
    },
    "tags": []
   },
   "source": [
    "## Корреляционная матрица"
   ]
  },
  {
   "cell_type": "code",
   "execution_count": 50,
   "id": "8d8c7ff0",
   "metadata": {
    "_cell_guid": "0eac1ac3-41b1-44bb-a8fa-c911466aba20",
    "_uuid": "e6ce78da-77a7-4ef1-a5db-293814ce4831",
    "execution": {
     "iopub.execute_input": "2022-01-18T16:34:53.138254Z",
     "iopub.status.busy": "2022-01-18T16:34:53.137325Z",
     "iopub.status.idle": "2022-01-18T16:34:53.757595Z",
     "shell.execute_reply": "2022-01-18T16:34:53.758281Z",
     "shell.execute_reply.started": "2022-01-18T16:31:03.411029Z"
    },
    "jupyter": {
     "outputs_hidden": false
    },
    "papermill": {
     "duration": 0.70975,
     "end_time": "2022-01-18T16:34:53.758501",
     "exception": false,
     "start_time": "2022-01-18T16:34:53.048751",
     "status": "completed"
    },
    "tags": []
   },
   "outputs": [
    {
     "name": "stdout",
     "output_type": "stream",
     "text": [
      "Признаки decline_app_cnt и decline_app_cnt_log имеют корреляцию 0.927\n",
      "Признаки bki_request_cnt и bki_request_cnt_log имеют корреляцию 0.895\n",
      "Признаки region_rating и mean_income_region имеют корреляцию 0.917\n",
      "Признаки income и income_log имеют корреляцию 0.778\n",
      "Признаки income и normalized_income имеют корреляцию 0.800\n",
      "Признаки has_degree и 1 имеют корреляцию 0.929\n",
      "Признаки 2 и 4 имеют корреляцию -0.722\n",
      "Признаки 5 и 7 имеют корреляцию -0.966\n",
      "Признаки 5 и 10 имеют корреляцию -0.820\n",
      "Признаки 7 и 10 имеют корреляцию 0.795\n",
      "Признаки 9 и 10 имеют корреляцию -0.777\n"
     ]
    }
   ],
   "source": [
    "corr = data.drop(\"train\", axis=1).corr()\n",
    "up = corr.where(np.triu(np.ones(corr.shape), k=1).astype(bool)) \n",
    "for i in up.index:\n",
    "    for col in up.columns:\n",
    "        if i != col and abs(up.loc[i, col]) > 0.7:\n",
    "                print(f\"Признаки {i} и {col} имеют корреляцию {up.loc[i, col]:.3f}\")\n",
    "# видим, что высоко скоррелированы модифицированные признаки и их изначальные версии, а также home_address и work_address"
   ]
  },
  {
   "cell_type": "code",
   "execution_count": 51,
   "id": "191621ec",
   "metadata": {
    "_cell_guid": "55143df1-6985-418a-98a4-5884331e74a7",
    "_uuid": "80dc2bbb-da5c-405d-97d8-953cda29bd51",
    "execution": {
     "iopub.execute_input": "2022-01-18T16:34:53.942505Z",
     "iopub.status.busy": "2022-01-18T16:34:53.941845Z",
     "iopub.status.idle": "2022-01-18T16:34:56.042181Z",
     "shell.execute_reply": "2022-01-18T16:34:56.042653Z",
     "shell.execute_reply.started": "2022-01-18T16:31:11.034410Z"
    },
    "jupyter": {
     "outputs_hidden": false
    },
    "papermill": {
     "duration": 2.19362,
     "end_time": "2022-01-18T16:34:56.042854",
     "exception": false,
     "start_time": "2022-01-18T16:34:53.849234",
     "status": "completed"
    },
    "tags": []
   },
   "outputs": [
    {
     "data": {
      "image/png": "[encoded data removed]",
      "text/plain": [
       "<Figure size 1440x1440 with 1 Axes>"
      ]
     },
     "metadata": {
      "needs_background": "light"
     },
     "output_type": "display_data"
    }
   ],
   "source": [
    "plt.rcParams['figure.figsize'] = 20, 20\n",
    "sns.heatmap(corr.iloc[:20, :20], cmap='vlag', annot=True, vmin = -0.5, cbar=False, square=True); "
   ]
  },
  {
   "cell_type": "code",
   "execution_count": 52,
   "id": "5a22d55f",
   "metadata": {
    "_cell_guid": "5b39f569-783e-4c22-9e74-141f2ddae80c",
    "_uuid": "2ce95319-00ef-4b80-9fdc-241b44f63c94",
    "execution": {
     "iopub.execute_input": "2022-01-18T16:34:56.240250Z",
     "iopub.status.busy": "2022-01-18T16:34:56.239633Z",
     "iopub.status.idle": "2022-01-18T16:34:56.854767Z",
     "shell.execute_reply": "2022-01-18T16:34:56.855258Z",
     "shell.execute_reply.started": "2022-01-18T16:31:14.752052Z"
    },
    "jupyter": {
     "outputs_hidden": false
    },
    "papermill": {
     "duration": 0.715661,
     "end_time": "2022-01-18T16:34:56.855489",
     "exception": false,
     "start_time": "2022-01-18T16:34:56.139828",
     "status": "completed"
    },
    "tags": []
   },
   "outputs": [
    {
     "name": "stdout",
     "output_type": "stream",
     "text": [
      "Determinant of the matrix is 0.0000000000000000000000000000000000000000000000000000000000000000000000000000000000000000000818281607\n"
     ]
    }
   ],
   "source": [
    "determinant = np.prod(np.linalg.eig(data.corr())[0])\n",
    "print(f\"Determinant of the matrix is {determinant:.100f}\")\n",
    "# детерминант маленький, и это не радует"
   ]
  },
  {
   "cell_type": "code",
   "execution_count": 53,
   "id": "b13e3586",
   "metadata": {
    "_cell_guid": "d59379df-6f91-434c-b048-0ae90ea11897",
    "_uuid": "0f51624d-fb75-4730-9ed0-d8c15ba41c59",
    "execution": {
     "iopub.execute_input": "2022-01-18T16:34:57.063662Z",
     "iopub.status.busy": "2022-01-18T16:34:57.062810Z",
     "iopub.status.idle": "2022-01-18T16:34:57.688238Z",
     "shell.execute_reply": "2022-01-18T16:34:57.687462Z",
     "shell.execute_reply.started": "2022-01-18T16:31:25.745134Z"
    },
    "jupyter": {
     "outputs_hidden": false
    },
    "papermill": {
     "duration": 0.735703,
     "end_time": "2022-01-18T16:34:57.688399",
     "exception": false,
     "start_time": "2022-01-18T16:34:56.952696",
     "status": "completed"
    },
    "tags": []
   },
   "outputs": [
    {
     "data": {
      "text/plain": [
       "['mean_income_region', 'has_degree', 'decline_app_cnt_log', 5]"
      ]
     },
     "execution_count": 53,
     "metadata": {},
     "output_type": "execute_result"
    }
   ],
   "source": [
    "drop = features_to_drop(data.drop(\"train\", axis=1), cut=.9)\n",
    "# найдём признаки, скоррелированные сильнее 0.9 по модулю\n",
    "drop"
   ]
  },
  {
   "cell_type": "code",
   "execution_count": 54,
   "id": "ec8ecfa8",
   "metadata": {
    "_cell_guid": "2ec9d0fb-227c-40f5-b331-b1876d99402b",
    "_uuid": "8c39aeb5-5e2a-4f6a-9b90-ae069dc08e19",
    "execution": {
     "iopub.execute_input": "2022-01-18T16:34:57.900040Z",
     "iopub.status.busy": "2022-01-18T16:34:57.899098Z",
     "iopub.status.idle": "2022-01-18T16:34:57.902356Z",
     "shell.execute_reply": "2022-01-18T16:34:57.901871Z",
     "shell.execute_reply.started": "2022-01-18T16:31:30.919031Z"
    },
    "jupyter": {
     "outputs_hidden": false
    },
    "papermill": {
     "duration": 0.117896,
     "end_time": "2022-01-18T16:34:57.902524",
     "exception": false,
     "start_time": "2022-01-18T16:34:57.784628",
     "status": "completed"
    },
    "tags": []
   },
   "outputs": [],
   "source": [
    "data.drop(drop, axis=1, inplace=True)"
   ]
  },
  {
   "cell_type": "code",
   "execution_count": 55,
   "id": "be84b3eb",
   "metadata": {
    "_cell_guid": "d0628cb7-84b0-4840-af59-5c93c79734e1",
    "_uuid": "5a6b6704-dddc-4a24-a959-b7833695d41a",
    "execution": {
     "iopub.execute_input": "2022-01-18T16:34:58.102672Z",
     "iopub.status.busy": "2022-01-18T16:34:58.101971Z",
     "iopub.status.idle": "2022-01-18T16:34:58.572827Z",
     "shell.execute_reply": "2022-01-18T16:34:58.573227Z",
     "shell.execute_reply.started": "2022-01-18T16:31:34.079347Z"
    },
    "jupyter": {
     "outputs_hidden": false
    },
    "papermill": {
     "duration": 0.574633,
     "end_time": "2022-01-18T16:34:58.573414",
     "exception": false,
     "start_time": "2022-01-18T16:34:57.998781",
     "status": "completed"
    },
    "tags": []
   },
   "outputs": [
    {
     "name": "stdout",
     "output_type": "stream",
     "text": [
      "Determinant of the matrix is 0.0000000000000000000000000000000000000000000000000000000000000199802684937326348566518023685248360756\n"
     ]
    }
   ],
   "source": [
    "determinant = np.prod(np.linalg.eig(data.corr())[0])\n",
    "print(f\"Determinant of the matrix is {determinant:.100f}\")\n",
    "# стало чуть лучше :,)"
   ]
  },
  {
   "cell_type": "markdown",
   "id": "f3f15d35",
   "metadata": {
    "_cell_guid": "39e10704-c3df-4404-a026-2ff003085576",
    "_uuid": "fcea3633-cb13-41a0-a29f-b5c67f9585e4",
    "papermill": {
     "duration": 0.092618,
     "end_time": "2022-01-18T16:34:58.759317",
     "exception": false,
     "start_time": "2022-01-18T16:34:58.666699",
     "status": "completed"
    },
    "tags": []
   },
   "source": [
    "## Подготовка данных и обучение модели"
   ]
  },
  {
   "cell_type": "code",
   "execution_count": 56,
   "id": "c68fceff",
   "metadata": {
    "_cell_guid": "b4cc36f9-61af-4c89-ab2b-f2601da709b8",
    "_uuid": "c1146e98-62e0-48fa-800a-13a62897f0ee",
    "execution": {
     "iopub.execute_input": "2022-01-18T16:34:58.966527Z",
     "iopub.status.busy": "2022-01-18T16:34:58.965868Z",
     "iopub.status.idle": "2022-01-18T16:34:58.996262Z",
     "shell.execute_reply": "2022-01-18T16:34:58.995718Z",
     "shell.execute_reply.started": "2022-01-18T16:31:36.835465Z"
    },
    "jupyter": {
     "outputs_hidden": false
    },
    "papermill": {
     "duration": 0.140239,
     "end_time": "2022-01-18T16:34:58.996441",
     "exception": false,
     "start_time": "2022-01-18T16:34:58.856202",
     "status": "completed"
    },
    "tags": []
   },
   "outputs": [],
   "source": [
    "train_df = data.query(\"train == 1\").drop([\"train\"], axis=1)\n",
    "test_df = data.query(\"train == 0\").drop([\"train\", \"default\"], axis=1)"
   ]
  },
  {
   "cell_type": "code",
   "execution_count": 57,
   "id": "81148cc2",
   "metadata": {
    "_cell_guid": "adc84838-7a2b-4bfc-926e-d13654e7dc7f",
    "_uuid": "7ad9752b-14ac-4f2e-a3de-526a9ab0d4b5",
    "execution": {
     "iopub.execute_input": "2022-01-18T16:34:59.203018Z",
     "iopub.status.busy": "2022-01-18T16:34:59.201419Z",
     "iopub.status.idle": "2022-01-18T16:34:59.217305Z",
     "shell.execute_reply": "2022-01-18T16:34:59.216679Z",
     "shell.execute_reply.started": "2022-01-18T16:31:39.361626Z"
    },
    "jupyter": {
     "outputs_hidden": false
    },
    "papermill": {
     "duration": 0.126103,
     "end_time": "2022-01-18T16:34:59.217493",
     "exception": false,
     "start_time": "2022-01-18T16:34:59.091390",
     "status": "completed"
    },
    "tags": []
   },
   "outputs": [],
   "source": [
    "X = train_df.drop([\"default\"], axis=1).values\n",
    "y = train_df[\"default\"].values"
   ]
  },
  {
   "cell_type": "code",
   "execution_count": 58,
   "id": "a0648a22",
   "metadata": {
    "_cell_guid": "e810b679-dc5a-4b06-9298-c22b8069b8c3",
    "_uuid": "d95199b5-3d1a-4f15-9c61-7740008bcac8",
    "execution": {
     "iopub.execute_input": "2022-01-18T16:34:59.413664Z",
     "iopub.status.busy": "2022-01-18T16:34:59.413069Z",
     "iopub.status.idle": "2022-01-18T16:34:59.461490Z",
     "shell.execute_reply": "2022-01-18T16:34:59.460996Z",
     "shell.execute_reply.started": "2022-01-18T16:32:02.365822Z"
    },
    "jupyter": {
     "outputs_hidden": false
    },
    "papermill": {
     "duration": 0.147772,
     "end_time": "2022-01-18T16:34:59.461646",
     "exception": false,
     "start_time": "2022-01-18T16:34:59.313874",
     "status": "completed"
    },
    "scrolled": true,
    "tags": []
   },
   "outputs": [],
   "source": [
    "X_train, X_valid, y_train, y_valid = train_test_split(X, y, test_size=.2, random_state=100)"
   ]
  },
  {
   "cell_type": "code",
   "execution_count": 59,
   "id": "362accd1",
   "metadata": {
    "_cell_guid": "01b91158-7de4-4ad7-b82d-557998b58964",
    "_uuid": "dc2278e4-bb51-44b9-a4af-566fd91aa88c",
    "execution": {
     "iopub.execute_input": "2022-01-18T16:34:59.908951Z",
     "iopub.status.busy": "2022-01-18T16:34:59.908368Z",
     "iopub.status.idle": "2022-01-18T16:34:59.910142Z",
     "shell.execute_reply": "2022-01-18T16:34:59.910589Z",
     "shell.execute_reply.started": "2022-01-18T16:32:21.931941Z"
    },
    "jupyter": {
     "outputs_hidden": false
    },
    "papermill": {
     "duration": 0.101951,
     "end_time": "2022-01-18T16:34:59.910746",
     "exception": false,
     "start_time": "2022-01-18T16:34:59.808795",
     "status": "completed"
    },
    "tags": []
   },
   "outputs": [],
   "source": [
    "lr = LogisticRegression(max_iter=1000, random_state=497186)"
   ]
  },
  {
   "cell_type": "code",
   "execution_count": 60,
   "id": "d3628215",
   "metadata": {
    "_cell_guid": "f34f8d48-0f1e-44fc-a216-70461c720ab8",
    "_uuid": "9c7f5824-8c11-40f1-aebe-97c30c612cc5",
    "execution": {
     "iopub.execute_input": "2022-01-18T16:35:00.102748Z",
     "iopub.status.busy": "2022-01-18T16:35:00.102038Z",
     "iopub.status.idle": "2022-01-18T16:35:09.039086Z",
     "shell.execute_reply": "2022-01-18T16:35:09.039983Z",
     "shell.execute_reply.started": "2022-01-18T16:32:23.343925Z"
    },
    "jupyter": {
     "outputs_hidden": false
    },
    "papermill": {
     "duration": 9.034725,
     "end_time": "2022-01-18T16:35:09.040269",
     "exception": false,
     "start_time": "2022-01-18T16:35:00.005544",
     "status": "completed"
    },
    "tags": []
   },
   "outputs": [],
   "source": [
    "lr.fit(X_train, y_train)\n",
    "probs = lr.predict_proba(X_valid)[:, 1]"
   ]
  },
  {
   "cell_type": "code",
   "execution_count": 61,
   "id": "da911f7d",
   "metadata": {
    "_cell_guid": "16c7c181-61d7-4415-94c0-7457f614b1c5",
    "_uuid": "460cdf7d-c738-4e93-b03a-20a3cc0d5636",
    "execution": {
     "iopub.execute_input": "2022-01-18T16:35:09.291779Z",
     "iopub.status.busy": "2022-01-18T16:35:09.291160Z",
     "iopub.status.idle": "2022-01-18T16:35:09.544371Z",
     "shell.execute_reply": "2022-01-18T16:35:09.543907Z",
     "shell.execute_reply.started": "2022-01-18T16:32:31.910560Z"
    },
    "jupyter": {
     "outputs_hidden": false
    },
    "papermill": {
     "duration": 0.352693,
     "end_time": "2022-01-18T16:35:09.544527",
     "exception": false,
     "start_time": "2022-01-18T16:35:09.191834",
     "status": "completed"
    },
    "tags": []
   },
   "outputs": [
    {
     "data": {
      "image/png": "[encoded data removed]",
      "text/plain": [
       "<Figure size 576x576 with 1 Axes>"
      ]
     },
     "metadata": {
      "needs_background": "light"
     },
     "output_type": "display_data"
    }
   ],
   "source": [
    "plt.rcParams[\"figure.figsize\"] = 8, 8\n",
    "fpr, tpr, _ = roc_curve(y_valid, probs)\n",
    "roc_auc = roc_auc_score(y_valid, probs)\n",
    "plt.plot([0, 1], label=\"baseline\", linestyle=\"--\")\n",
    "plt.plot(fpr, tpr, label=\"regression\")\n",
    "plt.title(f\"roc_auc = {roc_auc:0.3f}\")\n",
    "plt.ylabel(\"True Positive Rate\")\n",
    "plt.xlabel(\"False Positive Rate\")\n",
    "plt.legend(loc=\"lower right\");"
   ]
  },
  {
   "cell_type": "code",
   "execution_count": 62,
   "id": "fb76ace8",
   "metadata": {
    "_cell_guid": "08b95b1d-d084-405e-80e0-11511049011d",
    "_uuid": "4c3d1f0d-7887-43ee-8d17-316e6e301b17",
    "execution": {
     "iopub.execute_input": "2022-01-18T16:35:09.743619Z",
     "iopub.status.busy": "2022-01-18T16:35:09.738505Z",
     "iopub.status.idle": "2022-01-18T16:35:09.758965Z",
     "shell.execute_reply": "2022-01-18T16:35:09.757983Z",
     "shell.execute_reply.started": "2022-01-18T16:32:37.182885Z"
    },
    "jupyter": {
     "outputs_hidden": false
    },
    "papermill": {
     "duration": 0.119817,
     "end_time": "2022-01-18T16:35:09.759183",
     "exception": false,
     "start_time": "2022-01-18T16:35:09.639366",
     "status": "completed"
    },
    "tags": []
   },
   "outputs": [
    {
     "data": {
      "text/plain": [
       "0.05893909626719057"
      ]
     },
     "execution_count": 62,
     "metadata": {},
     "output_type": "execute_result"
    }
   ],
   "source": [
    "pred = lr.predict(X_valid)\n",
    "f1_score(pred, y_valid)\n",
    "# очень низкий f-score, посмотрим матрицу ошибок"
   ]
  },
  {
   "cell_type": "code",
   "execution_count": 63,
   "id": "bb64541f",
   "metadata": {
    "_cell_guid": "6714ff8b-fd25-47ea-ad9f-d59d47db026d",
    "_uuid": "07aab996-95a7-41b1-ba2c-42535bc6d39b",
    "execution": {
     "iopub.execute_input": "2022-01-18T16:35:10.008973Z",
     "iopub.status.busy": "2022-01-18T16:35:10.008302Z",
     "iopub.status.idle": "2022-01-18T16:35:10.188696Z",
     "shell.execute_reply": "2022-01-18T16:35:10.189491Z",
     "shell.execute_reply.started": "2022-01-18T16:32:38.724926Z"
    },
    "jupyter": {
     "outputs_hidden": false
    },
    "papermill": {
     "duration": 0.282925,
     "end_time": "2022-01-18T16:35:10.189750",
     "exception": false,
     "start_time": "2022-01-18T16:35:09.906825",
     "status": "completed"
    },
    "scrolled": true,
    "tags": []
   },
   "outputs": [
    {
     "data": {
      "image/png": "[encoded data removed]",
      "text/plain": [
       "<Figure size 576x576 with 1 Axes>"
      ]
     },
     "metadata": {
      "needs_background": "light"
     },
     "output_type": "display_data"
    }
   ],
   "source": [
    "cm = confusion_matrix(y_valid, pred)\n",
    "disp = ConfusionMatrixDisplay(confusion_matrix=cm/np.sum(cm), display_labels=lr.classes_) # или confusion_matrix=cm\n",
    "disp.plot(cmap=\"Blues\", colorbar=False, values_format=\".2%\") # или values_format=\".0f\"\n",
    "plt.suptitle(\"Confusion matrix\", x=.52, y=.91);\n",
    "# всё понятно, модель считает >99% клиентов надёжными"
   ]
  },
  {
   "cell_type": "code",
   "execution_count": 64,
   "id": "c51c5384",
   "metadata": {
    "_cell_guid": "44f11c5e-605d-495a-b8df-cef26748b906",
    "_uuid": "61f23530-15c9-47ad-92e6-b2971cb8169a",
    "execution": {
     "iopub.execute_input": "2022-01-18T16:35:10.399848Z",
     "iopub.status.busy": "2022-01-18T16:35:10.399158Z",
     "iopub.status.idle": "2022-01-18T16:35:10.407693Z",
     "shell.execute_reply": "2022-01-18T16:35:10.408134Z",
     "shell.execute_reply.started": "2022-01-18T16:32:41.469880Z"
    },
    "jupyter": {
     "outputs_hidden": false
    },
    "papermill": {
     "duration": 0.110081,
     "end_time": "2022-01-18T16:35:10.408296",
     "exception": false,
     "start_time": "2022-01-18T16:35:10.298215",
     "status": "completed"
    },
    "tags": []
   },
   "outputs": [
    {
     "name": "stdout",
     "output_type": "stream",
     "text": [
      "threshold = 0.1690253736795258\n",
      "best_f_score = 0.3648985404058384\n"
     ]
    }
   ],
   "source": [
    "f_score, thresholds = calc_f_score(y_valid, probs)\n",
    "best_f_score = max(f_score)\n",
    "threshold = thresholds[np.argmax(f_score)]\n",
    "print(f\"threshold = {threshold}\\nbest_f_score = {best_f_score}\")"
   ]
  },
  {
   "cell_type": "code",
   "execution_count": 65,
   "id": "65c39d9c",
   "metadata": {
    "_cell_guid": "85ae3fa1-e677-4bf9-929e-306e33cbab5a",
    "_uuid": "c8a789e2-61d9-4043-8f27-f9010ad065c6",
    "execution": {
     "iopub.execute_input": "2022-01-18T16:35:10.609109Z",
     "iopub.status.busy": "2022-01-18T16:35:10.608478Z",
     "iopub.status.idle": "2022-01-18T16:35:10.844918Z",
     "shell.execute_reply": "2022-01-18T16:35:10.844338Z",
     "shell.execute_reply.started": "2022-01-18T16:32:42.954144Z"
    },
    "jupyter": {
     "outputs_hidden": false
    },
    "papermill": {
     "duration": 0.339193,
     "end_time": "2022-01-18T16:35:10.845057",
     "exception": false,
     "start_time": "2022-01-18T16:35:10.505864",
     "status": "completed"
    },
    "tags": []
   },
   "outputs": [
    {
     "data": {
      "image/png": "[encoded data removed]",
      "text/plain": [
       "<Figure size 576x576 with 1 Axes>"
      ]
     },
     "metadata": {
      "needs_background": "light"
     },
     "output_type": "display_data"
    }
   ],
   "source": [
    "plt.plot(thresholds, f_score)\n",
    "plt.plot(np.array([threshold] * 1000), np.linspace(0, best_f_score, 1000));"
   ]
  },
  {
   "cell_type": "code",
   "execution_count": 66,
   "id": "48218373",
   "metadata": {
    "_cell_guid": "5390e1c5-aaf5-4e7a-aa4b-f33da7ec81f8",
    "_uuid": "022da539-efcc-44d1-b7ed-d151d7ad9ca7",
    "execution": {
     "iopub.execute_input": "2022-01-18T16:35:11.046295Z",
     "iopub.status.busy": "2022-01-18T16:35:11.045719Z",
     "iopub.status.idle": "2022-01-18T16:35:11.048697Z",
     "shell.execute_reply": "2022-01-18T16:35:11.049126Z",
     "shell.execute_reply.started": "2022-01-18T16:32:45.922542Z"
    },
    "jupyter": {
     "outputs_hidden": false
    },
    "papermill": {
     "duration": 0.105884,
     "end_time": "2022-01-18T16:35:11.049285",
     "exception": false,
     "start_time": "2022-01-18T16:35:10.943401",
     "status": "completed"
    },
    "tags": []
   },
   "outputs": [],
   "source": [
    "probs[probs >= threshold] = 1\n",
    "probs[probs < threshold] = 0"
   ]
  },
  {
   "cell_type": "markdown",
   "id": "2a651339",
   "metadata": {
    "_cell_guid": "90e94c43-40c2-4fca-9098-4ef8cf66f303",
    "_uuid": "89fde8fa-74bc-40d8-bd0d-e97fee5cc912",
    "papermill": {
     "duration": 0.099244,
     "end_time": "2022-01-18T16:35:11.247241",
     "exception": false,
     "start_time": "2022-01-18T16:35:11.147997",
     "status": "completed"
    },
    "tags": []
   },
   "source": [
    "Порог дефолта выбрали сильно меньше 0.5, иначе получалось, что одобряли кредиты всем. Да, мы отсекаем больше \"хороших\" клиентов, но зато меньше ошибаемся в \"плохих\". Такой порог позволяет максимизировать f_score на тестовых данных, однако не гарантирует, что и на новых метрика тоже будет максимальной. Посмотрим на матрицу ошибок ещё раз."
   ]
  },
  {
   "cell_type": "code",
   "execution_count": 67,
   "id": "03b4810f",
   "metadata": {
    "_cell_guid": "684e22b5-f5a2-40a0-b3a8-7ea4f9123e4a",
    "_uuid": "29a3eb78-46f4-40a2-92f4-59469bf7240e",
    "execution": {
     "iopub.execute_input": "2022-01-18T16:35:11.450942Z",
     "iopub.status.busy": "2022-01-18T16:35:11.450321Z",
     "iopub.status.idle": "2022-01-18T16:35:11.625031Z",
     "shell.execute_reply": "2022-01-18T16:35:11.624558Z",
     "shell.execute_reply.started": "2022-01-18T16:32:53.269171Z"
    },
    "jupyter": {
     "outputs_hidden": false
    },
    "papermill": {
     "duration": 0.281216,
     "end_time": "2022-01-18T16:35:11.625170",
     "exception": false,
     "start_time": "2022-01-18T16:35:11.343954",
     "status": "completed"
    },
    "tags": []
   },
   "outputs": [
    {
     "data": {
      "image/png": "[encoded data removed]",
      "text/plain": [
       "<Figure size 576x576 with 1 Axes>"
      ]
     },
     "metadata": {
      "needs_background": "light"
     },
     "output_type": "display_data"
    }
   ],
   "source": [
    "cm = confusion_matrix(y_valid, probs)\n",
    "X = [str(i) for i in cm.flatten()]\n",
    "Y = [f\"{i:.2%}\" for i in cm.flatten() / np.sum(cm)]\n",
    "labels = np.asarray([x+\"\\n\"+y for x, y in zip(X, Y)]).reshape(2, -1)\n",
    "ax = sns.heatmap(cm, annot=labels, cbar=False, fmt='', cmap='Blues', square=True)\n",
    "ax.set_title(\"Confusion matrix\")\n",
    "ax.set_xlabel(\"Predicted values\")\n",
    "ax.set_ylabel(\"Actual values\");\n",
    "# мы понизили порог дефолта и теперь вычисляем половину \"плохих\" клиентов (однако теряем и хороших)"
   ]
  },
  {
   "cell_type": "code",
   "execution_count": 68,
   "id": "1e2d6cf3",
   "metadata": {
    "_cell_guid": "2ce96701-f0e4-4dab-8f19-ecc2ad6336a2",
    "_uuid": "dbd6bf13-e264-46cb-925f-908d8e14bdd9",
    "execution": {
     "iopub.execute_input": "2022-01-18T16:35:11.845661Z",
     "iopub.status.busy": "2022-01-18T16:35:11.844657Z",
     "iopub.status.idle": "2022-01-18T16:35:11.846555Z",
     "shell.execute_reply": "2022-01-18T16:35:11.847092Z",
     "shell.execute_reply.started": "2022-01-18T16:32:55.986142Z"
    },
    "jupyter": {
     "outputs_hidden": false
    },
    "papermill": {
     "duration": 0.113908,
     "end_time": "2022-01-18T16:35:11.847271",
     "exception": false,
     "start_time": "2022-01-18T16:35:11.733363",
     "status": "completed"
    },
    "tags": []
   },
   "outputs": [],
   "source": [
    "# y_pred = lr.predict_proba(test_df)[:, 1]\n",
    "# y_pred[y_pred >= threshold] = 1\n",
    "# y_pred[y_pred < threshold] = 0 \n",
    "# result = pd.DataFrame(data={'client_id': test['client_id'], 'default': y_pred}).astype(int)\n",
    "# result.to_csv('submission.csv', index=False) # здесь был первый submission"
   ]
  },
  {
   "cell_type": "markdown",
   "id": "bbcb9f12",
   "metadata": {
    "_cell_guid": "1dbd2a2b-1147-4b9e-9499-6d587384ea87",
    "_uuid": "57e2f2fb-ade8-4d55-9098-dbd63cebb625",
    "papermill": {
     "duration": 0.097087,
     "end_time": "2022-01-18T16:35:12.043994",
     "exception": false,
     "start_time": "2022-01-18T16:35:11.946907",
     "status": "completed"
    },
    "tags": []
   },
   "source": [
    "## Подбор гиперпараметров"
   ]
  },
  {
   "cell_type": "markdown",
   "id": "c72e7aac",
   "metadata": {
    "_cell_guid": "a0e9462f-b3b2-4b4d-a10d-17b057681a98",
    "_uuid": "297237a7-b084-45f8-8e0e-0c8e7acd536a",
    "papermill": {
     "duration": 0.09894,
     "end_time": "2022-01-18T16:35:12.242075",
     "exception": false,
     "start_time": "2022-01-18T16:35:12.143135",
     "status": "completed"
    },
    "tags": []
   },
   "source": [
    "Нас интересуют следующие гиперпараметры класса LogisticRegression из библиотеки sklearn:\n",
    "* penalty: тип регуляризации\n",
    "* C: обратная сила регуляризации\n",
    "* solver: алгоритм решения задачи оптимизации (различные алгоритмы совместимы с разными penalty)\n",
    "* tol: чувствительность критерия остановки"
   ]
  },
  {
   "cell_type": "code",
   "execution_count": 69,
   "id": "7d500d5e",
   "metadata": {
    "_cell_guid": "fb77959d-52b0-4dac-8f8e-a39c65a3d369",
    "_uuid": "9c50bd65-f685-4948-958e-00a225a1a583",
    "execution": {
     "iopub.execute_input": "2022-01-18T16:35:12.447509Z",
     "iopub.status.busy": "2022-01-18T16:35:12.446396Z",
     "iopub.status.idle": "2022-01-18T16:35:12.449907Z",
     "shell.execute_reply": "2022-01-18T16:35:12.450489Z",
     "shell.execute_reply.started": "2022-01-18T16:33:14.429135Z"
    },
    "jupyter": {
     "outputs_hidden": false
    },
    "papermill": {
     "duration": 0.110366,
     "end_time": "2022-01-18T16:35:12.450660",
     "exception": false,
     "start_time": "2022-01-18T16:35:12.340294",
     "status": "completed"
    },
    "tags": []
   },
   "outputs": [],
   "source": [
    "lr = LogisticRegression(warm_start=True, random_state=3193865169)\n",
    "# warm_start=True сэкономит нам время при подборе гиперпараметров\n",
    "# ввиду несбалансированости классов, зададим class_weight=\"balanced\" (не помогло, поэтому убрал)\n",
    "\n",
    "param_grid = [{\"solver\": [\"newton-cg\", \"lbfgs\", \"sag\", \"saga\", \"liblinear\"],\n",
    "               # здесь будет использоваться penalty=\"l2\" - оно стоит по умолчанию\n",
    "              \"tol\": np.geomspace(10**-6, 10**-2, 5),\n",
    "               \"C\": np.geomspace(10**-4, 10**4, 9)},\n",
    "              {\"solver\": [\"saga\", \"liblinear\"],\n",
    "               \"penalty\": [\"l1\"],\n",
    "               \"tol\": np.geomspace(10**-6, 10**-2, 5),\n",
    "               \"C\": np.geomspace(10**-4, 10**4, 13)},\n",
    "              {\"solver\": [\"newton-cg\", \"lbfgs\", \"sag\"],\n",
    "               \"penalty\": [\"none\"],\n",
    "               \"tol\": np.geomspace(10**-6, 10**-2, 5)}]\n",
    "# зададим сетку поиска гиперпараметров, учитывая, что различные алгоритмы совместимы с разными регуляризациями"
   ]
  },
  {
   "cell_type": "code",
   "execution_count": 70,
   "id": "7c6de48c",
   "metadata": {
    "_cell_guid": "91a7943a-ee90-4efb-8a98-e0744532fa43",
    "_uuid": "bceffc0f-b96c-462b-9f4e-9ff3d1b1e867",
    "execution": {
     "iopub.execute_input": "2022-01-18T16:35:12.652650Z",
     "iopub.status.busy": "2022-01-18T16:35:12.651713Z",
     "iopub.status.idle": "2022-01-18T16:35:12.654820Z",
     "shell.execute_reply": "2022-01-18T16:35:12.654216Z",
     "shell.execute_reply.started": "2022-01-18T16:33:15.628254Z"
    },
    "jupyter": {
     "outputs_hidden": false
    },
    "papermill": {
     "duration": 0.105997,
     "end_time": "2022-01-18T16:35:12.654966",
     "exception": false,
     "start_time": "2022-01-18T16:35:12.548969",
     "status": "completed"
    },
    "tags": []
   },
   "outputs": [],
   "source": [
    "searcher = HalvingGridSearchCV(estimator=lr, param_grid=param_grid, scoring=\"f1\", \n",
    "                               min_resources=\"smallest\", factor=2, cv=3, n_jobs=-1, random_state=6187)"
   ]
  },
  {
   "cell_type": "markdown",
   "id": "52c301da",
   "metadata": {
    "papermill": {
     "duration": 0.09883,
     "end_time": "2022-01-18T16:35:12.913277",
     "exception": false,
     "start_time": "2022-01-18T16:35:12.814447",
     "status": "completed"
    },
    "tags": []
   },
   "source": [
    "### Внимание!  \n",
    "Следующая ячейка может работать около минуты"
   ]
  },
  {
   "cell_type": "code",
   "execution_count": 71,
   "id": "f1962d55",
   "metadata": {
    "_cell_guid": "5061f085-8920-4168-a71f-97a0b1c77ead",
    "_uuid": "cb00ff8d-9541-41ab-a899-72e3881f88da",
    "execution": {
     "iopub.execute_input": "2022-01-18T16:35:13.119100Z",
     "iopub.status.busy": "2022-01-18T16:35:13.118137Z",
     "iopub.status.idle": "2022-01-18T16:35:24.143242Z",
     "shell.execute_reply": "2022-01-18T16:35:24.142705Z",
     "shell.execute_reply.started": "2022-01-18T16:33:17.118071Z"
    },
    "jupyter": {
     "outputs_hidden": false
    },
    "papermill": {
     "duration": 11.128462,
     "end_time": "2022-01-18T16:35:24.143409",
     "exception": false,
     "start_time": "2022-01-18T16:35:13.014947",
     "status": "completed"
    },
    "scrolled": true,
    "tags": []
   },
   "outputs": [],
   "source": [
    "start = datetime.now()\n",
    "searcher.fit(X_train, y_train)\n",
    "end = datetime.now()"
   ]
  },
  {
   "cell_type": "code",
   "execution_count": 72,
   "id": "aa3167ae",
   "metadata": {
    "_cell_guid": "b984a02b-5d57-4349-86de-e57aea8d2b3e",
    "_uuid": "4980c36c-e79e-4437-ba8b-4ea3e553dd11",
    "execution": {
     "iopub.execute_input": "2022-01-18T16:35:24.358742Z",
     "iopub.status.busy": "2022-01-18T16:35:24.357194Z",
     "iopub.status.idle": "2022-01-18T16:35:24.364643Z",
     "shell.execute_reply": "2022-01-18T16:35:24.365197Z",
     "shell.execute_reply.started": "2022-01-18T16:33:38.708904Z"
    },
    "jupyter": {
     "outputs_hidden": false
    },
    "papermill": {
     "duration": 0.113836,
     "end_time": "2022-01-18T16:35:24.365394",
     "exception": false,
     "start_time": "2022-01-18T16:35:24.251558",
     "status": "completed"
    },
    "tags": []
   },
   "outputs": [
    {
     "name": "stdout",
     "output_type": "stream",
     "text": [
      "0:00:06.668279\n"
     ]
    }
   ],
   "source": [
    "print(end - start) # здесь печатаем время работы ячейки"
   ]
  },
  {
   "cell_type": "code",
   "execution_count": 73,
   "id": "d0baec7a",
   "metadata": {
    "_cell_guid": "efffdbe5-8ab4-4389-a269-0dee9e2e206a",
    "_uuid": "d67ea51f-901e-4aa4-96da-ae284191a407",
    "execution": {
     "iopub.execute_input": "2022-01-18T16:35:24.573601Z",
     "iopub.status.busy": "2022-01-18T16:35:24.572926Z",
     "iopub.status.idle": "2022-01-18T16:35:24.579091Z",
     "shell.execute_reply": "2022-01-18T16:35:24.579617Z",
     "shell.execute_reply.started": "2022-01-18T16:33:39.655398Z"
    },
    "jupyter": {
     "outputs_hidden": false
    },
    "papermill": {
     "duration": 0.112072,
     "end_time": "2022-01-18T16:35:24.579844",
     "exception": false,
     "start_time": "2022-01-18T16:35:24.467772",
     "status": "completed"
    },
    "tags": []
   },
   "outputs": [
    {
     "data": {
      "text/plain": [
       "LogisticRegression(penalty='none', random_state=3193865169, solver='sag',\n",
       "                   tol=0.01, warm_start=True)"
      ]
     },
     "execution_count": 73,
     "metadata": {},
     "output_type": "execute_result"
    }
   ],
   "source": [
    "searcher.best_estimator_"
   ]
  },
  {
   "cell_type": "code",
   "execution_count": 74,
   "id": "819b6576",
   "metadata": {
    "_cell_guid": "09c0f2cc-db87-46f7-9eb4-86f5ed76c23c",
    "_uuid": "6f208f8c-fcc2-4f3d-8d56-f8fbd939aacb",
    "execution": {
     "iopub.execute_input": "2022-01-18T16:35:25.022534Z",
     "iopub.status.busy": "2022-01-18T16:35:25.021903Z",
     "iopub.status.idle": "2022-01-18T16:35:25.039968Z",
     "shell.execute_reply": "2022-01-18T16:35:25.040889Z",
     "shell.execute_reply.started": "2022-01-18T16:33:44.719535Z"
    },
    "jupyter": {
     "outputs_hidden": false
    },
    "papermill": {
     "duration": 0.126259,
     "end_time": "2022-01-18T16:35:25.041157",
     "exception": false,
     "start_time": "2022-01-18T16:35:24.914898",
     "status": "completed"
    },
    "tags": []
   },
   "outputs": [
    {
     "data": {
      "text/plain": [
       "0.056240749876665025"
      ]
     },
     "execution_count": 74,
     "metadata": {},
     "output_type": "execute_result"
    }
   ],
   "source": [
    "y_pred = searcher.predict(X_valid)\n",
    "f1_score(y_pred, y_valid)"
   ]
  },
  {
   "cell_type": "code",
   "execution_count": 75,
   "id": "539c59a3",
   "metadata": {
    "_cell_guid": "6c71b703-d8de-473a-86e7-72cfc9d7f920",
    "_uuid": "a3a028d1-adb8-4774-ba3f-eeb6a43bda7b",
    "execution": {
     "iopub.execute_input": "2022-01-18T16:35:25.301623Z",
     "iopub.status.busy": "2022-01-18T16:35:25.300533Z",
     "iopub.status.idle": "2022-01-18T16:35:25.534278Z",
     "shell.execute_reply": "2022-01-18T16:35:25.534754Z",
     "shell.execute_reply.started": "2022-01-18T16:33:46.131182Z"
    },
    "jupyter": {
     "outputs_hidden": false
    },
    "papermill": {
     "duration": 0.340834,
     "end_time": "2022-01-18T16:35:25.534923",
     "exception": false,
     "start_time": "2022-01-18T16:35:25.194089",
     "status": "completed"
    },
    "tags": []
   },
   "outputs": [
    {
     "data": {
      "image/png": "[encoded data removed]",
      "text/plain": [
       "<Figure size 576x576 with 1 Axes>"
      ]
     },
     "metadata": {
      "needs_background": "light"
     },
     "output_type": "display_data"
    }
   ],
   "source": [
    "probs = searcher.predict_proba(X_valid)[:, 1]\n",
    "plt.rcParams[\"figure.figsize\"] = 8, 8\n",
    "fpr, tpr, _ = roc_curve(y_valid, probs)\n",
    "roc_auc = roc_auc_score(y_valid, probs)\n",
    "\n",
    "plt.plot([0, 1], label=\"baseline\", linestyle=\"--\")\n",
    "plt.plot(fpr, tpr, label=\"regression\")\n",
    "plt.title(f\"roc_auc = {roc_auc:0.3f}\")\n",
    "plt.ylabel(\"True Positive Rate\")\n",
    "plt.xlabel(\"False Positive Rate\")\n",
    "plt.legend(loc=\"lower right\");"
   ]
  },
  {
   "cell_type": "code",
   "execution_count": 76,
   "id": "04a5c311",
   "metadata": {
    "_cell_guid": "e0c7a50f-ef29-4df7-b3a9-fa355db5ed2c",
    "_uuid": "57d02ce5-c775-4351-a71e-9c304e10dbb6",
    "execution": {
     "iopub.execute_input": "2022-01-18T16:35:25.741779Z",
     "iopub.status.busy": "2022-01-18T16:35:25.739933Z",
     "iopub.status.idle": "2022-01-18T16:35:25.749792Z",
     "shell.execute_reply": "2022-01-18T16:35:25.750300Z",
     "shell.execute_reply.started": "2022-01-18T16:33:47.619954Z"
    },
    "jupyter": {
     "outputs_hidden": false
    },
    "papermill": {
     "duration": 0.114133,
     "end_time": "2022-01-18T16:35:25.750474",
     "exception": false,
     "start_time": "2022-01-18T16:35:25.636341",
     "status": "completed"
    },
    "tags": []
   },
   "outputs": [
    {
     "name": "stdout",
     "output_type": "stream",
     "text": [
      "threshold = 0.16877\n",
      "best_f_score = 0.36331\n"
     ]
    }
   ],
   "source": [
    "f_score, thresholds = calc_f_score(y_valid, probs)\n",
    "best_f_score = max(f_score)\n",
    "threshold = thresholds[np.argmax(f_score)]\n",
    "print(f\"threshold = {threshold:.5f}\\nbest_f_score = {best_f_score:.5f}\")"
   ]
  },
  {
   "cell_type": "markdown",
   "id": "3373b76d",
   "metadata": {
    "_cell_guid": "b404cfb7-c8e4-402f-b1e1-32aa14cf2a5d",
    "_uuid": "62ae7f26-54a3-4d65-b90b-562a0f69279e",
    "papermill": {
     "duration": 0.101152,
     "end_time": "2022-01-18T16:35:25.953229",
     "exception": false,
     "start_time": "2022-01-18T16:35:25.852077",
     "status": "completed"
    },
    "tags": []
   },
   "source": [
    "## Финальное предсказание  \n",
    "Использование лишь подбора гиперпараметров не помогло добиться лучшего f_score. Лучшая метрика (0.35524) была достигнута с помощью подбора порогового значения дефолта (вручную написанная функция calc_f_score), просто же с помощью \"лучшей\", по мнению HalvingGridSearchCV, модели удалось получить метрику равную всего лишь 0.34343, что я рассматриваю как значительно более низкую."
   ]
  },
  {
   "cell_type": "code",
   "execution_count": 77,
   "id": "dc80be18",
   "metadata": {
    "_cell_guid": "35db02da-52b6-4579-8116-c3ac1fdf28d8",
    "_uuid": "9db63c77-8bf0-4a1d-80a9-1a2229cd302b",
    "execution": {
     "iopub.execute_input": "2022-01-18T16:35:26.163645Z",
     "iopub.status.busy": "2022-01-18T16:35:26.163054Z",
     "iopub.status.idle": "2022-01-18T16:35:26.280943Z",
     "shell.execute_reply": "2022-01-18T16:35:26.281802Z",
     "shell.execute_reply.started": "2022-01-18T16:33:49.758811Z"
    },
    "jupyter": {
     "outputs_hidden": false
    },
    "papermill": {
     "duration": 0.224488,
     "end_time": "2022-01-18T16:35:26.282078",
     "exception": false,
     "start_time": "2022-01-18T16:35:26.057590",
     "status": "completed"
    },
    "tags": []
   },
   "outputs": [],
   "source": [
    "y_pred = searcher.predict_proba(test_df)[:, 1]\n",
    "y_pred[y_pred >= threshold] = 1\n",
    "y_pred[y_pred < threshold] = 0 \n",
    "result = pd.DataFrame(data={'client_id': test['client_id'], 'default': y_pred}).astype(int)\n",
    "result.to_csv('./submission.csv', index=False)"
   ]
  },
  {
   "cell_type": "code",
   "execution_count": 78,
   "id": "f93e647c",
   "metadata": {
    "_cell_guid": "cc2041a1-3495-4504-b4f5-9f9a85ad69a6",
    "_uuid": "4d1969f8-2e5d-4841-897d-153ed30e9a71",
    "execution": {
     "iopub.execute_input": "2022-01-18T16:35:26.499985Z",
     "iopub.status.busy": "2022-01-18T16:35:26.499349Z",
     "iopub.status.idle": "2022-01-18T16:35:26.501802Z",
     "shell.execute_reply": "2022-01-18T16:35:26.501241Z",
     "shell.execute_reply.started": "2022-01-18T16:21:23.789523Z"
    },
    "jupyter": {
     "outputs_hidden": false
    },
    "papermill": {
     "duration": 0.109121,
     "end_time": "2022-01-18T16:35:26.501939",
     "exception": false,
     "start_time": "2022-01-18T16:35:26.392818",
     "status": "completed"
    },
    "tags": []
   },
   "outputs": [],
   "source": [
    "# y_pred = searcher.predict(test_df)\n",
    "# result = pd.DataFrame(data={'client_id': test['client_id'], 'default': y_pred}).astype(int)\n",
    "# result.to_csv('submission.csv', index=False)"
   ]
  },
  {
   "cell_type": "markdown",
   "id": "5f2133d6",
   "metadata": {
    "_cell_guid": "d2293314-70d0-48f0-a8fb-854b879c4dae",
    "_uuid": "5b0844de-ef6f-4173-a6e2-f2aaa897f9a9",
    "papermill": {
     "duration": 0.102534,
     "end_time": "2022-01-18T16:35:26.707611",
     "exception": false,
     "start_time": "2022-01-18T16:35:26.605077",
     "status": "completed"
    },
    "tags": []
   },
   "source": [
    "## Что ещё? \n",
    "\n",
    "Возможно, следовало попробовать другие модели (вроде Catboost), однако данное соревнование в первую очередь направлено на знакомство логистической регрессией. Также я не попробовал under- и oversampling, не особо работал с выбросами, не анализировал важность признаков (за исключением метода корелляций). Вместо использования HalvingGridSearchCV можно было попробовать optuna. В целом результат получился хорошим для учебного проекта, я научился новому."
   ]
  }
 ],
 "metadata": {
  "kernelspec": {
   "display_name": "Python 3 (ipykernel)",
   "language": "python",
   "name": "python3"
  },
  "language_info": {
   "codemirror_mode": {
    "name": "ipython",
    "version": 3
   },
   "file_extension": ".py",
   "mimetype": "text/x-python",
   "name": "python",
   "nbconvert_exporter": "python",
   "pygments_lexer": "ipython3",
   "version": "3.8.11"
  },
  "papermill": {
   "default_parameters": {},
   "duration": 83.561165,
   "end_time": "2022-01-18T16:35:27.723339",
   "environment_variables": {},
   "exception": null,
   "input_path": "__notebook__.ipynb",
   "output_path": "__notebook__.ipynb",
   "parameters": {},
   "start_time": "2022-01-18T16:34:04.162174",
   "version": "2.3.3"
  }
 },
 "nbformat": 4,
 "nbformat_minor": 5
}
