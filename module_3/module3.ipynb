{
 "cells": [
  {
   "cell_type": "markdown",
   "id": "2de62e31",
   "metadata": {},
   "source": [
    "# Проект\n",
    "В данном проекте мы пытаемся предсказать рейтинг ресторанов на основании данных с TripAdvisor."
   ]
  },
  {
   "cell_type": "markdown",
   "id": "972914c3",
   "metadata": {},
   "source": [
    "### Список признаков датасета\n",
    "\n",
    "* Restaurant_id — идентификационный номер ресторана / сети ресторанов;\n",
    "* City — город, в котором находится ресторан;\n",
    "* Cuisine Style — кухня или кухни, к которым можно отнести блюда, предлагаемые в ресторане;\n",
    "* Ranking — место, которое занимает данный ресторан среди всех ресторанов своего города;\n",
    "* Rating — рейтинг ресторана по данным TripAdvisor (это наша **целевая переменная**);\n",
    "* Price Range — диапазон цен в ресторане;\n",
    "* Number of Reviews — количество отзывов о ресторане;\n",
    "* Reviews — данные о двух отзывах, которые отображаются на сайте ресторана;\n",
    "* URL_TA — URL страницы ресторана на TripAdvisor;\n",
    "* ID_TA — идентификатор ресторана в базе данных TripAdvisor."
   ]
  },
  {
   "cell_type": "markdown",
   "id": "044c16cf",
   "metadata": {},
   "source": [
    "## Импорт библиотек, загрузка датасета и первичный анализ"
   ]
  },
  {
   "cell_type": "code",
   "execution_count": 1,
   "id": "3987774f",
   "metadata": {
    "scrolled": true
   },
   "outputs": [],
   "source": [
    "import pandas as pd\n",
    "import numpy as np\n",
    "import matplotlib.pyplot as plt\n",
    "import seaborn as sns\n",
    "\n",
    "from itertools import combinations\n",
    "\n",
    "import fasttext\n",
    "from dostoevsky.tokenization import RegexTokenizer       # для анализа тональности текста\n",
    "from dostoevsky.models import FastTextSocialNetworkModel \n",
    "\n",
    "from sklearn.model_selection import train_test_split\n",
    "from sklearn.ensemble import RandomForestRegressor\n",
    "from sklearn.metrics import mean_absolute_error\n",
    "\n",
    "from ast import literal_eval\n",
    "from datetime import datetime\n",
    "from multiprocessing import Pool  # использовался для ускорения парсинга\n",
    "import wind  # в этом модуле содержатся функции для парсинга данных,\n",
    "             # они выделены в отделый модуль в связи с особенностями\n",
    "             # использования multiprocessing.Pool() в Jupyter Notebook\n",
    "        \n",
    "import warnings\n",
    "warnings.simplefilter('ignore')\n",
    "        \n",
    "%matplotlib inline"
   ]
  },
  {
   "cell_type": "code",
   "execution_count": 2,
   "id": "78854ecc",
   "metadata": {},
   "outputs": [],
   "source": [
    "data = pd.read_csv(\"main_task_new.csv\")\n",
    "test = pd.read_csv(\"test.csv\")\n",
    "sample_submission = pd.read_csv(\"sample_submission.csv\")"
   ]
  },
  {
   "cell_type": "code",
   "execution_count": 3,
   "id": "aac8429a",
   "metadata": {},
   "outputs": [],
   "source": [
    "data[\"train\"] = 1 # помечаем, где у нас train\n",
    "test[\"train\"] = 0 # а где - нет\n",
    "test[\"Rating\"] = 0 # в тесте нет значений Rating, поэтому пока просто заполняем нулями\n",
    "df = test.append(data, sort=False).reset_index(drop=True) # объединяем"
   ]
  },
  {
   "cell_type": "code",
   "execution_count": 4,
   "id": "dc4143cf",
   "metadata": {
    "scrolled": true
   },
   "outputs": [
    {
     "data": {
      "text/html": [
       "<div>\n",
       "<style scoped>\n",
       "    .dataframe tbody tr th:only-of-type {\n",
       "        vertical-align: middle;\n",
       "    }\n",
       "\n",
       "    .dataframe tbody tr th {\n",
       "        vertical-align: top;\n",
       "    }\n",
       "\n",
       "    .dataframe thead th {\n",
       "        text-align: right;\n",
       "    }\n",
       "</style>\n",
       "<table border=\"1\" class=\"dataframe\">\n",
       "  <thead>\n",
       "    <tr style=\"text-align: right;\">\n",
       "      <th></th>\n",
       "      <th>Restaurant_id</th>\n",
       "      <th>City</th>\n",
       "      <th>Cuisine Style</th>\n",
       "      <th>Ranking</th>\n",
       "      <th>Price Range</th>\n",
       "      <th>Number of Reviews</th>\n",
       "      <th>Reviews</th>\n",
       "      <th>URL_TA</th>\n",
       "      <th>ID_TA</th>\n",
       "      <th>train</th>\n",
       "      <th>Rating</th>\n",
       "    </tr>\n",
       "  </thead>\n",
       "  <tbody>\n",
       "    <tr>\n",
       "      <th>3465</th>\n",
       "      <td>id_3465</td>\n",
       "      <td>Helsinki</td>\n",
       "      <td>['Seafood', 'European', 'Scandinavian', 'Glute...</td>\n",
       "      <td>142.0</td>\n",
       "      <td>$$ - $$$</td>\n",
       "      <td>165.0</td>\n",
       "      <td>[['Amazing fish restaurant', 'Good food, frien...</td>\n",
       "      <td>/Restaurant_Review-g189934-d7946045-Reviews-Ra...</td>\n",
       "      <td>d7946045</td>\n",
       "      <td>0</td>\n",
       "      <td>0.0</td>\n",
       "    </tr>\n",
       "    <tr>\n",
       "      <th>48923</th>\n",
       "      <td>id_1841</td>\n",
       "      <td>Madrid</td>\n",
       "      <td>['Spanish', 'Mediterranean']</td>\n",
       "      <td>1843.0</td>\n",
       "      <td>$$ - $$$</td>\n",
       "      <td>124.0</td>\n",
       "      <td>[['Cheerful, friendly staff and great tostas',...</td>\n",
       "      <td>/Restaurant_Review-g187514-d2049331-Reviews-Ta...</td>\n",
       "      <td>d2049331</td>\n",
       "      <td>1</td>\n",
       "      <td>4.0</td>\n",
       "    </tr>\n",
       "    <tr>\n",
       "      <th>21101</th>\n",
       "      <td>id_1281</td>\n",
       "      <td>Edinburgh</td>\n",
       "      <td>NaN</td>\n",
       "      <td>1282.0</td>\n",
       "      <td>NaN</td>\n",
       "      <td>10.0</td>\n",
       "      <td>[['Best chips in town', 'The Shop I Judge All ...</td>\n",
       "      <td>/Restaurant_Review-g186525-d4925360-Reviews-Fr...</td>\n",
       "      <td>d4925360</td>\n",
       "      <td>1</td>\n",
       "      <td>4.5</td>\n",
       "    </tr>\n",
       "    <tr>\n",
       "      <th>36673</th>\n",
       "      <td>id_1198</td>\n",
       "      <td>Dublin</td>\n",
       "      <td>['Chinese']</td>\n",
       "      <td>1201.0</td>\n",
       "      <td>NaN</td>\n",
       "      <td>NaN</td>\n",
       "      <td>[['Great food, great value'], ['09/09/2012']]</td>\n",
       "      <td>/Restaurant_Review-g186605-d2660122-Reviews-Ti...</td>\n",
       "      <td>d2660122</td>\n",
       "      <td>1</td>\n",
       "      <td>5.0</td>\n",
       "    </tr>\n",
       "    <tr>\n",
       "      <th>21280</th>\n",
       "      <td>id_10776</td>\n",
       "      <td>Paris</td>\n",
       "      <td>NaN</td>\n",
       "      <td>10778.0</td>\n",
       "      <td>NaN</td>\n",
       "      <td>2.0</td>\n",
       "      <td>[[], []]</td>\n",
       "      <td>/Restaurant_Review-g187147-d7062912-Reviews-L_...</td>\n",
       "      <td>d7062912</td>\n",
       "      <td>1</td>\n",
       "      <td>4.0</td>\n",
       "    </tr>\n",
       "  </tbody>\n",
       "</table>\n",
       "</div>"
      ],
      "text/plain": [
       "      Restaurant_id       City  \\\n",
       "3465        id_3465   Helsinki   \n",
       "48923       id_1841     Madrid   \n",
       "21101       id_1281  Edinburgh   \n",
       "36673       id_1198     Dublin   \n",
       "21280      id_10776      Paris   \n",
       "\n",
       "                                           Cuisine Style  Ranking Price Range  \\\n",
       "3465   ['Seafood', 'European', 'Scandinavian', 'Glute...    142.0    $$ - $$$   \n",
       "48923                       ['Spanish', 'Mediterranean']   1843.0    $$ - $$$   \n",
       "21101                                                NaN   1282.0         NaN   \n",
       "36673                                        ['Chinese']   1201.0         NaN   \n",
       "21280                                                NaN  10778.0         NaN   \n",
       "\n",
       "       Number of Reviews                                            Reviews  \\\n",
       "3465               165.0  [['Amazing fish restaurant', 'Good food, frien...   \n",
       "48923              124.0  [['Cheerful, friendly staff and great tostas',...   \n",
       "21101               10.0  [['Best chips in town', 'The Shop I Judge All ...   \n",
       "36673                NaN      [['Great food, great value'], ['09/09/2012']]   \n",
       "21280                2.0                                           [[], []]   \n",
       "\n",
       "                                                  URL_TA     ID_TA  train  \\\n",
       "3465   /Restaurant_Review-g189934-d7946045-Reviews-Ra...  d7946045      0   \n",
       "48923  /Restaurant_Review-g187514-d2049331-Reviews-Ta...  d2049331      1   \n",
       "21101  /Restaurant_Review-g186525-d4925360-Reviews-Fr...  d4925360      1   \n",
       "36673  /Restaurant_Review-g186605-d2660122-Reviews-Ti...  d2660122      1   \n",
       "21280  /Restaurant_Review-g187147-d7062912-Reviews-L_...  d7062912      1   \n",
       "\n",
       "       Rating  \n",
       "3465      0.0  \n",
       "48923     4.0  \n",
       "21101     4.5  \n",
       "36673     5.0  \n",
       "21280     4.0  "
      ]
     },
     "execution_count": 4,
     "metadata": {},
     "output_type": "execute_result"
    }
   ],
   "source": [
    "df.sample(5)"
   ]
  },
  {
   "cell_type": "code",
   "execution_count": 5,
   "id": "642131d1",
   "metadata": {},
   "outputs": [],
   "source": [
    "df.columns = [\"id\", \"city\", \"cuisines\", \"ranking\", \"price_range\",\n",
    "              \"number_of_reviews\", \"reviews\", \"link\", \"id2\", \"train\", \"rating\"]"
   ]
  },
  {
   "cell_type": "code",
   "execution_count": 6,
   "id": "68035c95",
   "metadata": {},
   "outputs": [],
   "source": [
    "target_name = \"rating\""
   ]
  },
  {
   "cell_type": "code",
   "execution_count": 7,
   "id": "9508a5b4",
   "metadata": {
    "scrolled": true
   },
   "outputs": [
    {
     "name": "stdout",
     "output_type": "stream",
     "text": [
      "<class 'pandas.core.frame.DataFrame'>\n",
      "RangeIndex: 50000 entries, 0 to 49999\n",
      "Data columns (total 11 columns):\n",
      " #   Column             Non-Null Count  Dtype  \n",
      "---  ------             --------------  -----  \n",
      " 0   id                 50000 non-null  object \n",
      " 1   city               50000 non-null  object \n",
      " 2   cuisines           38410 non-null  object \n",
      " 3   ranking            50000 non-null  float64\n",
      " 4   price_range        32639 non-null  object \n",
      " 5   number_of_reviews  46800 non-null  float64\n",
      " 6   reviews            49998 non-null  object \n",
      " 7   link               50000 non-null  object \n",
      " 8   id2                50000 non-null  object \n",
      " 9   train              50000 non-null  int64  \n",
      " 10  rating             50000 non-null  float64\n",
      "dtypes: float64(3), int64(1), object(7)\n",
      "memory usage: 4.2+ MB\n"
     ]
    }
   ],
   "source": [
    "df.info()"
   ]
  },
  {
   "cell_type": "code",
   "execution_count": 8,
   "id": "7aea8d1a",
   "metadata": {
    "scrolled": true
   },
   "outputs": [
    {
     "data": {
      "text/html": [
       "<div>\n",
       "<style scoped>\n",
       "    .dataframe tbody tr th:only-of-type {\n",
       "        vertical-align: middle;\n",
       "    }\n",
       "\n",
       "    .dataframe tbody tr th {\n",
       "        vertical-align: top;\n",
       "    }\n",
       "\n",
       "    .dataframe thead th {\n",
       "        text-align: right;\n",
       "    }\n",
       "</style>\n",
       "<table border=\"1\" class=\"dataframe\">\n",
       "  <thead>\n",
       "    <tr style=\"text-align: right;\">\n",
       "      <th></th>\n",
       "      <th>ranking</th>\n",
       "      <th>number_of_reviews</th>\n",
       "      <th>train</th>\n",
       "      <th>rating</th>\n",
       "    </tr>\n",
       "  </thead>\n",
       "  <tbody>\n",
       "    <tr>\n",
       "      <th>count</th>\n",
       "      <td>50000.000000</td>\n",
       "      <td>46800.000000</td>\n",
       "      <td>50000.000000</td>\n",
       "      <td>50000.000000</td>\n",
       "    </tr>\n",
       "    <tr>\n",
       "      <th>mean</th>\n",
       "      <td>3664.427520</td>\n",
       "      <td>124.471197</td>\n",
       "      <td>0.800000</td>\n",
       "      <td>3.194430</td>\n",
       "    </tr>\n",
       "    <tr>\n",
       "      <th>std</th>\n",
       "      <td>3700.092452</td>\n",
       "      <td>294.114345</td>\n",
       "      <td>0.400004</td>\n",
       "      <td>1.705453</td>\n",
       "    </tr>\n",
       "    <tr>\n",
       "      <th>min</th>\n",
       "      <td>1.000000</td>\n",
       "      <td>2.000000</td>\n",
       "      <td>0.000000</td>\n",
       "      <td>0.000000</td>\n",
       "    </tr>\n",
       "    <tr>\n",
       "      <th>25%</th>\n",
       "      <td>972.000000</td>\n",
       "      <td>9.000000</td>\n",
       "      <td>1.000000</td>\n",
       "      <td>3.000000</td>\n",
       "    </tr>\n",
       "    <tr>\n",
       "      <th>50%</th>\n",
       "      <td>2278.000000</td>\n",
       "      <td>33.000000</td>\n",
       "      <td>1.000000</td>\n",
       "      <td>4.000000</td>\n",
       "    </tr>\n",
       "    <tr>\n",
       "      <th>75%</th>\n",
       "      <td>5241.000000</td>\n",
       "      <td>115.000000</td>\n",
       "      <td>1.000000</td>\n",
       "      <td>4.500000</td>\n",
       "    </tr>\n",
       "    <tr>\n",
       "      <th>max</th>\n",
       "      <td>16444.000000</td>\n",
       "      <td>9660.000000</td>\n",
       "      <td>1.000000</td>\n",
       "      <td>5.000000</td>\n",
       "    </tr>\n",
       "  </tbody>\n",
       "</table>\n",
       "</div>"
      ],
      "text/plain": [
       "            ranking  number_of_reviews         train        rating\n",
       "count  50000.000000       46800.000000  50000.000000  50000.000000\n",
       "mean    3664.427520         124.471197      0.800000      3.194430\n",
       "std     3700.092452         294.114345      0.400004      1.705453\n",
       "min        1.000000           2.000000      0.000000      0.000000\n",
       "25%      972.000000           9.000000      1.000000      3.000000\n",
       "50%     2278.000000          33.000000      1.000000      4.000000\n",
       "75%     5241.000000         115.000000      1.000000      4.500000\n",
       "max    16444.000000        9660.000000      1.000000      5.000000"
      ]
     },
     "execution_count": 8,
     "metadata": {},
     "output_type": "execute_result"
    }
   ],
   "source": [
    "df.describe()"
   ]
  },
  {
   "cell_type": "markdown",
   "id": "82cca785",
   "metadata": {},
   "source": [
    "## Некоторые функции"
   ]
  },
  {
   "cell_type": "code",
   "execution_count": 9,
   "id": "b7900637",
   "metadata": {},
   "outputs": [],
   "source": [
    "def outliers(df_col, df=df):\n",
    "    # Определение наличия выбросов и их границ.\n",
    "    \n",
    "    q1 = df[df_col].quantile(0.25)\n",
    "    q3 = df[df_col].quantile(0.75)\n",
    "    iqr = q3 - q1\n",
    "    low = q1 - 1.5 * iqr\n",
    "    high = q3 + 1.5 * iqr\n",
    "    \n",
    "    print(f\"25-й процентиль: {q1}, 75-й процентиль: {q3}, IQR: {iqr}, Границы выбросов: [{low}, {high}]\")\n",
    "    print(f\"Количество выбросов в признаке '{df_col}':\\\n",
    "    {((df[df_col] < low) | (df[df_col] > high)).sum()}\")"
   ]
  },
  {
   "cell_type": "code",
   "execution_count": 10,
   "id": "84d27518",
   "metadata": {},
   "outputs": [],
   "source": [
    "def get_boxplot(df_col):\n",
    "    # выводит boxplot для анализируемого признака\n",
    "    \n",
    "    fig, ax = plt.subplots(figsize = (12, 4))\n",
    "    sns.boxplot(x=df_col, y='rating', data=df, fliersize=8, ax=ax)\n",
    "    plt.xticks(rotation=90)\n",
    "    plt.show();"
   ]
  },
  {
   "cell_type": "code",
   "execution_count": 11,
   "id": "61062ae4",
   "metadata": {},
   "outputs": [],
   "source": [
    "# copied from https://towardsdatascience.com/are-you-dropping-too-many-correlated-features-d1c96654abe6\n",
    "def features_to_drop(df, cut=0.9):\n",
    "    \"\"\"\n",
    "    На основании коэффицентов корреляции определяет признаки, которые стоит удалить\n",
    "    \n",
    "    df - датафрейм\n",
    "    cut - пороговое значение коэффициента корреляции\n",
    "    \"\"\"\n",
    "\n",
    "    corr_mtx = df.corr() # создаём корреляционную матрицу\n",
    "    avg_corr = corr_mtx.mean(axis=1) # считаем среднюю корреляцию по признакам\n",
    "    up = corr_mtx.where(np.triu(np.ones(corr_mtx.shape), k=1).astype(np.bool)) \n",
    "    # создаём верхний треугольник матрицы \n",
    "    # нижний не несёт дополнительной информации, так как матрица корреляций симметрична\n",
    "\n",
    "    drop = [] # будущий список признаков для удаления\n",
    "\n",
    "    for row in range(len(up)-1): # проходимся по всем строкам матрицы\n",
    "        for col in range(row + 1, len(up)): # проходимся по всем столбцам\n",
    "            if(abs(corr_mtx.iloc[row, col]) > cut): # если корреляция двух текущих признаков больше пороговой,\n",
    "                # то удалим один из них (тот, у которого средняя корреляция больше):\n",
    "                if(abs(avg_corr.iloc[row]) > abs(avg_corr.iloc[col])):\n",
    "                    drop.append(row)\n",
    "                else:\n",
    "                    drop.append(col)\n",
    "\n",
    "    dropcols_names = list(df.columns[[item for item in list(set(drop))]])\n",
    "    \n",
    "    if dropcols_names:\n",
    "        return dropcols_names\n",
    "    \n",
    "    print(\"Сильноскоррелированных переменных нет\")"
   ]
  },
  {
   "cell_type": "markdown",
   "id": "b842c427",
   "metadata": {},
   "source": [
    "## Работа с пропусками"
   ]
  },
  {
   "cell_type": "code",
   "execution_count": 12,
   "id": "dc27b459",
   "metadata": {},
   "outputs": [
    {
     "data": {
      "text/plain": [
       "id                       0\n",
       "city                     0\n",
       "cuisines             11590\n",
       "ranking                  0\n",
       "price_range          17361\n",
       "number_of_reviews     3200\n",
       "reviews                  2\n",
       "link                     0\n",
       "id2                      0\n",
       "train                    0\n",
       "rating                   0\n",
       "dtype: int64"
      ]
     },
     "execution_count": 12,
     "metadata": {},
     "output_type": "execute_result"
    }
   ],
   "source": [
    "df.isna().sum()"
   ]
  },
  {
   "cell_type": "code",
   "execution_count": 13,
   "id": "8f066e20",
   "metadata": {},
   "outputs": [
    {
     "data": {
      "image/png": "[encoded data removed]",
      "text/plain": [
       "<Figure size 864x504 with 2 Axes>"
      ]
     },
     "metadata": {
      "needs_background": "light"
     },
     "output_type": "display_data"
    }
   ],
   "source": [
    "plt.subplots(figsize=(12, 7))\n",
    "sns.heatmap(df.isna());"
   ]
  },
  {
   "cell_type": "markdown",
   "id": "911a0867",
   "metadata": {},
   "source": [
    "Пропуски присутсвуют в столбцах *cuisines*, *price_range* и *number_of_reviews*, попробуем спарсить часть \n",
    "недостающих данных.\n",
    "Также обратим внимание на признак reviews, где часть значений - пустой список  списков:"
   ]
  },
  {
   "cell_type": "code",
   "execution_count": 14,
   "id": "2020c228",
   "metadata": {
    "scrolled": true
   },
   "outputs": [
    {
     "data": {
      "text/plain": [
       "8112"
      ]
     },
     "execution_count": 14,
     "metadata": {},
     "output_type": "execute_result"
    }
   ],
   "source": [
    "len(df[df.reviews == \"[[], []]\"])"
   ]
  },
  {
   "cell_type": "code",
   "execution_count": 15,
   "id": "85ee0fff",
   "metadata": {},
   "outputs": [],
   "source": [
    "df.reviews.fillna(\"[[], []]\", inplace=True)"
   ]
  },
  {
   "cell_type": "code",
   "execution_count": 16,
   "id": "03a2b729",
   "metadata": {},
   "outputs": [
    {
     "data": {
      "text/plain": [
       "8114"
      ]
     },
     "execution_count": 16,
     "metadata": {},
     "output_type": "execute_result"
    }
   ],
   "source": [
    "len(df[df.reviews == \"[[], []]\"])"
   ]
  },
  {
   "cell_type": "code",
   "execution_count": 17,
   "id": "a0fee591",
   "metadata": {},
   "outputs": [],
   "source": [
    "df[\"reviews_nan\"] = (df[\"reviews\"]==\"[[], []]\").astype(\"int\")"
   ]
  },
  {
   "cell_type": "markdown",
   "id": "10e21da1",
   "metadata": {},
   "source": [
    "### Парсинг недостающих данных"
   ]
  },
  {
   "cell_type": "markdown",
   "id": "3a124613",
   "metadata": {},
   "source": [
    "####  cuisines"
   ]
  },
  {
   "cell_type": "code",
   "execution_count": 18,
   "id": "62707b3c",
   "metadata": {},
   "outputs": [
    {
     "data": {
      "text/plain": [
       "11590"
      ]
     },
     "execution_count": 18,
     "metadata": {},
     "output_type": "execute_result"
    }
   ],
   "source": [
    "df.cuisines.isna().sum()"
   ]
  },
  {
   "cell_type": "markdown",
   "id": "c28134f1",
   "metadata": {},
   "source": [
    "Парсинг информации о типах кухонь длился около полутора часов (1:27:46) в многопоточном режиме (при помощи multiprocessing.Pool()), после чего полученная информация (cuisines) была объеденина с индексами (id2) в датафрейме res и сохранена в csv. "
   ]
  },
  {
   "cell_type": "code",
   "execution_count": 19,
   "id": "35820d39",
   "metadata": {},
   "outputs": [],
   "source": [
    "# url = \"https://www.tripadvisor.com\"\n",
    "# links = [f\"{url}{i}\" for i in df[df.cuisines.isna()].link]\n",
    "# ids = [i for i in df[df.cuisines.isna()].id2]\n",
    "# # делаем список ссылок на те рестораны, по которым у нас отсутсвует информация (и мы надеемся её восполнить)\n",
    "# # также собираем id этих ресторанов "
   ]
  },
  {
   "cell_type": "code",
   "execution_count": 20,
   "id": "96668026",
   "metadata": {
    "scrolled": true
   },
   "outputs": [],
   "source": [
    "# if __name__ == '__main__':\n",
    "#     start = datetime.now() # засекаем время\n",
    "#     with Pool() as p: # используем многопоточность, чтобы ускорить парсинг\n",
    "#         cuisines = p.map(wind.get_cuisines, links)\n",
    "#     end = datetime.now()\n",
    "#     print(end - start) # печатаем, сколько времени ушло на выполение ячейки"
   ]
  },
  {
   "cell_type": "code",
   "execution_count": 21,
   "id": "c2fc00e9",
   "metadata": {},
   "outputs": [],
   "source": [
    "# res = pd.concat([pd.Series(ids), pd.Series(cuisines)], axis=1)\n",
    "# res.columns = [\"id2\", \"cuisine\"]\n",
    "# res"
   ]
  },
  {
   "cell_type": "code",
   "execution_count": 22,
   "id": "9e59c9a4",
   "metadata": {},
   "outputs": [],
   "source": [
    "#res.to_csv(\"cuisines.csv\", index=False)"
   ]
  },
  {
   "cell_type": "code",
   "execution_count": 23,
   "id": "647cfe7a",
   "metadata": {},
   "outputs": [
    {
     "data": {
      "text/html": [
       "<div>\n",
       "<style scoped>\n",
       "    .dataframe tbody tr th:only-of-type {\n",
       "        vertical-align: middle;\n",
       "    }\n",
       "\n",
       "    .dataframe tbody tr th {\n",
       "        vertical-align: top;\n",
       "    }\n",
       "\n",
       "    .dataframe thead th {\n",
       "        text-align: right;\n",
       "    }\n",
       "</style>\n",
       "<table border=\"1\" class=\"dataframe\">\n",
       "  <thead>\n",
       "    <tr style=\"text-align: right;\">\n",
       "      <th></th>\n",
       "      <th>id2</th>\n",
       "      <th>cuisine</th>\n",
       "    </tr>\n",
       "  </thead>\n",
       "  <tbody>\n",
       "    <tr>\n",
       "      <th>1571</th>\n",
       "      <td>d10760037</td>\n",
       "      <td>['Cafe']</td>\n",
       "    </tr>\n",
       "    <tr>\n",
       "      <th>2498</th>\n",
       "      <td>d5971427</td>\n",
       "      <td>['Spanish']</td>\n",
       "    </tr>\n",
       "    <tr>\n",
       "      <th>208</th>\n",
       "      <td>d1017382</td>\n",
       "      <td>NaN</td>\n",
       "    </tr>\n",
       "    <tr>\n",
       "      <th>8382</th>\n",
       "      <td>d10818781</td>\n",
       "      <td>['Polish', 'European']</td>\n",
       "    </tr>\n",
       "    <tr>\n",
       "      <th>2670</th>\n",
       "      <td>d12681755</td>\n",
       "      <td>['Dessert', 'Cafe', 'Vegetarian Friendly']</td>\n",
       "    </tr>\n",
       "  </tbody>\n",
       "</table>\n",
       "</div>"
      ],
      "text/plain": [
       "            id2                                     cuisine\n",
       "1571  d10760037                                    ['Cafe']\n",
       "2498   d5971427                                 ['Spanish']\n",
       "208    d1017382                                         NaN\n",
       "8382  d10818781                      ['Polish', 'European']\n",
       "2670  d12681755  ['Dessert', 'Cafe', 'Vegetarian Friendly']"
      ]
     },
     "execution_count": 23,
     "metadata": {},
     "output_type": "execute_result"
    }
   ],
   "source": [
    "cuisines = pd.read_csv(\"cuisines.csv\") # загрузим результат парсинга обратно в блокнот\n",
    "cuisines.sample(5)"
   ]
  },
  {
   "cell_type": "code",
   "execution_count": 24,
   "id": "eae688f9",
   "metadata": {},
   "outputs": [
    {
     "data": {
      "text/plain": [
       "True"
      ]
     },
     "execution_count": 24,
     "metadata": {},
     "output_type": "execute_result"
    }
   ],
   "source": [
    "len(cuisines) == df.cuisines.isna().sum() # проверим, что спарсилась вся информация"
   ]
  },
  {
   "cell_type": "markdown",
   "id": "b3f3ce01",
   "metadata": {},
   "source": [
    "Добавим теперь новые данные в датафрейм df:"
   ]
  },
  {
   "cell_type": "code",
   "execution_count": 25,
   "id": "cc1be948",
   "metadata": {},
   "outputs": [],
   "source": [
    "union = pd.merge(df, cuisines, how='outer')\n",
    "union.drop_duplicates(inplace=True)\n",
    "union.reset_index(drop=True)\n",
    "union['cuisines'] = union[['cuisines', 'cuisine']].apply(lambda x: x[1] if pd.isna(x[0]) else x[0], axis=1)\n",
    "union.drop(['cuisine'], axis=1, inplace=True)"
   ]
  },
  {
   "cell_type": "code",
   "execution_count": 26,
   "id": "374d2f7f",
   "metadata": {},
   "outputs": [
    {
     "data": {
      "text/html": [
       "<div>\n",
       "<style scoped>\n",
       "    .dataframe tbody tr th:only-of-type {\n",
       "        vertical-align: middle;\n",
       "    }\n",
       "\n",
       "    .dataframe tbody tr th {\n",
       "        vertical-align: top;\n",
       "    }\n",
       "\n",
       "    .dataframe thead th {\n",
       "        text-align: right;\n",
       "    }\n",
       "</style>\n",
       "<table border=\"1\" class=\"dataframe\">\n",
       "  <thead>\n",
       "    <tr style=\"text-align: right;\">\n",
       "      <th></th>\n",
       "      <th>id</th>\n",
       "      <th>city</th>\n",
       "      <th>cuisines</th>\n",
       "      <th>ranking</th>\n",
       "      <th>price_range</th>\n",
       "      <th>number_of_reviews</th>\n",
       "      <th>reviews</th>\n",
       "      <th>link</th>\n",
       "      <th>id2</th>\n",
       "      <th>train</th>\n",
       "      <th>rating</th>\n",
       "      <th>reviews_nan</th>\n",
       "    </tr>\n",
       "  </thead>\n",
       "  <tbody>\n",
       "    <tr>\n",
       "      <th>0</th>\n",
       "      <td>id_0</td>\n",
       "      <td>Paris</td>\n",
       "      <td>['Bar', 'Pub']</td>\n",
       "      <td>12963.0</td>\n",
       "      <td>$$ - $$$</td>\n",
       "      <td>4.0</td>\n",
       "      <td>[[], []]</td>\n",
       "      <td>/Restaurant_Review-g187147-d10746918-Reviews-L...</td>\n",
       "      <td>d10746918</td>\n",
       "      <td>0</td>\n",
       "      <td>0.0</td>\n",
       "      <td>1</td>\n",
       "    </tr>\n",
       "    <tr>\n",
       "      <th>1</th>\n",
       "      <td>id_1</td>\n",
       "      <td>Helsinki</td>\n",
       "      <td>['European', 'Scandinavian', 'Gluten Free Opti...</td>\n",
       "      <td>106.0</td>\n",
       "      <td>$$ - $$$</td>\n",
       "      <td>97.0</td>\n",
       "      <td>[['Very good reviews!', 'Fine dining in Hakani...</td>\n",
       "      <td>/Restaurant_Review-g189934-d6674944-Reviews-Ra...</td>\n",
       "      <td>d6674944</td>\n",
       "      <td>0</td>\n",
       "      <td>0.0</td>\n",
       "      <td>0</td>\n",
       "    </tr>\n",
       "    <tr>\n",
       "      <th>2</th>\n",
       "      <td>id_2</td>\n",
       "      <td>Edinburgh</td>\n",
       "      <td>['Vegetarian Friendly']</td>\n",
       "      <td>810.0</td>\n",
       "      <td>$$ - $$$</td>\n",
       "      <td>28.0</td>\n",
       "      <td>[['Better than the Links', 'Ivy Black'], ['12/...</td>\n",
       "      <td>/Restaurant_Review-g186525-d13129638-Reviews-B...</td>\n",
       "      <td>d13129638</td>\n",
       "      <td>0</td>\n",
       "      <td>0.0</td>\n",
       "      <td>0</td>\n",
       "    </tr>\n",
       "    <tr>\n",
       "      <th>3</th>\n",
       "      <td>id_3</td>\n",
       "      <td>London</td>\n",
       "      <td>['Italian', 'Mediterranean', 'European', 'Vege...</td>\n",
       "      <td>1669.0</td>\n",
       "      <td>$$$$</td>\n",
       "      <td>202.0</td>\n",
       "      <td>[['Most exquisite', 'Delicious and authentic']...</td>\n",
       "      <td>/Restaurant_Review-g186338-d680417-Reviews-Qui...</td>\n",
       "      <td>d680417</td>\n",
       "      <td>0</td>\n",
       "      <td>0.0</td>\n",
       "      <td>0</td>\n",
       "    </tr>\n",
       "    <tr>\n",
       "      <th>4</th>\n",
       "      <td>id_4</td>\n",
       "      <td>Bratislava</td>\n",
       "      <td>['Italian', 'Mediterranean', 'European', 'Seaf...</td>\n",
       "      <td>37.0</td>\n",
       "      <td>$$$$</td>\n",
       "      <td>162.0</td>\n",
       "      <td>[['Always the best in bratislava', 'Very good ...</td>\n",
       "      <td>/Restaurant_Review-g274924-d1112354-Reviews-Ma...</td>\n",
       "      <td>d1112354</td>\n",
       "      <td>0</td>\n",
       "      <td>0.0</td>\n",
       "      <td>0</td>\n",
       "    </tr>\n",
       "  </tbody>\n",
       "</table>\n",
       "</div>"
      ],
      "text/plain": [
       "     id        city                                           cuisines  \\\n",
       "0  id_0       Paris                                     ['Bar', 'Pub']   \n",
       "1  id_1    Helsinki  ['European', 'Scandinavian', 'Gluten Free Opti...   \n",
       "2  id_2   Edinburgh                            ['Vegetarian Friendly']   \n",
       "3  id_3      London  ['Italian', 'Mediterranean', 'European', 'Vege...   \n",
       "4  id_4  Bratislava  ['Italian', 'Mediterranean', 'European', 'Seaf...   \n",
       "\n",
       "   ranking price_range  number_of_reviews  \\\n",
       "0  12963.0    $$ - $$$                4.0   \n",
       "1    106.0    $$ - $$$               97.0   \n",
       "2    810.0    $$ - $$$               28.0   \n",
       "3   1669.0        $$$$              202.0   \n",
       "4     37.0        $$$$              162.0   \n",
       "\n",
       "                                             reviews  \\\n",
       "0                                           [[], []]   \n",
       "1  [['Very good reviews!', 'Fine dining in Hakani...   \n",
       "2  [['Better than the Links', 'Ivy Black'], ['12/...   \n",
       "3  [['Most exquisite', 'Delicious and authentic']...   \n",
       "4  [['Always the best in bratislava', 'Very good ...   \n",
       "\n",
       "                                                link        id2  train  \\\n",
       "0  /Restaurant_Review-g187147-d10746918-Reviews-L...  d10746918      0   \n",
       "1  /Restaurant_Review-g189934-d6674944-Reviews-Ra...   d6674944      0   \n",
       "2  /Restaurant_Review-g186525-d13129638-Reviews-B...  d13129638      0   \n",
       "3  /Restaurant_Review-g186338-d680417-Reviews-Qui...    d680417      0   \n",
       "4  /Restaurant_Review-g274924-d1112354-Reviews-Ma...   d1112354      0   \n",
       "\n",
       "   rating  reviews_nan  \n",
       "0     0.0            1  \n",
       "1     0.0            0  \n",
       "2     0.0            0  \n",
       "3     0.0            0  \n",
       "4     0.0            0  "
      ]
     },
     "execution_count": 26,
     "metadata": {},
     "output_type": "execute_result"
    }
   ],
   "source": [
    "union.head()"
   ]
  },
  {
   "cell_type": "code",
   "execution_count": 27,
   "id": "52418989",
   "metadata": {},
   "outputs": [],
   "source": [
    "df = union"
   ]
  },
  {
   "cell_type": "code",
   "execution_count": 28,
   "id": "b51695e0",
   "metadata": {},
   "outputs": [
    {
     "data": {
      "text/plain": [
       "5849"
      ]
     },
     "execution_count": 28,
     "metadata": {},
     "output_type": "execute_result"
    }
   ],
   "source": [
    "df.cuisines.isna().sum() # нам удалось заполнить половину пропусков"
   ]
  },
  {
   "cell_type": "code",
   "execution_count": 29,
   "id": "8ef4a89b",
   "metadata": {},
   "outputs": [],
   "source": [
    "df[\"cuisines_nan\"] = pd.isna(df[\"cuisines\"]).astype(\"int\")"
   ]
  },
  {
   "cell_type": "code",
   "execution_count": 30,
   "id": "3123e4da",
   "metadata": {},
   "outputs": [],
   "source": [
    "df[\"cuisines\"] = df.groupby(\"city\")[\"cuisines\"].\\\n",
    "    transform(lambda x: x.fillna(x.mode()[0]))"
   ]
  },
  {
   "cell_type": "markdown",
   "id": "1774a640",
   "metadata": {},
   "source": [
    "Повторим парсинг и замену для других признаков с пропусками"
   ]
  },
  {
   "cell_type": "markdown",
   "id": "2fb05ae9",
   "metadata": {},
   "source": [
    "####  price_range"
   ]
  },
  {
   "cell_type": "code",
   "execution_count": 31,
   "id": "58064f15",
   "metadata": {},
   "outputs": [
    {
     "data": {
      "text/plain": [
       "17361"
      ]
     },
     "execution_count": 31,
     "metadata": {},
     "output_type": "execute_result"
    }
   ],
   "source": [
    "df.price_range.isna().sum()"
   ]
  },
  {
   "cell_type": "markdown",
   "id": "3d709571",
   "metadata": {},
   "source": [
    "Время парсинга недостающих данных о диапазоне цен - более 2-х часов."
   ]
  },
  {
   "cell_type": "code",
   "execution_count": 32,
   "id": "fa350d6b",
   "metadata": {},
   "outputs": [],
   "source": [
    "# links = [f\"{url}{i}\" for i in df[df.price_range.isna()].link]\n",
    "# ids = [i for i in df[df.price_range.isna()].id2]"
   ]
  },
  {
   "cell_type": "code",
   "execution_count": 33,
   "id": "c4fa52ee",
   "metadata": {},
   "outputs": [],
   "source": [
    "# if __name__ == '__main__':\n",
    "#     start = datetime.now() # засекаем время\n",
    "#     with Pool() as p: # используем многопоточность, чтобы ускорить парсинг\n",
    "#         price_range = p.map(wind.get_price_range, links)\n",
    "#     end = datetime.now()\n",
    "#     print(end - start) # печатаем, сколько времени ушло на выполение ячейки"
   ]
  },
  {
   "cell_type": "code",
   "execution_count": 34,
   "id": "971c4a6f",
   "metadata": {},
   "outputs": [],
   "source": [
    "# res = pd.concat([pd.Series(ids), pd.Series(price_range)], axis=1)\n",
    "# res.columns = [\"id2\", \"price_ran\"]\n",
    "# res"
   ]
  },
  {
   "cell_type": "code",
   "execution_count": 35,
   "id": "b9bdb771",
   "metadata": {},
   "outputs": [],
   "source": [
    "#res.to_csv(\"price_range.csv\", index=False)"
   ]
  },
  {
   "cell_type": "code",
   "execution_count": 36,
   "id": "03c99911",
   "metadata": {},
   "outputs": [
    {
     "data": {
      "text/html": [
       "<div>\n",
       "<style scoped>\n",
       "    .dataframe tbody tr th:only-of-type {\n",
       "        vertical-align: middle;\n",
       "    }\n",
       "\n",
       "    .dataframe tbody tr th {\n",
       "        vertical-align: top;\n",
       "    }\n",
       "\n",
       "    .dataframe thead th {\n",
       "        text-align: right;\n",
       "    }\n",
       "</style>\n",
       "<table border=\"1\" class=\"dataframe\">\n",
       "  <thead>\n",
       "    <tr style=\"text-align: right;\">\n",
       "      <th></th>\n",
       "      <th>id2</th>\n",
       "      <th>price_ran</th>\n",
       "    </tr>\n",
       "  </thead>\n",
       "  <tbody>\n",
       "    <tr>\n",
       "      <th>4602</th>\n",
       "      <td>d3567660</td>\n",
       "      <td>NaN</td>\n",
       "    </tr>\n",
       "    <tr>\n",
       "      <th>16186</th>\n",
       "      <td>d13123995</td>\n",
       "      <td>NaN</td>\n",
       "    </tr>\n",
       "    <tr>\n",
       "      <th>3883</th>\n",
       "      <td>d12322498</td>\n",
       "      <td>NaN</td>\n",
       "    </tr>\n",
       "    <tr>\n",
       "      <th>8385</th>\n",
       "      <td>d12351755</td>\n",
       "      <td>$</td>\n",
       "    </tr>\n",
       "    <tr>\n",
       "      <th>11957</th>\n",
       "      <td>d2719664</td>\n",
       "      <td>NaN</td>\n",
       "    </tr>\n",
       "  </tbody>\n",
       "</table>\n",
       "</div>"
      ],
      "text/plain": [
       "             id2 price_ran\n",
       "4602    d3567660       NaN\n",
       "16186  d13123995       NaN\n",
       "3883   d12322498       NaN\n",
       "8385   d12351755         $\n",
       "11957   d2719664       NaN"
      ]
     },
     "execution_count": 36,
     "metadata": {},
     "output_type": "execute_result"
    }
   ],
   "source": [
    "price_range = pd.read_csv(\"price_range.csv\")\n",
    "price_range.sample(5)"
   ]
  },
  {
   "cell_type": "code",
   "execution_count": 37,
   "id": "b91fd405",
   "metadata": {},
   "outputs": [
    {
     "data": {
      "text/plain": [
       "True"
      ]
     },
     "execution_count": 37,
     "metadata": {},
     "output_type": "execute_result"
    }
   ],
   "source": [
    "len(price_range) == df.price_range.isna().sum()"
   ]
  },
  {
   "cell_type": "code",
   "execution_count": 38,
   "id": "fd7590be",
   "metadata": {},
   "outputs": [],
   "source": [
    "union = pd.merge(df, price_range, how='outer')\n",
    "union.drop_duplicates(inplace=True)\n",
    "union.reset_index(drop=True, inplace=True)\n",
    "union['price_range'] = union[['price_range', 'price_ran']].apply(lambda x: x[1] if pd.isna(x[0]) else x[0],axis=1)\n",
    "union.drop(['price_ran'], axis=1, inplace=True)"
   ]
  },
  {
   "cell_type": "code",
   "execution_count": 39,
   "id": "6a76ce02",
   "metadata": {},
   "outputs": [],
   "source": [
    "df = union"
   ]
  },
  {
   "cell_type": "code",
   "execution_count": 40,
   "id": "6f396f59",
   "metadata": {},
   "outputs": [
    {
     "data": {
      "text/plain": [
       "9476"
      ]
     },
     "execution_count": 40,
     "metadata": {},
     "output_type": "execute_result"
    }
   ],
   "source": [
    "df.price_range.isna().sum() # мы смогли уменьшить количество пропусков почти вдвое"
   ]
  },
  {
   "cell_type": "code",
   "execution_count": 41,
   "id": "7c64d29c",
   "metadata": {},
   "outputs": [],
   "source": [
    "df[\"price_range_nan\"] = pd.isna(df[\"price_range\"]).astype(\"int\")"
   ]
  },
  {
   "cell_type": "code",
   "execution_count": 42,
   "id": "918209b2",
   "metadata": {},
   "outputs": [],
   "source": [
    "price_dict = {'$': 1,\n",
    "              '$$ - $$$': 2,\n",
    "              '$$$$': 3}"
   ]
  },
  {
   "cell_type": "code",
   "execution_count": 43,
   "id": "9a024592",
   "metadata": {},
   "outputs": [],
   "source": [
    "df[\"price_range\"] = df[\"price_range\"].map(price_dict)\n",
    "# закодируем ценовой диапазон числами (это корректно, потому что переменная ординальная)"
   ]
  },
  {
   "cell_type": "code",
   "execution_count": 44,
   "id": "aeb5c154",
   "metadata": {},
   "outputs": [
    {
     "data": {
      "text/plain": [
       "2.0    27443\n",
       "1.0    11144\n",
       "3.0     1937\n",
       "Name: price_range, dtype: int64"
      ]
     },
     "execution_count": 44,
     "metadata": {},
     "output_type": "execute_result"
    }
   ],
   "source": [
    "df.price_range.value_counts()"
   ]
  },
  {
   "cell_type": "code",
   "execution_count": 45,
   "id": "76445f76",
   "metadata": {},
   "outputs": [],
   "source": [
    "df.price_range.fillna(df.price_range.mode()[0], inplace=True)"
   ]
  },
  {
   "cell_type": "code",
   "execution_count": 46,
   "id": "c130da4b",
   "metadata": {},
   "outputs": [
    {
     "data": {
      "text/plain": [
       "2.0    36919\n",
       "1.0    11144\n",
       "3.0     1937\n",
       "Name: price_range, dtype: int64"
      ]
     },
     "execution_count": 46,
     "metadata": {},
     "output_type": "execute_result"
    }
   ],
   "source": [
    "df.price_range.value_counts()"
   ]
  },
  {
   "cell_type": "markdown",
   "id": "fb702a55",
   "metadata": {},
   "source": [
    "#### number_of_reviews"
   ]
  },
  {
   "cell_type": "code",
   "execution_count": 47,
   "id": "ad8a25a3",
   "metadata": {},
   "outputs": [
    {
     "data": {
      "text/plain": [
       "3200"
      ]
     },
     "execution_count": 47,
     "metadata": {},
     "output_type": "execute_result"
    }
   ],
   "source": [
    "df.number_of_reviews.isna().sum()"
   ]
  },
  {
   "cell_type": "markdown",
   "id": "8a04faa3",
   "metadata": {},
   "source": [
    "Время парсинга количества отзывов - 20 минут."
   ]
  },
  {
   "cell_type": "code",
   "execution_count": 48,
   "id": "08a29438",
   "metadata": {},
   "outputs": [],
   "source": [
    "# links = [f\"{url}{i}\" for i in df[df.number_of_reviews.isna()].link]\n",
    "# ids = [i for i in df[df.number_of_reviews.isna()].id2]"
   ]
  },
  {
   "cell_type": "code",
   "execution_count": 49,
   "id": "0d6c58d4",
   "metadata": {},
   "outputs": [],
   "source": [
    "# if __name__ == '__main__':\n",
    "#     start = datetime.now()\n",
    "#     with Pool() as p:\n",
    "#         num_of_reviews = p.map(wind.get_num_of_reviews, links[:10])\n",
    "#     end = datetime.now()\n",
    "#     print(end - start)"
   ]
  },
  {
   "cell_type": "code",
   "execution_count": 50,
   "id": "10549b60",
   "metadata": {},
   "outputs": [],
   "source": [
    "# num_of_reviews"
   ]
  },
  {
   "cell_type": "code",
   "execution_count": 51,
   "id": "db484376",
   "metadata": {},
   "outputs": [],
   "source": [
    "# res = pd.concat([pd.Series(ids), pd.Series(num_of_reviews)], axis=1)\n",
    "# res.columns = [\"id2\", \"num_of_reviews\"]\n",
    "# res"
   ]
  },
  {
   "cell_type": "code",
   "execution_count": 52,
   "id": "c8d311e8",
   "metadata": {},
   "outputs": [],
   "source": [
    "# res.to_csv(\"number_of_reviews.csv\", index=False)"
   ]
  },
  {
   "cell_type": "code",
   "execution_count": 53,
   "id": "acd40d0a",
   "metadata": {},
   "outputs": [],
   "source": [
    "num_of_reviews = pd.read_csv(\"number_of_reviews.csv\")"
   ]
  },
  {
   "cell_type": "code",
   "execution_count": 54,
   "id": "631d6e4d",
   "metadata": {},
   "outputs": [],
   "source": [
    "union = pd.merge(df, num_of_reviews, how='outer')\n",
    "union['number_of_reviews'] = union[['number_of_reviews', 'num_of_reviews']].apply(lambda x: x[1] if pd.isna(x[0]) else x[0],axis=1)\n",
    "union.drop(['num_of_reviews'], axis=1, inplace=True)"
   ]
  },
  {
   "cell_type": "code",
   "execution_count": 55,
   "id": "f1e8299f",
   "metadata": {},
   "outputs": [],
   "source": [
    "df = union"
   ]
  },
  {
   "cell_type": "code",
   "execution_count": 56,
   "id": "cc7f846c",
   "metadata": {},
   "outputs": [
    {
     "data": {
      "text/plain": [
       "561"
      ]
     },
     "execution_count": 56,
     "metadata": {},
     "output_type": "execute_result"
    }
   ],
   "source": [
    "df.number_of_reviews.isna().sum() # количество пропусков сократилось впятеро(!)"
   ]
  },
  {
   "cell_type": "code",
   "execution_count": 57,
   "id": "bd613d90",
   "metadata": {},
   "outputs": [],
   "source": [
    "df[\"number_of_reviews_nan\"] = pd.isna(df[\"number_of_reviews\"]).astype(\"int\")"
   ]
  },
  {
   "cell_type": "code",
   "execution_count": 58,
   "id": "f4e72994",
   "metadata": {},
   "outputs": [],
   "source": [
    "df[\"number_of_reviews\"] = df.groupby(\"city\")[\"number_of_reviews\"].\\\n",
    "    transform(lambda x: x.fillna(x.median()))"
   ]
  },
  {
   "cell_type": "code",
   "execution_count": 59,
   "id": "3a88e328",
   "metadata": {},
   "outputs": [
    {
     "data": {
      "text/plain": [
       "id                       0\n",
       "city                     0\n",
       "cuisines                 0\n",
       "ranking                  0\n",
       "price_range              0\n",
       "number_of_reviews        0\n",
       "reviews                  0\n",
       "link                     0\n",
       "id2                      0\n",
       "train                    0\n",
       "rating                   0\n",
       "reviews_nan              0\n",
       "cuisines_nan             0\n",
       "price_range_nan          0\n",
       "number_of_reviews_nan    0\n",
       "dtype: int64"
      ]
     },
     "execution_count": 59,
     "metadata": {},
     "output_type": "execute_result"
    }
   ],
   "source": [
    "df.isna().sum() # проверим, что мы заполнили все пропуски"
   ]
  },
  {
   "cell_type": "markdown",
   "id": "04b569c2",
   "metadata": {},
   "source": [
    "### Работа с числовыми признаками"
   ]
  },
  {
   "cell_type": "markdown",
   "id": "e680995a",
   "metadata": {},
   "source": [
    "* ranking — место, которое занимает данный ресторан среди всех ресторанов своего города;\n",
    "* rating — рейтинг ресторана по данным TripAdvisor (это наша **целевая переменная**);\n",
    "* number_of_reviews — количество отзывов о ресторане."
   ]
  },
  {
   "cell_type": "markdown",
   "id": "6f8c3286",
   "metadata": {},
   "source": [
    "#### ranking"
   ]
  },
  {
   "cell_type": "code",
   "execution_count": 60,
   "id": "e966b2bd",
   "metadata": {},
   "outputs": [
    {
     "data": {
      "image/png": "[encoded data removed]",
      "text/plain": [
       "<Figure size 432x288 with 1 Axes>"
      ]
     },
     "metadata": {
      "needs_background": "light"
     },
     "output_type": "display_data"
    }
   ],
   "source": [
    "df.ranking.hist();"
   ]
  },
  {
   "cell_type": "code",
   "execution_count": 61,
   "id": "7dba7201",
   "metadata": {},
   "outputs": [
    {
     "name": "stdout",
     "output_type": "stream",
     "text": [
      "25-й процентиль: 972.0, 75-й процентиль: 5241.0, IQR: 4269.0, Границы выбросов: [-5431.5, 11644.5]\n",
      "Количество выбросов в признаке 'ranking':    3075\n"
     ]
    }
   ],
   "source": [
    "outliers(\"ranking\")"
   ]
  },
  {
   "cell_type": "code",
   "execution_count": 62,
   "id": "cb326b6d",
   "metadata": {},
   "outputs": [
    {
     "data": {
      "image/png": "[encoded data removed]",
      "text/plain": [
       "<Figure size 864x432 with 1 Axes>"
      ]
     },
     "metadata": {
      "needs_background": "light"
     },
     "output_type": "display_data"
    }
   ],
   "source": [
    "plt.rcParams['figure.figsize'] = (12,6)\n",
    "df['city'].value_counts(ascending=True).plot(kind='barh');"
   ]
  },
  {
   "cell_type": "code",
   "execution_count": 63,
   "id": "9c0d6bdf",
   "metadata": {},
   "outputs": [
    {
     "data": {
      "image/png": "[encoded data removed]",
      "text/plain": [
       "<Figure size 864x432 with 1 Axes>"
      ]
     },
     "metadata": {
      "needs_background": "light"
     },
     "output_type": "display_data"
    }
   ],
   "source": [
    "for x in (df['city'].value_counts())[:10].index:\n",
    "    df['ranking'][df['city'] == x].hist(bins=100)\n",
    "plt.show()"
   ]
  },
  {
   "cell_type": "code",
   "execution_count": 64,
   "id": "e9256895",
   "metadata": {
    "scrolled": true
   },
   "outputs": [],
   "source": [
    "# Распределения ranking очень похожи, \n",
    "# просто в больших городах больше ресторанов, и из-за мы этого имеем смещение.\n",
    "# Отнормируем ranking по городам\n",
    "mean_ranking_by_city = df.groupby(['city'])['ranking'].mean()\n",
    "number_of_restaurants = dict(df['city'].value_counts())"
   ]
  },
  {
   "cell_type": "code",
   "execution_count": 65,
   "id": "fb2e9abc",
   "metadata": {},
   "outputs": [],
   "source": [
    "number_of_restaurants = df[\"city\"].map(number_of_restaurants)\n",
    "mean_ranking_by_city = df[\"city\"].apply(lambda x: mean_ranking_by_city[x])"
   ]
  },
  {
   "cell_type": "code",
   "execution_count": 66,
   "id": "2624b67d",
   "metadata": {},
   "outputs": [],
   "source": [
    "df[\"norm_ranking\"] = (df[\"ranking\"] - mean_ranking_by_city) / number_of_restaurants"
   ]
  },
  {
   "cell_type": "code",
   "execution_count": 67,
   "id": "8c2cea0b",
   "metadata": {
    "scrolled": false
   },
   "outputs": [
    {
     "data": {
      "image/png": "[encoded data removed]",
      "text/plain": [
       "<Figure size 864x432 with 1 Axes>"
      ]
     },
     "metadata": {
      "needs_background": "light"
     },
     "output_type": "display_data"
    }
   ],
   "source": [
    "for x in (df[\"city\"].value_counts())[:10].index:\n",
    "    df[\"norm_ranking\"][df[\"city\"] == x].hist(bins=100)\n",
    "plt.show()"
   ]
  },
  {
   "cell_type": "markdown",
   "id": "21a4451d",
   "metadata": {},
   "source": [
    "#### rating"
   ]
  },
  {
   "cell_type": "code",
   "execution_count": 68,
   "id": "896ef8b7",
   "metadata": {
    "scrolled": false
   },
   "outputs": [
    {
     "data": {
      "image/png": "[encoded data removed]",
      "text/plain": [
       "<Figure size 864x432 with 1 Axes>"
      ]
     },
     "metadata": {
      "needs_background": "light"
     },
     "output_type": "display_data"
    }
   ],
   "source": [
    "df[df[\"rating\"] > 0][\"rating\"].hist(bins=20);"
   ]
  },
  {
   "cell_type": "markdown",
   "id": "baadeea6",
   "metadata": {},
   "source": [
    "#### number_of_reviews"
   ]
  },
  {
   "cell_type": "code",
   "execution_count": 69,
   "id": "fc3b6deb",
   "metadata": {
    "scrolled": false
   },
   "outputs": [
    {
     "data": {
      "image/png": "[encoded data removed]",
      "text/plain": [
       "<Figure size 864x432 with 1 Axes>"
      ]
     },
     "metadata": {
      "needs_background": "light"
     },
     "output_type": "display_data"
    }
   ],
   "source": [
    "df.number_of_reviews.hist(bins=100);"
   ]
  },
  {
   "cell_type": "code",
   "execution_count": 70,
   "id": "9476c626",
   "metadata": {},
   "outputs": [
    {
     "name": "stdout",
     "output_type": "stream",
     "text": [
      "25-й процентиль: 9.0, 75-й процентиль: 115.0, IQR: 106.0, Границы выбросов: [-150.0, 274.0]\n",
      "Количество выбросов в признаке 'number_of_reviews':    5428\n"
     ]
    }
   ],
   "source": [
    "outliers(\"number_of_reviews\")\n",
    "# Наблюдаем большое число выбросов за правой границей, возможно, это накрученные отзывы"
   ]
  },
  {
   "cell_type": "code",
   "execution_count": 71,
   "id": "18a3b10c",
   "metadata": {},
   "outputs": [],
   "source": [
    "df.loc[df[\"number_of_reviews\"] > 1200, \"number_of_reviews\"] = 1200"
   ]
  },
  {
   "cell_type": "code",
   "execution_count": 72,
   "id": "10b3003e",
   "metadata": {},
   "outputs": [
    {
     "data": {
      "image/png": "[encoded data removed]",
      "text/plain": [
       "<Figure size 864x432 with 1 Axes>"
      ]
     },
     "metadata": {
      "needs_background": "light"
     },
     "output_type": "display_data"
    }
   ],
   "source": [
    "df.number_of_reviews.hist(bins=100);"
   ]
  },
  {
   "cell_type": "code",
   "execution_count": 73,
   "id": "df3fca5c",
   "metadata": {},
   "outputs": [
    {
     "data": {
      "text/plain": [
       "0    37530\n",
       "1    12470\n",
       "Name: popular, dtype: int64"
      ]
     },
     "execution_count": 73,
     "metadata": {},
     "output_type": "execute_result"
    }
   ],
   "source": [
    "border = df[\"number_of_reviews\"].quantile(0.75)\n",
    "df[\"popular\"] = df[\"number_of_reviews\"].apply(lambda x: 1 if x > border else 0)\n",
    "df[\"popular\"].value_counts()"
   ]
  },
  {
   "cell_type": "markdown",
   "id": "c2e9a66e",
   "metadata": {},
   "source": [
    "### Работа с нечисловыми признаками"
   ]
  },
  {
   "cell_type": "markdown",
   "id": "89d4b21f",
   "metadata": {},
   "source": [
    "* id — идентификационный номер ресторана / сети ресторанов;\n",
    "* сity — город, в котором находится ресторан;\n",
    "* cuisines — кухня или кухни, к которым можно отнести блюда, предлагаемые в ресторане;\n",
    "* price_range — диапазон цен в ресторане;\n",
    "* reviews — данные о двух отзывах, которые отображаются на сайте ресторана;\n",
    "* link — URL страницы ресторана на TripAdvisor;\n",
    "* id2 — идентификатор ресторана в базе данных TripAdvisor."
   ]
  },
  {
   "cell_type": "markdown",
   "id": "bbae2a3e",
   "metadata": {},
   "source": [
    "#### id"
   ]
  },
  {
   "cell_type": "code",
   "execution_count": 74,
   "id": "77837930",
   "metadata": {},
   "outputs": [],
   "source": [
    "rest_count = df.id.value_counts()\n",
    "restaurant_chain_list = rest_count[rest_count >= 2].index.tolist()\n",
    "# создадим список сетевых ресторанов для будущего признака is_restaurant_chain"
   ]
  },
  {
   "cell_type": "code",
   "execution_count": 75,
   "id": "604af036",
   "metadata": {},
   "outputs": [],
   "source": [
    "def is_chain(x):\n",
    "    if x in restaurant_chain_list:\n",
    "        return 1\n",
    "    else:\n",
    "        return 0"
   ]
  },
  {
   "cell_type": "code",
   "execution_count": 76,
   "id": "b72ed557",
   "metadata": {},
   "outputs": [],
   "source": [
    "df[\"is_restaurant_chain\"] = df.id.apply(is_chain)"
   ]
  },
  {
   "cell_type": "code",
   "execution_count": 77,
   "id": "7fcff083",
   "metadata": {},
   "outputs": [
    {
     "data": {
      "image/png": "[encoded data removed]",
      "text/plain": [
       "<Figure size 864x432 with 1 Axes>"
      ]
     },
     "metadata": {
      "needs_background": "light"
     },
     "output_type": "display_data"
    }
   ],
   "source": [
    "df[\"is_restaurant_chain\"].hist();"
   ]
  },
  {
   "cell_type": "markdown",
   "id": "b252e89c",
   "metadata": {},
   "source": [
    "#### city"
   ]
  },
  {
   "cell_type": "code",
   "execution_count": 78,
   "id": "8f736afe",
   "metadata": {},
   "outputs": [
    {
     "data": {
      "image/png": "[encoded data removed]",
      "text/plain": [
       "<Figure size 864x288 with 1 Axes>"
      ]
     },
     "metadata": {
      "needs_background": "light"
     },
     "output_type": "display_data"
    }
   ],
   "source": [
    "get_boxplot(df.city)"
   ]
  },
  {
   "cell_type": "code",
   "execution_count": 79,
   "id": "02840380",
   "metadata": {},
   "outputs": [
    {
     "data": {
      "image/png": "[encoded data removed]",
      "text/plain": [
       "<Figure size 1500x500 with 1 Axes>"
      ]
     },
     "metadata": {
      "needs_background": "light"
     },
     "output_type": "display_data"
    }
   ],
   "source": [
    "plt.figure(figsize=(15, 5), dpi=100)\n",
    "sns.countplot(df[\"city\"], order=df[\"city\"].value_counts().index)\n",
    "plt.xticks(rotation=45)\n",
    "plt.xlabel(\"City name\")\n",
    "plt.ylabel(\"Frequency\");"
   ]
  },
  {
   "cell_type": "code",
   "execution_count": 80,
   "id": "eb48cf07",
   "metadata": {},
   "outputs": [],
   "source": [
    "df.loc[df.city == \"Oporto\", \"city\"] = \"Porto\""
   ]
  },
  {
   "cell_type": "code",
   "execution_count": 81,
   "id": "fc6c55a4",
   "metadata": {},
   "outputs": [],
   "source": [
    "not_capital = [\"Barcelona\", \"Milan\", \"Hamburg\", \"Munich\", \n",
    "               \"Lyon\", \"Zurich\", \"Porto\", \"Geneva\", \"Krakow\"]\n",
    "df[\"is_capital\"] = df[\"city\"].apply(lambda x: 0 if x in not_capital else 1) "
   ]
  },
  {
   "cell_type": "code",
   "execution_count": 82,
   "id": "4878250f",
   "metadata": {},
   "outputs": [],
   "source": [
    "cities = list(df.city.unique())"
   ]
  },
  {
   "cell_type": "code",
   "execution_count": 83,
   "id": "fd82e4ab",
   "metadata": {},
   "outputs": [],
   "source": [
    "data = pd.read_csv(\"cities.csv\") # загрузим сторонние данные о городах (такие как стоимость жизни или уровень образования)\n",
    "                                 # источник: https://www.kaggle.com/orhankaramancode/city-quality-of-life-dataset"
   ]
  },
  {
   "cell_type": "code",
   "execution_count": 84,
   "id": "dcb515c1",
   "metadata": {
    "scrolled": true
   },
   "outputs": [
    {
     "data": {
      "text/html": [
       "<div>\n",
       "<style scoped>\n",
       "    .dataframe tbody tr th:only-of-type {\n",
       "        vertical-align: middle;\n",
       "    }\n",
       "\n",
       "    .dataframe tbody tr th {\n",
       "        vertical-align: top;\n",
       "    }\n",
       "\n",
       "    .dataframe thead th {\n",
       "        text-align: right;\n",
       "    }\n",
       "</style>\n",
       "<table border=\"1\" class=\"dataframe\">\n",
       "  <thead>\n",
       "    <tr style=\"text-align: right;\">\n",
       "      <th></th>\n",
       "      <th>city</th>\n",
       "      <th>housing</th>\n",
       "      <th>cost_of_living</th>\n",
       "      <th>startups</th>\n",
       "      <th>venture_capital</th>\n",
       "      <th>travel_connectivity</th>\n",
       "      <th>commute</th>\n",
       "      <th>business_freedom</th>\n",
       "      <th>safety</th>\n",
       "      <th>healthcare</th>\n",
       "      <th>education</th>\n",
       "      <th>environment</th>\n",
       "      <th>economy</th>\n",
       "      <th>taxation</th>\n",
       "      <th>internet_access</th>\n",
       "      <th>leisure_and_culture</th>\n",
       "      <th>tolerance</th>\n",
       "      <th>outdoors</th>\n",
       "    </tr>\n",
       "  </thead>\n",
       "  <tbody>\n",
       "    <tr>\n",
       "      <th>0</th>\n",
       "      <td>Aarhus</td>\n",
       "      <td>6.1315</td>\n",
       "      <td>4.015</td>\n",
       "      <td>2.8270</td>\n",
       "      <td>2.512</td>\n",
       "      <td>3.5360</td>\n",
       "      <td>6.31175</td>\n",
       "      <td>9.940000</td>\n",
       "      <td>9.6165</td>\n",
       "      <td>8.704333</td>\n",
       "      <td>5.3665</td>\n",
       "      <td>7.63300</td>\n",
       "      <td>4.8865</td>\n",
       "      <td>5.0680</td>\n",
       "      <td>8.373</td>\n",
       "      <td>3.1870</td>\n",
       "      <td>9.7385</td>\n",
       "      <td>4.1300</td>\n",
       "    </tr>\n",
       "    <tr>\n",
       "      <th>1</th>\n",
       "      <td>Adelaide</td>\n",
       "      <td>6.3095</td>\n",
       "      <td>4.692</td>\n",
       "      <td>3.1365</td>\n",
       "      <td>2.640</td>\n",
       "      <td>1.7765</td>\n",
       "      <td>5.33625</td>\n",
       "      <td>9.399667</td>\n",
       "      <td>7.9260</td>\n",
       "      <td>7.936667</td>\n",
       "      <td>5.1420</td>\n",
       "      <td>8.33075</td>\n",
       "      <td>6.0695</td>\n",
       "      <td>4.5885</td>\n",
       "      <td>4.341</td>\n",
       "      <td>4.3285</td>\n",
       "      <td>7.8220</td>\n",
       "      <td>5.5310</td>\n",
       "    </tr>\n",
       "    <tr>\n",
       "      <th>2</th>\n",
       "      <td>Albuquerque</td>\n",
       "      <td>7.2620</td>\n",
       "      <td>6.059</td>\n",
       "      <td>3.7720</td>\n",
       "      <td>1.493</td>\n",
       "      <td>1.4555</td>\n",
       "      <td>5.05575</td>\n",
       "      <td>8.671000</td>\n",
       "      <td>1.3435</td>\n",
       "      <td>6.430000</td>\n",
       "      <td>4.1520</td>\n",
       "      <td>7.31950</td>\n",
       "      <td>6.5145</td>\n",
       "      <td>4.3460</td>\n",
       "      <td>5.396</td>\n",
       "      <td>4.8900</td>\n",
       "      <td>7.0285</td>\n",
       "      <td>3.5155</td>\n",
       "    </tr>\n",
       "    <tr>\n",
       "      <th>3</th>\n",
       "      <td>Almaty</td>\n",
       "      <td>9.2820</td>\n",
       "      <td>9.333</td>\n",
       "      <td>2.4585</td>\n",
       "      <td>0.000</td>\n",
       "      <td>4.5920</td>\n",
       "      <td>5.87125</td>\n",
       "      <td>5.568000</td>\n",
       "      <td>7.3090</td>\n",
       "      <td>4.545667</td>\n",
       "      <td>2.2830</td>\n",
       "      <td>3.85675</td>\n",
       "      <td>5.2690</td>\n",
       "      <td>8.5220</td>\n",
       "      <td>2.886</td>\n",
       "      <td>2.9370</td>\n",
       "      <td>6.5395</td>\n",
       "      <td>5.5000</td>\n",
       "    </tr>\n",
       "    <tr>\n",
       "      <th>4</th>\n",
       "      <td>Amsterdam</td>\n",
       "      <td>3.0530</td>\n",
       "      <td>3.824</td>\n",
       "      <td>7.9715</td>\n",
       "      <td>6.107</td>\n",
       "      <td>8.3245</td>\n",
       "      <td>6.11850</td>\n",
       "      <td>8.836667</td>\n",
       "      <td>8.5035</td>\n",
       "      <td>7.907333</td>\n",
       "      <td>6.1800</td>\n",
       "      <td>7.59725</td>\n",
       "      <td>5.0530</td>\n",
       "      <td>4.9550</td>\n",
       "      <td>4.523</td>\n",
       "      <td>8.8740</td>\n",
       "      <td>8.3680</td>\n",
       "      <td>5.3070</td>\n",
       "    </tr>\n",
       "  </tbody>\n",
       "</table>\n",
       "</div>"
      ],
      "text/plain": [
       "          city  housing  cost_of_living  startups  venture_capital  \\\n",
       "0       Aarhus   6.1315           4.015    2.8270            2.512   \n",
       "1     Adelaide   6.3095           4.692    3.1365            2.640   \n",
       "2  Albuquerque   7.2620           6.059    3.7720            1.493   \n",
       "3       Almaty   9.2820           9.333    2.4585            0.000   \n",
       "4    Amsterdam   3.0530           3.824    7.9715            6.107   \n",
       "\n",
       "   travel_connectivity  commute  business_freedom  safety  healthcare  \\\n",
       "0               3.5360  6.31175          9.940000  9.6165    8.704333   \n",
       "1               1.7765  5.33625          9.399667  7.9260    7.936667   \n",
       "2               1.4555  5.05575          8.671000  1.3435    6.430000   \n",
       "3               4.5920  5.87125          5.568000  7.3090    4.545667   \n",
       "4               8.3245  6.11850          8.836667  8.5035    7.907333   \n",
       "\n",
       "   education  environment  economy  taxation  internet_access  \\\n",
       "0     5.3665      7.63300   4.8865    5.0680            8.373   \n",
       "1     5.1420      8.33075   6.0695    4.5885            4.341   \n",
       "2     4.1520      7.31950   6.5145    4.3460            5.396   \n",
       "3     2.2830      3.85675   5.2690    8.5220            2.886   \n",
       "4     6.1800      7.59725   5.0530    4.9550            4.523   \n",
       "\n",
       "   leisure_and_culture  tolerance  outdoors  \n",
       "0               3.1870     9.7385    4.1300  \n",
       "1               4.3285     7.8220    5.5310  \n",
       "2               4.8900     7.0285    3.5155  \n",
       "3               2.9370     6.5395    5.5000  \n",
       "4               8.8740     8.3680    5.3070  "
      ]
     },
     "execution_count": 84,
     "metadata": {},
     "output_type": "execute_result"
    }
   ],
   "source": [
    "data.head()"
   ]
  },
  {
   "cell_type": "code",
   "execution_count": 85,
   "id": "e262c52a",
   "metadata": {},
   "outputs": [],
   "source": [
    "df = df.merge(data, how=\"left\") # добавим данные в исходный датафрейм"
   ]
  },
  {
   "cell_type": "code",
   "execution_count": 86,
   "id": "a1dec03a",
   "metadata": {},
   "outputs": [],
   "source": [
    "city_population = {\n",
    "    'Paris': 2_187_526,\n",
    "    'Stockholm': 975_551,\n",
    "    'London': 8_982_000,\n",
    "    'Berlin': 3_769_000,\n",
    "    'Munich': 1_472_000,\n",
    "    'Porto': 214_349,\n",
    "    'Milan': 1_352_000,\n",
    "    'Bratislava': 424_428,\n",
    "    'Vienna': 1_897_000,\n",
    "    'Rome': 2_873_000,\n",
    "    'Barcelona': 5_575_000,\n",
    "    'Madrid': 6_642_000,\n",
    "    'Dublin': 1_388_000,\n",
    "    'Brussels': 174_383,\n",
    "    'Zurich': 402_762,\n",
    "    'Warsaw': 1_708_000,\n",
    "    'Budapest': 1_752_000,\n",
    "    'Copenhagen': 602_481,\n",
    "    'Amsterdam': 821_752,\n",
    "    'Lyon': 513_275,\n",
    "    'Hamburg': 1_845_000,\n",
    "    'Lisbon': 504_718,\n",
    "    'Prague': 1_309_000,\n",
    "    'Oslo': 681_067,\n",
    "    'Helsinki': 631_695,\n",
    "    'Edinburgh': 482_005,\n",
    "    'Geneva': 499_480,\n",
    "    'Ljubljana': 279_631,\n",
    "    'Athens': 664_046,\n",
    "    'Luxembourg': 124_528,\n",
    "    'Krakow': 762_508\n",
    "}"
   ]
  },
  {
   "cell_type": "code",
   "execution_count": 87,
   "id": "56a77bbb",
   "metadata": {},
   "outputs": [],
   "source": [
    "df[\"population\"] = df[\"city\"].map(city_population)"
   ]
  },
  {
   "cell_type": "code",
   "execution_count": 88,
   "id": "4fa2e279",
   "metadata": {},
   "outputs": [],
   "source": [
    "purchasing_power_index = {\n",
    "    'London' : 24,\n",
    "    'Paris' : 22,\n",
    "    'Madrid' : 23,\n",
    "    'Barcelona' : 30,\n",
    "    'Berlin' : 8,\n",
    "    'Milan' : 40,\n",
    "    'Rome' : 37,\n",
    "    'Prague' : 31,\n",
    "    'Lisbon' : 48,'Vienna' : 21,\n",
    "    'Amsterdam' : 19,\n",
    "    'Brussels' : 15,\n",
    "    'Hamburg' : 7,\n",
    "    'Munich' : 6,\n",
    "    'Lyon' : 70,\n",
    "    'Stockholm' : 13,\n",
    "    'Budapest' : 51,\n",
    "    'Warsaw' : 29,\n",
    "    'Dublin' : 27,\n",
    "    'Copenhagen' : 10,\n",
    "    'Athens' : 53,\n",
    "    'Edinburgh' : 16, \n",
    "    'Zurich' : 2,\n",
    "    'Porto' : 42,\n",
    "    'Geneva' : 3, \n",
    "    'Krakow' : 36, \n",
    "    'Oslo' : 17, \n",
    "    'Helsinki' : 9,\n",
    "    'Bratislava' : 39,\n",
    "    'Luxembourg' : 4,\n",
    "    'Ljubljana' : 32\n",
    "}"
   ]
  },
  {
   "cell_type": "code",
   "execution_count": 89,
   "id": "9e60b42c",
   "metadata": {},
   "outputs": [],
   "source": [
    "df[\"purchasing_power_index\"] = df[\"city\"].map(purchasing_power_index)"
   ]
  },
  {
   "cell_type": "code",
   "execution_count": 90,
   "id": "0bb6f1d6",
   "metadata": {},
   "outputs": [],
   "source": [
    "tourist_attract = {\n",
    "    'London' : 1,\n",
    "    'Paris' : 1,\n",
    "    'Madrid' : 2,\n",
    "    'Barcelona' : 2,\n",
    "    'Berlin' : 2,\n",
    "    'Milan' : 5,\n",
    "    'Rome' : 1,\n",
    "    'Prague' : 1,\n",
    "    'Lisbon' : 3,\n",
    "    'Vienna' : 2,\n",
    "    'Amsterdam' : 1,\n",
    "    'Brussels' : 3,\n",
    "    'Hamburg' : 5,\n",
    "    'Munich' : 3,\n",
    "    'Lyon' : 5,\n",
    "    'Stockholm' : 4,\n",
    "    'Budapest' : 3,\n",
    "    'Warsaw' : 3,\n",
    "    'Dublin' : 5,\n",
    "    'Copenhagen' : 3,\n",
    "    'Athens' : 2,\n",
    "    'Edinburgh' : 5, \n",
    "    'Zurich' : 5,\n",
    "    'Porto' : 4,\n",
    "    'Geneva' : 5, \n",
    "    'Krakow' : 3, \n",
    "    'Oslo' : 5, \n",
    "    'Helsinki' : 5,\n",
    "    'Bratislava' : 5,\n",
    "    'Luxembourg' : 5,\n",
    "    'Ljubljana' : 5\n",
    "}"
   ]
  },
  {
   "cell_type": "code",
   "execution_count": 91,
   "id": "1653b365",
   "metadata": {},
   "outputs": [],
   "source": [
    "df[\"tourist_attraction\"] = df[\"city\"].map(tourist_attract)"
   ]
  },
  {
   "cell_type": "code",
   "execution_count": 92,
   "id": "828cebc0",
   "metadata": {},
   "outputs": [],
   "source": [
    "gdp = {\n",
    "    'Paris': 45_454,\n",
    "    'Stockholm': 52_477,\n",
    "    'London': 44_288,\n",
    "    'Berlin': 53_571,\n",
    "    'Munich': 53_571,\n",
    "    'Porto': 33_131,\n",
    "    'Milan': 40_066,\n",
    "    'Bratislava': 32_184, \n",
    "    'Vienna': 55_406,\n",
    "    'Rome': 40_066,\n",
    "    'Barcelona': 38_143,\n",
    "    'Madrid': 38_143,\n",
    "    'Dublin': 89_383,\n",
    "    'Brussels': 50_114,\n",
    "    'Zurich': 68_340,\n",
    "    'Warsaw': 33_739,\n",
    "    'Budapest': 32_434,\n",
    "    'Copenhagen': 57_781,\n",
    "    'Amsterdam': 57_101,\n",
    "    'Lyon': 45_454,\n",
    "    'Hamburg': 53_571,\n",
    "    'Lisbon': 33_131,\n",
    "    'Prague': 40_293,\n",
    "    'Oslo': 64_856,\n",
    "    'Helsinki': 49_334,\n",
    "    'Edinburgh': 44_288,\n",
    "    'Geneva': 68_340,\n",
    "    'Ljubljana': 38_506,\n",
    "    'Athens': 29_045,\n",
    "    'Luxembourg': 112_875,\n",
    "    'Krakow': 33_739\n",
    "}"
   ]
  },
  {
   "cell_type": "code",
   "execution_count": 93,
   "id": "5b098b43",
   "metadata": {},
   "outputs": [],
   "source": [
    "df[\"gdp\"] = df[\"city\"].map(gdp)"
   ]
  },
  {
   "cell_type": "code",
   "execution_count": 94,
   "id": "ff911868",
   "metadata": {},
   "outputs": [],
   "source": [
    "restaurants_by_city = df.city.value_counts()\n",
    "df[\"number_of_restaurants\"] = df.city.apply(lambda x: restaurants_by_city[x])"
   ]
  },
  {
   "cell_type": "code",
   "execution_count": 95,
   "id": "538b5518",
   "metadata": {},
   "outputs": [],
   "source": [
    "df[\"people_per_rest\"] = df[\"population\"] / df[\"number_of_restaurants\"]"
   ]
  },
  {
   "cell_type": "code",
   "execution_count": 96,
   "id": "380be010",
   "metadata": {},
   "outputs": [
    {
     "data": {
      "text/html": [
       "<div>\n",
       "<style scoped>\n",
       "    .dataframe tbody tr th:only-of-type {\n",
       "        vertical-align: middle;\n",
       "    }\n",
       "\n",
       "    .dataframe tbody tr th {\n",
       "        vertical-align: top;\n",
       "    }\n",
       "\n",
       "    .dataframe thead th {\n",
       "        text-align: right;\n",
       "    }\n",
       "</style>\n",
       "<table border=\"1\" class=\"dataframe\">\n",
       "  <thead>\n",
       "    <tr style=\"text-align: right;\">\n",
       "      <th></th>\n",
       "      <th>id</th>\n",
       "      <th>city</th>\n",
       "      <th>cuisines</th>\n",
       "      <th>ranking</th>\n",
       "      <th>price_range</th>\n",
       "      <th>number_of_reviews</th>\n",
       "      <th>reviews</th>\n",
       "      <th>link</th>\n",
       "      <th>id2</th>\n",
       "      <th>train</th>\n",
       "      <th>...</th>\n",
       "      <th>internet_access</th>\n",
       "      <th>leisure_and_culture</th>\n",
       "      <th>tolerance</th>\n",
       "      <th>outdoors</th>\n",
       "      <th>population</th>\n",
       "      <th>purchasing_power_index</th>\n",
       "      <th>tourist_attraction</th>\n",
       "      <th>gdp</th>\n",
       "      <th>number_of_restaurants</th>\n",
       "      <th>people_per_rest</th>\n",
       "    </tr>\n",
       "  </thead>\n",
       "  <tbody>\n",
       "    <tr>\n",
       "      <th>29924</th>\n",
       "      <td>id_7912</td>\n",
       "      <td>Madrid</td>\n",
       "      <td>['American']</td>\n",
       "      <td>7919.0</td>\n",
       "      <td>2.0</td>\n",
       "      <td>4.0</td>\n",
       "      <td>[[], []]</td>\n",
       "      <td>/Restaurant_Review-g187514-d7595637-Reviews-Re...</td>\n",
       "      <td>d7595637</td>\n",
       "      <td>1</td>\n",
       "      <td>...</td>\n",
       "      <td>6.2410</td>\n",
       "      <td>9.3380</td>\n",
       "      <td>7.665</td>\n",
       "      <td>6.2200</td>\n",
       "      <td>6642000</td>\n",
       "      <td>23</td>\n",
       "      <td>2</td>\n",
       "      <td>38143</td>\n",
       "      <td>3813</td>\n",
       "      <td>1741.935484</td>\n",
       "    </tr>\n",
       "    <tr>\n",
       "      <th>23011</th>\n",
       "      <td>id_3904</td>\n",
       "      <td>London</td>\n",
       "      <td>['Fast Food', 'Middle Eastern', 'Halal']</td>\n",
       "      <td>3911.0</td>\n",
       "      <td>1.0</td>\n",
       "      <td>106.0</td>\n",
       "      <td>[['The Best.', 'The Best on KINGS ROAD'], ['07...</td>\n",
       "      <td>/Restaurant_Review-g186338-d1195259-Reviews-Ke...</td>\n",
       "      <td>d1195259</td>\n",
       "      <td>1</td>\n",
       "      <td>...</td>\n",
       "      <td>5.8455</td>\n",
       "      <td>9.4555</td>\n",
       "      <td>6.573</td>\n",
       "      <td>5.3745</td>\n",
       "      <td>8982000</td>\n",
       "      <td>24</td>\n",
       "      <td>1</td>\n",
       "      <td>44288</td>\n",
       "      <td>7193</td>\n",
       "      <td>1248.714028</td>\n",
       "    </tr>\n",
       "    <tr>\n",
       "      <th>7750</th>\n",
       "      <td>id_7737</td>\n",
       "      <td>London</td>\n",
       "      <td>['Steakhouse', 'European', 'British', 'Scottis...</td>\n",
       "      <td>1843.0</td>\n",
       "      <td>3.0</td>\n",
       "      <td>234.0</td>\n",
       "      <td>[['Always delivers', 'Steak and Jazz'], ['01/0...</td>\n",
       "      <td>/Restaurant_Review-g186338-d1386569-Reviews-Bo...</td>\n",
       "      <td>d1386569</td>\n",
       "      <td>0</td>\n",
       "      <td>...</td>\n",
       "      <td>5.8455</td>\n",
       "      <td>9.4555</td>\n",
       "      <td>6.573</td>\n",
       "      <td>5.3745</td>\n",
       "      <td>8982000</td>\n",
       "      <td>24</td>\n",
       "      <td>1</td>\n",
       "      <td>44288</td>\n",
       "      <td>7193</td>\n",
       "      <td>1248.714028</td>\n",
       "    </tr>\n",
       "    <tr>\n",
       "      <th>18204</th>\n",
       "      <td>id_7277</td>\n",
       "      <td>London</td>\n",
       "      <td>['Lebanese', 'Mediterranean', 'Middle Eastern'...</td>\n",
       "      <td>7286.0</td>\n",
       "      <td>1.0</td>\n",
       "      <td>45.0</td>\n",
       "      <td>[[\"LAMB SHERWAMA - IT'S A WRAP\", 'Very Good Le...</td>\n",
       "      <td>/Restaurant_Review-g186338-d3862786-Reviews-Be...</td>\n",
       "      <td>d3862786</td>\n",
       "      <td>1</td>\n",
       "      <td>...</td>\n",
       "      <td>5.8455</td>\n",
       "      <td>9.4555</td>\n",
       "      <td>6.573</td>\n",
       "      <td>5.3745</td>\n",
       "      <td>8982000</td>\n",
       "      <td>24</td>\n",
       "      <td>1</td>\n",
       "      <td>44288</td>\n",
       "      <td>7193</td>\n",
       "      <td>1248.714028</td>\n",
       "    </tr>\n",
       "    <tr>\n",
       "      <th>14359</th>\n",
       "      <td>id_1672</td>\n",
       "      <td>Vienna</td>\n",
       "      <td>['Austrian', 'Cafe', 'European']</td>\n",
       "      <td>1673.0</td>\n",
       "      <td>2.0</td>\n",
       "      <td>4.0</td>\n",
       "      <td>[[], []]</td>\n",
       "      <td>/Restaurant_Review-g190454-d12154545-Reviews-C...</td>\n",
       "      <td>d12154545</td>\n",
       "      <td>1</td>\n",
       "      <td>...</td>\n",
       "      <td>6.1730</td>\n",
       "      <td>8.5215</td>\n",
       "      <td>8.964</td>\n",
       "      <td>5.2945</td>\n",
       "      <td>1897000</td>\n",
       "      <td>21</td>\n",
       "      <td>2</td>\n",
       "      <td>55406</td>\n",
       "      <td>1443</td>\n",
       "      <td>1314.622315</td>\n",
       "    </tr>\n",
       "  </tbody>\n",
       "</table>\n",
       "<p>5 rows × 42 columns</p>\n",
       "</div>"
      ],
      "text/plain": [
       "            id    city                                           cuisines  \\\n",
       "29924  id_7912  Madrid                                       ['American']   \n",
       "23011  id_3904  London           ['Fast Food', 'Middle Eastern', 'Halal']   \n",
       "7750   id_7737  London  ['Steakhouse', 'European', 'British', 'Scottis...   \n",
       "18204  id_7277  London  ['Lebanese', 'Mediterranean', 'Middle Eastern'...   \n",
       "14359  id_1672  Vienna                   ['Austrian', 'Cafe', 'European']   \n",
       "\n",
       "       ranking  price_range  number_of_reviews  \\\n",
       "29924   7919.0          2.0                4.0   \n",
       "23011   3911.0          1.0              106.0   \n",
       "7750    1843.0          3.0              234.0   \n",
       "18204   7286.0          1.0               45.0   \n",
       "14359   1673.0          2.0                4.0   \n",
       "\n",
       "                                                 reviews  \\\n",
       "29924                                           [[], []]   \n",
       "23011  [['The Best.', 'The Best on KINGS ROAD'], ['07...   \n",
       "7750   [['Always delivers', 'Steak and Jazz'], ['01/0...   \n",
       "18204  [[\"LAMB SHERWAMA - IT'S A WRAP\", 'Very Good Le...   \n",
       "14359                                           [[], []]   \n",
       "\n",
       "                                                    link        id2  train  \\\n",
       "29924  /Restaurant_Review-g187514-d7595637-Reviews-Re...   d7595637      1   \n",
       "23011  /Restaurant_Review-g186338-d1195259-Reviews-Ke...   d1195259      1   \n",
       "7750   /Restaurant_Review-g186338-d1386569-Reviews-Bo...   d1386569      0   \n",
       "18204  /Restaurant_Review-g186338-d3862786-Reviews-Be...   d3862786      1   \n",
       "14359  /Restaurant_Review-g190454-d12154545-Reviews-C...  d12154545      1   \n",
       "\n",
       "       ...  internet_access  leisure_and_culture  tolerance  outdoors  \\\n",
       "29924  ...           6.2410               9.3380      7.665    6.2200   \n",
       "23011  ...           5.8455               9.4555      6.573    5.3745   \n",
       "7750   ...           5.8455               9.4555      6.573    5.3745   \n",
       "18204  ...           5.8455               9.4555      6.573    5.3745   \n",
       "14359  ...           6.1730               8.5215      8.964    5.2945   \n",
       "\n",
       "       population  purchasing_power_index  tourist_attraction    gdp  \\\n",
       "29924     6642000                      23                   2  38143   \n",
       "23011     8982000                      24                   1  44288   \n",
       "7750      8982000                      24                   1  44288   \n",
       "18204     8982000                      24                   1  44288   \n",
       "14359     1897000                      21                   2  55406   \n",
       "\n",
       "       number_of_restaurants  people_per_rest  \n",
       "29924                   3813      1741.935484  \n",
       "23011                   7193      1248.714028  \n",
       "7750                    7193      1248.714028  \n",
       "18204                   7193      1248.714028  \n",
       "14359                   1443      1314.622315  \n",
       "\n",
       "[5 rows x 42 columns]"
      ]
     },
     "execution_count": 96,
     "metadata": {},
     "output_type": "execute_result"
    }
   ],
   "source": [
    "df.sample(5)"
   ]
  },
  {
   "cell_type": "markdown",
   "id": "dccc3bf3",
   "metadata": {},
   "source": [
    "#### cuisines"
   ]
  },
  {
   "cell_type": "code",
   "execution_count": 97,
   "id": "6bd09b95",
   "metadata": {},
   "outputs": [],
   "source": [
    "df[\"cuisines\"] = df.cuisines.apply(literal_eval)\n",
    "# превратим почти списки в настоящие списки"
   ]
  },
  {
   "cell_type": "code",
   "execution_count": 98,
   "id": "99afb315",
   "metadata": {},
   "outputs": [],
   "source": [
    "# cuisine_frequency = df.cuisines.explode().value_counts() # посчитаем частоту встречаемости кухонь\n",
    "# least_popular = cuisine_frequency[cuisine_frequency < 50].index # посмотрим наименее популярные кухни"
   ]
  },
  {
   "cell_type": "code",
   "execution_count": 99,
   "id": "fadf3f14",
   "metadata": {},
   "outputs": [],
   "source": [
    "# def rare_cuisine_count(cell):\n",
    "#     number = 0\n",
    "#     for i in least_popular:\n",
    "#         if i in cell:\n",
    "#             number += 1\n",
    "#     return number"
   ]
  },
  {
   "cell_type": "code",
   "execution_count": 100,
   "id": "2f929477",
   "metadata": {},
   "outputs": [],
   "source": [
    "# df[\"rare_cuisines\"] = df[\"cuisines\"].apply(rare_cuisine_count)"
   ]
  },
  {
   "cell_type": "code",
   "execution_count": 101,
   "id": "d2976d43",
   "metadata": {},
   "outputs": [],
   "source": [
    "# get_boxplot(\"rare_cuisines\")"
   ]
  },
  {
   "cell_type": "code",
   "execution_count": 102,
   "id": "4c87dc07",
   "metadata": {},
   "outputs": [],
   "source": [
    "df[\"number_of_cuisines\"] = df.cuisines.apply(lambda x: len(x)) \n",
    "# сделаем признак количества кухонь в ресторане"
   ]
  },
  {
   "cell_type": "code",
   "execution_count": 103,
   "id": "af1369e1",
   "metadata": {},
   "outputs": [
    {
     "data": {
      "image/png": "[encoded data removed]",
      "text/plain": [
       "<Figure size 864x432 with 1 Axes>"
      ]
     },
     "metadata": {
      "needs_background": "light"
     },
     "output_type": "display_data"
    }
   ],
   "source": [
    "df[\"number_of_cuisines\"].hist(bins=100);"
   ]
  },
  {
   "cell_type": "code",
   "execution_count": 104,
   "id": "1f398fd5",
   "metadata": {},
   "outputs": [],
   "source": [
    "cuisines = df[\"cuisines\"].explode().value_counts(ascending=False).index\n",
    "top_cuisines = cuisines[:5].tolist()"
   ]
  },
  {
   "cell_type": "code",
   "execution_count": 105,
   "id": "787f85fe",
   "metadata": {},
   "outputs": [],
   "source": [
    "for col in top_cuisines:\n",
    "    df[col.lower().replace(\" \", \"_\")] = df[\"cuisines\"].apply(lambda x: 1 if col in x else 0)\n",
    "    \n",
    "df[\"other_cuisines\"] = df[\"cuisines\"].apply(lambda x: 1 if all([cus not in top_cuisines for cus in x]) else 0)"
   ]
  },
  {
   "cell_type": "code",
   "execution_count": 106,
   "id": "09ac5be1",
   "metadata": {},
   "outputs": [],
   "source": [
    "cuisines_by_city = {} # посчитаем, сколько кухонь встречается в каждом из городов\n",
    "for city in cities:\n",
    "    cuisines_by_city[city] = len(df[df[\"city\"] == city].cuisines.explode().value_counts())"
   ]
  },
  {
   "cell_type": "code",
   "execution_count": 107,
   "id": "12dbe418",
   "metadata": {},
   "outputs": [],
   "source": [
    "cuisines_in_city = df[\"city\"].map(cuisines_by_city)"
   ]
  },
  {
   "cell_type": "code",
   "execution_count": 108,
   "id": "2f5fea3a",
   "metadata": {},
   "outputs": [],
   "source": [
    "df[\"weighed_cuisines_count\"] = df[\"number_of_cuisines\"] / cuisines_in_city"
   ]
  },
  {
   "cell_type": "code",
   "execution_count": 109,
   "id": "592fc195",
   "metadata": {},
   "outputs": [],
   "source": [
    "# def got_vegan(row):\n",
    "#     vegan_cuisines = [\"Vegetarian Friendly\", \"Vegan Options\", \"Gluten Free Options\", \"Healthy\"]\n",
    "#     for i in vegan_cuisines:\n",
    "#         if i in row[\"cuisines\"]:\n",
    "#             return 1\n",
    "#     return 0"
   ]
  },
  {
   "cell_type": "code",
   "execution_count": 110,
   "id": "cf8846ed",
   "metadata": {},
   "outputs": [],
   "source": [
    "# def got_junk_food(row):\n",
    "#     pop_cuisines = [\"Cafe\", \"Grill\", \"International\", \"Mediterranean\", \"Fast Food\", \"Pizza\", \"Pub\", \"Sushi\"]\n",
    "#     for i in pop_cuisines:\n",
    "#         if i in row[\"cuisines\"]:\n",
    "#             return 1\n",
    "#     return 0"
   ]
  },
  {
   "cell_type": "code",
   "execution_count": 111,
   "id": "3372aa81",
   "metadata": {},
   "outputs": [],
   "source": [
    "# df[\"vegan_include\"] = df.apply(got_vegan, axis=1)"
   ]
  },
  {
   "cell_type": "code",
   "execution_count": 112,
   "id": "6a78e588",
   "metadata": {},
   "outputs": [],
   "source": [
    "# df[\"popular_cuisine_include\"] = df.apply(got_junk_food, axis=1)"
   ]
  },
  {
   "cell_type": "code",
   "execution_count": 113,
   "id": "3a3e3e0e",
   "metadata": {},
   "outputs": [
    {
     "data": {
      "text/html": [
       "<div>\n",
       "<style scoped>\n",
       "    .dataframe tbody tr th:only-of-type {\n",
       "        vertical-align: middle;\n",
       "    }\n",
       "\n",
       "    .dataframe tbody tr th {\n",
       "        vertical-align: top;\n",
       "    }\n",
       "\n",
       "    .dataframe thead th {\n",
       "        text-align: right;\n",
       "    }\n",
       "</style>\n",
       "<table border=\"1\" class=\"dataframe\">\n",
       "  <thead>\n",
       "    <tr style=\"text-align: right;\">\n",
       "      <th></th>\n",
       "      <th>id</th>\n",
       "      <th>city</th>\n",
       "      <th>cuisines</th>\n",
       "      <th>ranking</th>\n",
       "      <th>price_range</th>\n",
       "      <th>number_of_reviews</th>\n",
       "      <th>reviews</th>\n",
       "      <th>link</th>\n",
       "      <th>id2</th>\n",
       "      <th>train</th>\n",
       "      <th>...</th>\n",
       "      <th>number_of_restaurants</th>\n",
       "      <th>people_per_rest</th>\n",
       "      <th>number_of_cuisines</th>\n",
       "      <th>european</th>\n",
       "      <th>vegetarian_friendly</th>\n",
       "      <th>italian</th>\n",
       "      <th>mediterranean</th>\n",
       "      <th>vegan_options</th>\n",
       "      <th>other_cuisines</th>\n",
       "      <th>weighed_cuisines_count</th>\n",
       "    </tr>\n",
       "  </thead>\n",
       "  <tbody>\n",
       "    <tr>\n",
       "      <th>23825</th>\n",
       "      <td>id_1126</td>\n",
       "      <td>Paris</td>\n",
       "      <td>[French, European]</td>\n",
       "      <td>1127.0</td>\n",
       "      <td>2.0</td>\n",
       "      <td>314.0</td>\n",
       "      <td>[['To discover!', 'Excellent despite tourists'...</td>\n",
       "      <td>/Restaurant_Review-g187147-d945853-Reviews-La_...</td>\n",
       "      <td>d945853</td>\n",
       "      <td>1</td>\n",
       "      <td>...</td>\n",
       "      <td>6108</td>\n",
       "      <td>358.141126</td>\n",
       "      <td>2</td>\n",
       "      <td>1</td>\n",
       "      <td>0</td>\n",
       "      <td>0</td>\n",
       "      <td>0</td>\n",
       "      <td>0</td>\n",
       "      <td>0</td>\n",
       "      <td>0.018182</td>\n",
       "    </tr>\n",
       "    <tr>\n",
       "      <th>15575</th>\n",
       "      <td>id_4798</td>\n",
       "      <td>Berlin</td>\n",
       "      <td>[German]</td>\n",
       "      <td>4800.0</td>\n",
       "      <td>1.0</td>\n",
       "      <td>4.0</td>\n",
       "      <td>[['Standard Berlin \"Backshop\" or bakery but w....</td>\n",
       "      <td>/Restaurant_Review-g187323-d5820326-Reviews-Ca...</td>\n",
       "      <td>d5820326</td>\n",
       "      <td>1</td>\n",
       "      <td>...</td>\n",
       "      <td>2705</td>\n",
       "      <td>1393.345656</td>\n",
       "      <td>1</td>\n",
       "      <td>0</td>\n",
       "      <td>0</td>\n",
       "      <td>0</td>\n",
       "      <td>0</td>\n",
       "      <td>0</td>\n",
       "      <td>1</td>\n",
       "      <td>0.009615</td>\n",
       "    </tr>\n",
       "    <tr>\n",
       "      <th>12334</th>\n",
       "      <td>id_5229</td>\n",
       "      <td>London</td>\n",
       "      <td>[Bar, International, British, European]</td>\n",
       "      <td>5238.0</td>\n",
       "      <td>2.0</td>\n",
       "      <td>72.0</td>\n",
       "      <td>[['Lunchtime visit', 'Great bar just off the m...</td>\n",
       "      <td>/Restaurant_Review-g186338-d698007-Reviews-The...</td>\n",
       "      <td>d698007</td>\n",
       "      <td>1</td>\n",
       "      <td>...</td>\n",
       "      <td>7193</td>\n",
       "      <td>1248.714028</td>\n",
       "      <td>4</td>\n",
       "      <td>1</td>\n",
       "      <td>0</td>\n",
       "      <td>0</td>\n",
       "      <td>0</td>\n",
       "      <td>0</td>\n",
       "      <td>0</td>\n",
       "      <td>0.034483</td>\n",
       "    </tr>\n",
       "    <tr>\n",
       "      <th>46370</th>\n",
       "      <td>id_3903</td>\n",
       "      <td>Prague</td>\n",
       "      <td>[Cafe]</td>\n",
       "      <td>3912.0</td>\n",
       "      <td>2.0</td>\n",
       "      <td>3.0</td>\n",
       "      <td>[[], []]</td>\n",
       "      <td>/Restaurant_Review-g274707-d7123287-Reviews-Ca...</td>\n",
       "      <td>d7123287</td>\n",
       "      <td>1</td>\n",
       "      <td>...</td>\n",
       "      <td>1816</td>\n",
       "      <td>720.814978</td>\n",
       "      <td>1</td>\n",
       "      <td>0</td>\n",
       "      <td>0</td>\n",
       "      <td>0</td>\n",
       "      <td>0</td>\n",
       "      <td>0</td>\n",
       "      <td>1</td>\n",
       "      <td>0.011494</td>\n",
       "    </tr>\n",
       "    <tr>\n",
       "      <th>30619</th>\n",
       "      <td>id_5780</td>\n",
       "      <td>Paris</td>\n",
       "      <td>[Delicatessen]</td>\n",
       "      <td>5781.0</td>\n",
       "      <td>2.0</td>\n",
       "      <td>75.0</td>\n",
       "      <td>[[\"be careful!! They're con artist\", 'The best...</td>\n",
       "      <td>/Restaurant_Review-g187147-d5797162-Reviews-So...</td>\n",
       "      <td>d5797162</td>\n",
       "      <td>1</td>\n",
       "      <td>...</td>\n",
       "      <td>6108</td>\n",
       "      <td>358.141126</td>\n",
       "      <td>1</td>\n",
       "      <td>0</td>\n",
       "      <td>0</td>\n",
       "      <td>0</td>\n",
       "      <td>0</td>\n",
       "      <td>0</td>\n",
       "      <td>1</td>\n",
       "      <td>0.009091</td>\n",
       "    </tr>\n",
       "  </tbody>\n",
       "</table>\n",
       "<p>5 rows × 50 columns</p>\n",
       "</div>"
      ],
      "text/plain": [
       "            id    city                                 cuisines  ranking  \\\n",
       "23825  id_1126   Paris                       [French, European]   1127.0   \n",
       "15575  id_4798  Berlin                                 [German]   4800.0   \n",
       "12334  id_5229  London  [Bar, International, British, European]   5238.0   \n",
       "46370  id_3903  Prague                                   [Cafe]   3912.0   \n",
       "30619  id_5780   Paris                           [Delicatessen]   5781.0   \n",
       "\n",
       "       price_range  number_of_reviews  \\\n",
       "23825          2.0              314.0   \n",
       "15575          1.0                4.0   \n",
       "12334          2.0               72.0   \n",
       "46370          2.0                3.0   \n",
       "30619          2.0               75.0   \n",
       "\n",
       "                                                 reviews  \\\n",
       "23825  [['To discover!', 'Excellent despite tourists'...   \n",
       "15575  [['Standard Berlin \"Backshop\" or bakery but w....   \n",
       "12334  [['Lunchtime visit', 'Great bar just off the m...   \n",
       "46370                                           [[], []]   \n",
       "30619  [[\"be careful!! They're con artist\", 'The best...   \n",
       "\n",
       "                                                    link       id2  train  \\\n",
       "23825  /Restaurant_Review-g187147-d945853-Reviews-La_...   d945853      1   \n",
       "15575  /Restaurant_Review-g187323-d5820326-Reviews-Ca...  d5820326      1   \n",
       "12334  /Restaurant_Review-g186338-d698007-Reviews-The...   d698007      1   \n",
       "46370  /Restaurant_Review-g274707-d7123287-Reviews-Ca...  d7123287      1   \n",
       "30619  /Restaurant_Review-g187147-d5797162-Reviews-So...  d5797162      1   \n",
       "\n",
       "       ...  number_of_restaurants  people_per_rest  number_of_cuisines  \\\n",
       "23825  ...                   6108       358.141126                   2   \n",
       "15575  ...                   2705      1393.345656                   1   \n",
       "12334  ...                   7193      1248.714028                   4   \n",
       "46370  ...                   1816       720.814978                   1   \n",
       "30619  ...                   6108       358.141126                   1   \n",
       "\n",
       "       european  vegetarian_friendly  italian  mediterranean  vegan_options  \\\n",
       "23825         1                    0        0              0              0   \n",
       "15575         0                    0        0              0              0   \n",
       "12334         1                    0        0              0              0   \n",
       "46370         0                    0        0              0              0   \n",
       "30619         0                    0        0              0              0   \n",
       "\n",
       "       other_cuisines  weighed_cuisines_count  \n",
       "23825               0                0.018182  \n",
       "15575               1                0.009615  \n",
       "12334               0                0.034483  \n",
       "46370               1                0.011494  \n",
       "30619               1                0.009091  \n",
       "\n",
       "[5 rows x 50 columns]"
      ]
     },
     "execution_count": 113,
     "metadata": {},
     "output_type": "execute_result"
    }
   ],
   "source": [
    "df.sample(5)"
   ]
  },
  {
   "cell_type": "markdown",
   "id": "568328c7",
   "metadata": {},
   "source": [
    "#### price_range"
   ]
  },
  {
   "cell_type": "code",
   "execution_count": 114,
   "id": "215f0922",
   "metadata": {},
   "outputs": [
    {
     "data": {
      "text/plain": [
       "array([2., 3., 1.])"
      ]
     },
     "execution_count": 114,
     "metadata": {},
     "output_type": "execute_result"
    }
   ],
   "source": [
    "df.price_range.unique() # мы уже закодировали признак"
   ]
  },
  {
   "cell_type": "code",
   "execution_count": 115,
   "id": "5cecc610",
   "metadata": {},
   "outputs": [
    {
     "data": {
      "image/png": "[encoded data removed]",
      "text/plain": [
       "<Figure size 864x288 with 1 Axes>"
      ]
     },
     "metadata": {
      "needs_background": "light"
     },
     "output_type": "display_data"
    }
   ],
   "source": [
    "get_boxplot(\"price_range\")"
   ]
  },
  {
   "cell_type": "markdown",
   "id": "60007281",
   "metadata": {},
   "source": [
    "#### reviews"
   ]
  },
  {
   "cell_type": "code",
   "execution_count": 116,
   "id": "6260388c",
   "metadata": {},
   "outputs": [],
   "source": [
    "df.loc[df.reviews == \"[['Will certainly be back', nan], ['11/26/2017', '07/27/2017']]\", \"reviews\"] = \\\n",
    "    \"[['Will certainly be back', ''], ['11/26/2017', '07/27/2017']]\"\n",
    "df.loc[df.reviews == \"[[nan, 'Good food with decent service'], ['11/21/2017', '07/21/2017']]\", \"reviews\"] = \\\n",
    "    \"[['', 'Good food with decent service'], ['11/21/2017', '07/21/2017']]\"\n",
    "# заменим два значения, содержащие nan"
   ]
  },
  {
   "cell_type": "code",
   "execution_count": 117,
   "id": "96e74499",
   "metadata": {},
   "outputs": [],
   "source": [
    "df.reviews = df.reviews.apply(literal_eval) # превращаем почти списки в списки"
   ]
  },
  {
   "cell_type": "code",
   "execution_count": 118,
   "id": "be9d9ef3",
   "metadata": {},
   "outputs": [],
   "source": [
    "df[\"one_review\"] = (df.reviews.apply(lambda x: len(x[1]))==1).astype('int')"
   ]
  },
  {
   "cell_type": "code",
   "execution_count": 119,
   "id": "e575e733",
   "metadata": {},
   "outputs": [],
   "source": [
    "tokenizer = RegexTokenizer()"
   ]
  },
  {
   "cell_type": "code",
   "execution_count": 120,
   "id": "318359bc",
   "metadata": {},
   "outputs": [],
   "source": [
    "fasttext.FastText.eprint = lambda x: None # магическая строчка, подавляющая warning (посмотрите, что будет без неё)\n",
    "predictor = FastTextSocialNetworkModel(tokenizer=tokenizer)"
   ]
  },
  {
   "cell_type": "code",
   "execution_count": 121,
   "id": "5a338e26",
   "metadata": {},
   "outputs": [],
   "source": [
    "def analyser(reviews):\n",
    "    result = predictor.predict(reviews[0], k=5) \n",
    "    # с помощью библиотеки dostoevsky проанализируем тональность отзывов\n",
    "    if len(reviews[0]) == 0:\n",
    "        return 0, 0\n",
    "    elif len(reviews[0]) == 1:\n",
    "        return result[0][\"positive\"], 0\n",
    "    else:\n",
    "        return result[0][\"positive\"], result[1][\"positive\"]"
   ]
  },
  {
   "cell_type": "code",
   "execution_count": 122,
   "id": "3c7ae81d",
   "metadata": {},
   "outputs": [
    {
     "data": {
      "text/plain": [
       "0                                           (0, 0)\n",
       "1       (0.22816647589206696, 0.03623005375266075)\n",
       "2    (0.08270734548568726, 1.0000003385357559e-05)\n",
       "3      (0.006913838442414999, 0.01591639406979084)\n",
       "4        (0.03022458776831627, 0.0695517510175705)\n",
       "Name: reviews, dtype: object"
      ]
     },
     "execution_count": 122,
     "metadata": {},
     "output_type": "execute_result"
    }
   ],
   "source": [
    "tone = df.reviews.apply(analyser)\n",
    "tone.head()"
   ]
  },
  {
   "cell_type": "code",
   "execution_count": 123,
   "id": "a3582a61",
   "metadata": {},
   "outputs": [],
   "source": [
    "df[\"positive\"], df[\"positive2\"] = tone.apply(lambda x: x[0]), tone.apply(lambda x: x[1])"
   ]
  },
  {
   "cell_type": "code",
   "execution_count": 124,
   "id": "99e24146",
   "metadata": {},
   "outputs": [],
   "source": [
    "def time_to_now(row):\n",
    "    dates = []\n",
    "    for date in row[1]:\n",
    "        dates.append(datetime.strptime(date, '%m/%d/%Y'))\n",
    "    if len(dates) >= 1:\n",
    "        return (datetime.now() - sorted(dates, reverse=True)[0]).days\n",
    "    return 0"
   ]
  },
  {
   "cell_type": "code",
   "execution_count": 125,
   "id": "17b065ea",
   "metadata": {},
   "outputs": [],
   "source": [
    "def timedifference(row):\n",
    "    dates = []\n",
    "    for date in row[1]:\n",
    "        dates.append(datetime.strptime(date, '%m/%d/%Y').timestamp())\n",
    "    if len(dates) == 2:\n",
    "        return abs(dates[0] - dates[1])\n",
    "    return 0"
   ]
  },
  {
   "cell_type": "code",
   "execution_count": 126,
   "id": "00b811f4",
   "metadata": {},
   "outputs": [],
   "source": [
    "df[\"time_from_last_review\"] = df.reviews.apply(time_to_now)"
   ]
  },
  {
   "cell_type": "code",
   "execution_count": 127,
   "id": "7a3c0e65",
   "metadata": {},
   "outputs": [],
   "source": [
    "df[\"time_difference\"] = df.reviews.apply(timedifference)"
   ]
  },
  {
   "cell_type": "code",
   "execution_count": 128,
   "id": "c87e19ab",
   "metadata": {},
   "outputs": [
    {
     "data": {
      "image/png": "[encoded data removed]",
      "text/plain": [
       "<Figure size 720x360 with 2 Axes>"
      ]
     },
     "metadata": {
      "needs_background": "light"
     },
     "output_type": "display_data"
    }
   ],
   "source": [
    "plt.rcParams[\"figure.figsize\"] = (10.0, 5.0)\n",
    "ax = df.plot.scatter(x=\"number_of_reviews\", y=\"time_from_last_review\", c=\"norm_ranking\", colormap=\"viridis_r\")\n",
    "ax.xaxis.get_label().set_visible(True)"
   ]
  },
  {
   "cell_type": "markdown",
   "id": "0fdd9308",
   "metadata": {},
   "source": [
    "#### link\n",
    "Мы уже использовали ссылки для парсинга, удалим их."
   ]
  },
  {
   "cell_type": "markdown",
   "id": "ff2160f3",
   "metadata": {},
   "source": [
    "#### id2"
   ]
  },
  {
   "cell_type": "code",
   "execution_count": 129,
   "id": "11a41bb3",
   "metadata": {},
   "outputs": [],
   "source": [
    "df.id2 = df.id2.apply(lambda x: x[1:]).astype(\"int\")"
   ]
  },
  {
   "cell_type": "code",
   "execution_count": 130,
   "id": "08aa1c62",
   "metadata": {},
   "outputs": [],
   "source": [
    "df.drop([\"id\", \"city\", \"cuisines\", \"reviews\", \"link\", \"ranking\", \"positive2\", \"price_range\", \"healthcare\"], axis=1, inplace=True)\n",
    "# удалим категориальные признаки, а также признаки, ухудшающие модель"
   ]
  },
  {
   "cell_type": "markdown",
   "id": "e672e023",
   "metadata": {},
   "source": [
    "## Матрица корреляций"
   ]
  },
  {
   "cell_type": "code",
   "execution_count": 131,
   "id": "2f135f75",
   "metadata": {
    "scrolled": false
   },
   "outputs": [
    {
     "name": "stdout",
     "output_type": "stream",
     "text": [
      "Determinant of the matrix is 1.352267244827658e-22\n"
     ]
    },
    {
     "data": {
      "image/png": "[encoded data removed]",
      "text/plain": [
       "<Figure size 1080x792 with 2 Axes>"
      ]
     },
     "metadata": {
      "needs_background": "light"
     },
     "output_type": "display_data"
    }
   ],
   "source": [
    "plt.rcParams['figure.figsize'] = (15,11)\n",
    "sns.heatmap(df.drop(\"train\", axis=1).corr(), cmap='vlag');\n",
    "determinant = np.prod(np.linalg.eig(df.corr())[0])\n",
    "print(f\"Determinant of the matrix is {determinant}\")\n",
    "# Очень маленький детерминант"
   ]
  },
  {
   "cell_type": "code",
   "execution_count": 132,
   "id": "7b3c3ab0",
   "metadata": {},
   "outputs": [
    {
     "data": {
      "text/plain": [
       "['number_of_cuisines', 'reviews_nan', 'tourist_attraction', 'venture_capital']"
      ]
     },
     "execution_count": 132,
     "metadata": {},
     "output_type": "execute_result"
    }
   ],
   "source": [
    "drop = features_to_drop(df.drop(\"rating\", axis=1), cut=0.85)\n",
    "# найдём признаки, скоррелированные сильнее 0.85 по модулю\n",
    "drop"
   ]
  },
  {
   "cell_type": "code",
   "execution_count": 133,
   "id": "ba227390",
   "metadata": {},
   "outputs": [],
   "source": [
    "df.drop(drop, axis=1, inplace=True)"
   ]
  },
  {
   "cell_type": "code",
   "execution_count": 134,
   "id": "e34358cd",
   "metadata": {},
   "outputs": [
    {
     "name": "stdout",
     "output_type": "stream",
     "text": [
      "Сильноскоррелированных переменных нет\n"
     ]
    }
   ],
   "source": [
    "features_to_drop(df.drop(\"rating\", axis=1), cut=0.85)"
   ]
  },
  {
   "cell_type": "code",
   "execution_count": 135,
   "id": "eaa8f872",
   "metadata": {
    "scrolled": false
   },
   "outputs": [
    {
     "name": "stdout",
     "output_type": "stream",
     "text": [
      "Determinant of the matrix is 1.4177104449126246e-17\n"
     ]
    },
    {
     "data": {
      "image/png": "[encoded data removed]",
      "text/plain": [
       "<Figure size 1080x792 with 2 Axes>"
      ]
     },
     "metadata": {
      "needs_background": "light"
     },
     "output_type": "display_data"
    }
   ],
   "source": [
    "plt.rcParams['figure.figsize'] = (15,11)\n",
    "sns.heatmap(df.drop(\"train\", axis=1).corr(), cmap='vlag');\n",
    "determinant = np.prod(np.linalg.eig(df.corr())[0])\n",
    "print(f\"Determinant of the matrix is {determinant}\")\n",
    "# Детерминант всё ещё очень маленький, но я не уверен, что с этим ещё можно сделать"
   ]
  },
  {
   "cell_type": "markdown",
   "id": "537783ed",
   "metadata": {},
   "source": [
    "## Разбиение данных"
   ]
  },
  {
   "cell_type": "code",
   "execution_count": 150,
   "id": "54dd11c0",
   "metadata": {},
   "outputs": [],
   "source": [
    "seed = 20726"
   ]
  },
  {
   "cell_type": "code",
   "execution_count": 151,
   "id": "fb52eb6e",
   "metadata": {},
   "outputs": [],
   "source": [
    "train_data = df[df.train == 1].drop([\"train\"], axis=1)\n",
    "test_data = df[df.train == 0].drop([\"train\", \"rating\"], axis=1)"
   ]
  },
  {
   "cell_type": "code",
   "execution_count": 152,
   "id": "264fe192",
   "metadata": {},
   "outputs": [],
   "source": [
    "X = train_data.drop([\"rating\"], axis=1)\n",
    "y = train_data.rating.values"
   ]
  },
  {
   "cell_type": "code",
   "execution_count": 153,
   "id": "30203104",
   "metadata": {},
   "outputs": [],
   "source": [
    "X_train, X_test, y_train, y_test = train_test_split(X, y, test_size=0.2, random_state=seed)"
   ]
  },
  {
   "cell_type": "markdown",
   "id": "5cf79bc8",
   "metadata": {},
   "source": [
    "## Обучение модели"
   ]
  },
  {
   "cell_type": "code",
   "execution_count": 154,
   "id": "c0a22272",
   "metadata": {},
   "outputs": [],
   "source": [
    "regressor = RandomForestRegressor(n_estimators=100, verbose=1, n_jobs=-1, random_state=seed)"
   ]
  },
  {
   "cell_type": "code",
   "execution_count": 155,
   "id": "b1ed65a1",
   "metadata": {},
   "outputs": [
    {
     "name": "stderr",
     "output_type": "stream",
     "text": [
      "[Parallel(n_jobs=-1)]: Using backend ThreadingBackend with 8 concurrent workers.\n",
      "[Parallel(n_jobs=-1)]: Done  34 tasks      | elapsed:    2.1s\n",
      "[Parallel(n_jobs=-1)]: Done 100 out of 100 | elapsed:    5.7s finished\n"
     ]
    },
    {
     "data": {
      "text/plain": [
       "RandomForestRegressor(n_jobs=-1, random_state=20726, verbose=1)"
      ]
     },
     "execution_count": 155,
     "metadata": {},
     "output_type": "execute_result"
    }
   ],
   "source": [
    "regressor.fit(X_train, y_train)"
   ]
  },
  {
   "cell_type": "code",
   "execution_count": 156,
   "id": "dba0279b",
   "metadata": {},
   "outputs": [
    {
     "name": "stderr",
     "output_type": "stream",
     "text": [
      "[Parallel(n_jobs=8)]: Using backend ThreadingBackend with 8 concurrent workers.\n",
      "[Parallel(n_jobs=8)]: Done  34 tasks      | elapsed:    0.0s\n",
      "[Parallel(n_jobs=8)]: Done 100 out of 100 | elapsed:    0.0s finished\n"
     ]
    },
    {
     "data": {
      "text/plain": [
       "array([3.93 , 3.895, 4.115, ..., 2.335, 4.255, 4.42 ])"
      ]
     },
     "execution_count": 156,
     "metadata": {},
     "output_type": "execute_result"
    }
   ],
   "source": [
    "y_pred = regressor.predict(X_test)\n",
    "y_pred"
   ]
  },
  {
   "cell_type": "code",
   "execution_count": 157,
   "id": "eeb377af",
   "metadata": {},
   "outputs": [],
   "source": [
    "y_pred = (y_pred * 2).round() / 2"
   ]
  },
  {
   "cell_type": "code",
   "execution_count": 158,
   "id": "7ab2f8b8",
   "metadata": {},
   "outputs": [
    {
     "name": "stdout",
     "output_type": "stream",
     "text": [
      "MAE: 0.1696875\n"
     ]
    }
   ],
   "source": [
    "print(\"MAE:\", mean_absolute_error(y_test, y_pred))\n",
    "# MAE: 0.1696875"
   ]
  },
  {
   "cell_type": "code",
   "execution_count": 159,
   "id": "aff60b46",
   "metadata": {
    "scrolled": true
   },
   "outputs": [
    {
     "data": {
      "image/png": "[encoded data removed]",
      "text/plain": [
       "<Figure size 720x720 with 1 Axes>"
      ]
     },
     "metadata": {
      "needs_background": "light"
     },
     "output_type": "display_data"
    }
   ],
   "source": [
    "plt.rcParams[\"figure.figsize\"] = (10,10)\n",
    "importances = pd.Series(regressor.feature_importances_, index=X_train.columns)\n",
    "importances.nlargest(15).plot.bar();"
   ]
  },
  {
   "cell_type": "markdown",
   "id": "4d341716",
   "metadata": {},
   "source": [
    "## Финальное предсказание"
   ]
  },
  {
   "cell_type": "code",
   "execution_count": 160,
   "id": "2b2aee12",
   "metadata": {},
   "outputs": [
    {
     "name": "stderr",
     "output_type": "stream",
     "text": [
      "[Parallel(n_jobs=8)]: Using backend ThreadingBackend with 8 concurrent workers.\n",
      "[Parallel(n_jobs=8)]: Done  34 tasks      | elapsed:    0.0s\n",
      "[Parallel(n_jobs=8)]: Done 100 out of 100 | elapsed:    0.0s finished\n"
     ]
    }
   ],
   "source": [
    "predict_submission = regressor.predict(test_data)"
   ]
  },
  {
   "cell_type": "code",
   "execution_count": 161,
   "id": "112201d2",
   "metadata": {},
   "outputs": [
    {
     "data": {
      "text/plain": [
       "array([3. , 4. , 4.5, 4.5, 4.5, 4.5, 1.5, 2.5, 4. , 4.5])"
      ]
     },
     "execution_count": 161,
     "metadata": {},
     "output_type": "execute_result"
    }
   ],
   "source": [
    "predict_submission = (predict_submission * 2).round() / 2\n",
    "predict_submission[:10]"
   ]
  },
  {
   "cell_type": "code",
   "execution_count": 162,
   "id": "7e8b4e5b",
   "metadata": {},
   "outputs": [],
   "source": [
    "sample_submission[\"Rating\"] = predict_submission"
   ]
  },
  {
   "cell_type": "code",
   "execution_count": 163,
   "id": "b7159b68",
   "metadata": {},
   "outputs": [],
   "source": [
    "sample_submission.to_csv(\"submission.csv\", index=False)"
   ]
  }
 ],
 "metadata": {
  "kernelspec": {
   "display_name": "Python 3",
   "language": "python",
   "name": "python3"
  },
  "language_info": {
   "codemirror_mode": {
    "name": "ipython",
    "version": 3
   },
   "file_extension": ".py",
   "mimetype": "text/x-python",
   "name": "python",
   "nbconvert_exporter": "python",
   "pygments_lexer": "ipython3",
   "version": "3.8.11"
  }
 },
 "nbformat": 4,
 "nbformat_minor": 5
}